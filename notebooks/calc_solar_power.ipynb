{
 "cells": [
  {
   "cell_type": "markdown",
   "id": "2be79625-8855-45b2-88e8-e408c242e02c",
   "metadata": {},
   "source": [
    "# Setup Spark Cluster"
   ]
  },
  {
   "cell_type": "code",
   "execution_count": 37,
   "id": "5db0efd9-3ac3-4afe-b822-5b0ddb396dd1",
   "metadata": {},
   "outputs": [],
   "source": [
    "from pyspark.sql import SparkSession"
   ]
  },
  {
   "cell_type": "code",
   "execution_count": 38,
   "id": "0644d5d4-09c1-47f3-8fca-8bcfbe9da01d",
   "metadata": {},
   "outputs": [
    {
     "name": "stderr",
     "output_type": "stream",
     "text": [
      "24/12/27 15:36:42 WARN Utils: Service 'SparkUI' could not bind on port 4040. Attempting port 4041.\n"
     ]
    }
   ],
   "source": [
    "spark = (\n",
    "    SparkSession\n",
    "    .builder\n",
    "    .appName(\"Solar Power\")\n",
    "    .master(\"spark://ea99ad5384cf:7077\")\n",
    "    .config(\"spark.executor.cores\", 1)\n",
    "    .config(\"spark.cores.max\", 6)\n",
    "    .config(\"spark.executor.memory\", \"512M\")\n",
    "    .getOrCreate()\n",
    ")"
   ]
  },
  {
   "cell_type": "code",
   "execution_count": 39,
   "id": "79ef563c-97a5-4437-a377-1b70fa0614d2",
   "metadata": {},
   "outputs": [
    {
     "data": {
      "text/html": [
       "\n",
       "            <div>\n",
       "                <p><b>SparkSession - in-memory</b></p>\n",
       "                \n",
       "        <div>\n",
       "            <p><b>SparkContext</b></p>\n",
       "\n",
       "            <p><a href=\"http://ea99ad5384cf:4041\">Spark UI</a></p>\n",
       "\n",
       "            <dl>\n",
       "              <dt>Version</dt>\n",
       "                <dd><code>v3.5.1</code></dd>\n",
       "              <dt>Master</dt>\n",
       "                <dd><code>spark://ea99ad5384cf:7077</code></dd>\n",
       "              <dt>AppName</dt>\n",
       "                <dd><code>Solar Power</code></dd>\n",
       "            </dl>\n",
       "        </div>\n",
       "        \n",
       "            </div>\n",
       "        "
      ],
      "text/plain": [
       "<pyspark.sql.session.SparkSession at 0x7fe4f3f1e220>"
      ]
     },
     "execution_count": 39,
     "metadata": {},
     "output_type": "execute_result"
    }
   ],
   "source": [
    "spark"
   ]
  },
  {
   "cell_type": "markdown",
   "id": "a08a43d5-5bf4-42a0-b218-3713c82a0faf",
   "metadata": {},
   "source": [
    "# Read Weather CSV data"
   ]
  },
  {
   "cell_type": "code",
   "execution_count": 40,
   "id": "a34b081b-e00b-4f04-b6b9-fdc2ae5b1636",
   "metadata": {},
   "outputs": [],
   "source": [
    "# Read Weather CSV data\n",
    "from pyspark.sql import functions as F\n",
    "\n",
    "_schema = \"timestamp timestamp, solar_intensity float, temp float\"\n",
    "\n",
    "weather_df = spark.read.format(\"csv\").schema(_schema).option(\"header\", True)\\\n",
    "                   .load(\"/home/iceberg/warehouse/weather_history_splitted_resampled/2013-01-01.csv\")\\\n",
    "                   .withColumn(\"15_min_interval\", F.floor((F.hour(F.col(\"timestamp\"))*60 + F.minute(F.col(\"timestamp\")) - 60) / 15))"
   ]
  },
  {
   "cell_type": "code",
   "execution_count": 41,
   "id": "26a98505-e315-45b9-a401-45d8dcfe2ae6",
   "metadata": {},
   "outputs": [
    {
     "name": "stdout",
     "output_type": "stream",
     "text": [
      "root\n",
      " |-- timestamp: timestamp (nullable = true)\n",
      " |-- solar_intensity: float (nullable = true)\n",
      " |-- temp: float (nullable = true)\n",
      " |-- 15_min_interval: long (nullable = true)\n",
      "\n"
     ]
    }
   ],
   "source": [
    "weather_df.printSchema()"
   ]
  },
  {
   "cell_type": "code",
   "execution_count": null,
   "id": "bb54ca7b-8409-40a3-b5b7-6ad665a05f2a",
   "metadata": {},
   "outputs": [],
   "source": []
  },
  {
   "cell_type": "code",
   "execution_count": null,
   "id": "504a8c32-698a-4fab-9065-913e631d1f70",
   "metadata": {},
   "outputs": [],
   "source": []
  },
  {
   "cell_type": "markdown",
   "id": "ae28b256-db96-4d2e-938a-b0eacbadcaeb",
   "metadata": {},
   "source": [
    "# Optimize Number of Partitions and Shuffle "
   ]
  },
  {
   "cell_type": "code",
   "execution_count": 42,
   "id": "d92740f1-7b2b-4fff-9aba-2a107f125d5c",
   "metadata": {},
   "outputs": [
    {
     "name": "stdout",
     "output_type": "stream",
     "text": [
      "# shiffle:  200\n",
      "# partitions:  6\n"
     ]
    }
   ],
   "source": [
    "# Check Spark Shuffle Partition setting\n",
    "\n",
    "print(\"# shiffle: \", spark.conf.get(\"spark.sql.shuffle.partitions\"))\n",
    "print(\"# partitions: \", weather_df.rdd.getNumPartitions())"
   ]
  },
  {
   "cell_type": "code",
   "execution_count": 43,
   "id": "e4c845ae-8501-45aa-aa32-f74048de7d1d",
   "metadata": {},
   "outputs": [
    {
     "data": {
      "text/plain": [
       "6"
      ]
     },
     "execution_count": 43,
     "metadata": {},
     "output_type": "execute_result"
    }
   ],
   "source": [
    "spark.sparkContext.defaultParallelism"
   ]
  },
  {
   "cell_type": "code",
   "execution_count": 44,
   "id": "a6b3e807-f594-4965-9de0-89e13420e7d0",
   "metadata": {},
   "outputs": [],
   "source": [
    "spark.conf.set(\"spark.sql.shuffle.partitions\", 92)\n",
    "weather_partitioned_df = weather_df.repartition(92, F.col('15_min_interval'))"
   ]
  },
  {
   "cell_type": "code",
   "execution_count": 49,
   "id": "5fb2ea6d-aaef-4328-8afc-5a89c9ba17b7",
   "metadata": {},
   "outputs": [
    {
     "name": "stdout",
     "output_type": "stream",
     "text": [
      "# shiffle:  92\n"
     ]
    },
    {
     "name": "stderr",
     "output_type": "stream",
     "text": [
      "[Stage 3:=======================================>                   (4 + 2) / 6]\r"
     ]
    },
    {
     "name": "stdout",
     "output_type": "stream",
     "text": [
      "# partitions:  92\n"
     ]
    }
   ],
   "source": [
    "print(\"# shiffle: \", spark.conf.get(\"spark.sql.shuffle.partitions\"))\n",
    "print(\"# partitions: \", weather_partitioned_df.rdd.getNumPartitions())"
   ]
  },
  {
   "cell_type": "code",
   "execution_count": 35,
   "id": "124d061d-234c-4a8e-a015-27969d5162aa",
   "metadata": {},
   "outputs": [
    {
     "name": "stderr",
     "output_type": "stream",
     "text": [
      "                                                                                \r"
     ]
    },
    {
     "name": "stdout",
     "output_type": "stream",
     "text": [
      "+--------------------+---------------+----------+---------------+\n",
      "|           timestamp|solar_intensity|      temp|15_min_interval|\n",
      "+--------------------+---------------+----------+---------------+\n",
      "| 2013-01-01 21:15:00|            0.0|     14.25|             81|\n",
      "|2013-01-01 21:15:...|            0.0| 14.250009|             81|\n",
      "|2013-01-01 21:15:...|            0.0| 14.250016|             81|\n",
      "|2013-01-01 21:15:...|            0.0| 14.250025|             81|\n",
      "|2013-01-01 21:15:...|            0.0| 14.250033|             81|\n",
      "|2013-01-01 21:15:...|            0.0| 14.250042|             81|\n",
      "|2013-01-01 21:15:...|            0.0|  14.25005|             81|\n",
      "|2013-01-01 21:15:...|            0.0| 14.250058|             81|\n",
      "|2013-01-01 21:15:...|            0.0| 14.250067|             81|\n",
      "|2013-01-01 21:15:...|            0.0| 14.250075|             81|\n",
      "|2013-01-01 21:15:...|            0.0| 14.250083|             81|\n",
      "|2013-01-01 21:15:...|            0.0| 14.250092|             81|\n",
      "|2013-01-01 21:15:...|            0.0|   14.2501|             81|\n",
      "|2013-01-01 21:15:...|            0.0| 14.250109|             81|\n",
      "|2013-01-01 21:15:...|            0.0| 14.250116|             81|\n",
      "|2013-01-01 21:15:...|            0.0| 14.250125|             81|\n",
      "|2013-01-01 21:15:...|            0.0|14.2501335|             81|\n",
      "|2013-01-01 21:15:...|            0.0| 14.250142|             81|\n",
      "|2013-01-01 21:15:...|            0.0|  14.25015|             81|\n",
      "|2013-01-01 21:15:...|            0.0| 14.250158|             81|\n",
      "+--------------------+---------------+----------+---------------+\n",
      "only showing top 20 rows\n",
      "\n"
     ]
    }
   ],
   "source": [
    "# weather_partitioned_df.show()"
   ]
  },
  {
   "cell_type": "markdown",
   "id": "b8c0d174-5694-4fa0-9609-9621712ce669",
   "metadata": {},
   "source": [
    "# Calc Solar Power"
   ]
  },
  {
   "cell_type": "markdown",
   "id": "6bb95254-7da7-4659-a640-22886e11cd73",
   "metadata": {},
   "source": [
    "solar_panel_rating_kwh*1000 -> to get wh\n",
    "\n",
    "solar_panel_rating_kwh*`1000/(60*60*1000/5)`\n",
    "\n",
    "------------------------------------^ first `60` to convert hour to minute\n",
    "\n",
    "-----------------------------------------^ second `60` is to convert minute to seconds\n",
    "\n",
    "------------------------------------------------^ `1000` is to convert seconds to ms, and `/5` because the date is sampled each `5ms`\n",
    "\n",
    "</br>\n",
    "\n",
    "solar panel power rating (in our example `10kwh`) is taken at `1000W/square meters` solar intensity\n",
    "and `25c` temperature\n",
    "\n",
    "</br>\n",
    "as solar_intensity increases the generated power increases, and as temp increase the generated power decreases"
   ]
  },
  {
   "cell_type": "code",
   "execution_count": 45,
   "id": "f82f7c43-fc54-4725-8fe9-972e78328b61",
   "metadata": {},
   "outputs": [],
   "source": [
    "solar_panel_rating_kwh = 10\n",
    "solar_intensity_power_rating = 1000\n",
    "temp_power_rating = 25\n",
    "\n",
    "solar_panel_rating_w_5ms = solar_panel_rating_kwh*1000/(60*60*1000/5)\n",
    "\n",
    "\"\"\"\n",
    "solar_power_w = solar_panel_rating_w_5ms * (1 /(1 - (temp_power_rating - temp)/(temp_power_rating))) \\\n",
    "                                         * (1 - (solar_intensity_power_rating - solar_intensity)/solar_intensity_power_rating)\n",
    "                                         \n",
    "\"\"\"\n",
    "\n",
    "solar_panel_readings_df = weather_partitioned_df.withColumn('current_generation_watt', solar_panel_rating_w_5ms \\\n",
    "                * (1 /(1 - (temp_power_rating - F.col(\"temp\"))/(temp_power_rating))) \\\n",
    "                * (1 - (solar_intensity_power_rating - F.col(\"solar_intensity\"))/solar_intensity_power_rating) \\\n",
    "                                                           ).drop(\"solar_intensity\", \"temp\")"
   ]
  },
  {
   "cell_type": "code",
   "execution_count": 46,
   "id": "8a9aa269-7686-4fa1-830a-31d0f8471e30",
   "metadata": {},
   "outputs": [
    {
     "name": "stdout",
     "output_type": "stream",
     "text": [
      "root\n",
      " |-- timestamp: timestamp (nullable = true)\n",
      " |-- 15_min_interval: long (nullable = true)\n",
      " |-- current_generation_watt: double (nullable = true)\n",
      "\n"
     ]
    }
   ],
   "source": [
    "solar_panel_readings_df.printSchema()"
   ]
  },
  {
   "cell_type": "code",
   "execution_count": null,
   "id": "8673aec8-6e41-4391-a4ca-d46929e62603",
   "metadata": {},
   "outputs": [],
   "source": []
  },
  {
   "cell_type": "code",
   "execution_count": 47,
   "id": "457f6fc9-38a0-4de2-b88b-c4dd4aa8ea24",
   "metadata": {},
   "outputs": [
    {
     "name": "stderr",
     "output_type": "stream",
     "text": [
      "                                                                                \r"
     ]
    }
   ],
   "source": [
    "solar_panel_readings_df.write.format(\"csv\").option(\"header\", True).mode(\"overwrite\").partitionBy(\"15_min_interval\") \\\n",
    "                       .save(\"/home/iceberg/warehouse/weather_history_splitted_resampled/solar_panel_readings/2013-01-01.csv\")"
   ]
  },
  {
   "cell_type": "code",
   "execution_count": 48,
   "id": "d7b4ff57-8b51-4de0-bef1-195021a5c1ec",
   "metadata": {},
   "outputs": [
    {
     "name": "stdout",
     "output_type": "stream",
     "text": [
      "== Physical Plan ==\n",
      "AdaptiveSparkPlan isFinalPlan=false\n",
      "+- Project [timestamp#110, 15_min_interval#116L, (((1.0 / (1.0 - (cast((25.0 - temp#112) as double) / 25.0))) * 0.013888888888888888) * (1.0 - (cast((1000.0 - solar_intensity#111) as double) / 1000.0))) AS current_generation_watt#125]\n",
      "   +- Exchange hashpartitioning(15_min_interval#116L, 92), REPARTITION_BY_NUM, [plan_id=447]\n",
      "      +- Project [timestamp#110, solar_intensity#111, temp#112, FLOOR((cast((((hour(timestamp#110, Some(Etc/UTC)) * 60) + minute(timestamp#110, Some(Etc/UTC))) - 60) as double) / 15.0)) AS 15_min_interval#116L]\n",
      "         +- FileScan csv [timestamp#110,solar_intensity#111,temp#112] Batched: false, DataFilters: [], Format: CSV, Location: InMemoryFileIndex(1 paths)[file:/home/iceberg/warehouse/weather_history_splitted_resampled/2013-0..., PartitionFilters: [], PushedFilters: [], ReadSchema: struct<timestamp:timestamp,solar_intensity:float,temp:float>\n",
      "\n",
      "\n"
     ]
    }
   ],
   "source": [
    "solar_panel_readings_df.explain()"
   ]
  },
  {
   "cell_type": "code",
   "execution_count": 50,
   "id": "b1b0eb74-ac43-4847-9a85-ac335dbf4ed1",
   "metadata": {},
   "outputs": [
    {
     "name": "stderr",
     "output_type": "stream",
     "text": [
      "                                                                                \r"
     ]
    },
    {
     "name": "stdout",
     "output_type": "stream",
     "text": [
      "+---------------+---------------------------+\n",
      "|15_min_interval|avg_current_generation_watt|\n",
      "+---------------+---------------------------+\n",
      "|             81|                        0.0|\n",
      "|             91|                        0.0|\n",
      "|             19|                        0.0|\n",
      "|             90|                        0.0|\n",
      "|             35|         3446.0537665243382|\n",
      "|             61|         2138.1184121672377|\n",
      "|              4|                        0.0|\n",
      "|             33|         3567.1697686414577|\n",
      "|             11|                        0.0|\n",
      "|             57|          2621.049297203433|\n",
      "|             20|                        0.0|\n",
      "|             15|                        0.0|\n",
      "|             25|                        0.0|\n",
      "|             38|          3339.619220014445|\n",
      "|             86|                        0.0|\n",
      "|             28|         1918.5592792420696|\n",
      "|             34|          3707.909386065704|\n",
      "|             42|          3099.275463319669|\n",
      "|             10|                        0.0|\n",
      "|             24|                        0.0|\n",
      "+---------------+---------------------------+\n",
      "only showing top 20 rows\n",
      "\n"
     ]
    }
   ],
   "source": [
    "solar_panel_readings_df.groupBy(\"15_min_interval\").agg(F.sum(\"current_generation_watt\").alias(\"avg_current_generation_watt\")).show()"
   ]
  },
  {
   "cell_type": "code",
   "execution_count": null,
   "id": "4a984708-57e8-4d8d-ad0f-312dc884bbac",
   "metadata": {},
   "outputs": [],
   "source": []
  },
  {
   "cell_type": "code",
   "execution_count": null,
   "id": "3955e0e8-47ec-4f5c-94f2-57fcb41b3a67",
   "metadata": {},
   "outputs": [],
   "source": []
  },
  {
   "cell_type": "code",
   "execution_count": 52,
   "id": "24186544-ab21-4d90-9b04-e0503e19aa48",
   "metadata": {},
   "outputs": [],
   "source": [
    "spark.stop()"
   ]
  },
  {
   "cell_type": "code",
   "execution_count": null,
   "id": "30bcb423-6c15-48b7-9bb8-c506be165f9e",
   "metadata": {},
   "outputs": [],
   "source": []
  }
 ],
 "metadata": {
  "kernelspec": {
   "display_name": "Python 3 (ipykernel)",
   "language": "python",
   "name": "python3"
  },
  "language_info": {
   "codemirror_mode": {
    "name": "ipython",
    "version": 3
   },
   "file_extension": ".py",
   "mimetype": "text/x-python",
   "name": "python",
   "nbconvert_exporter": "python",
   "pygments_lexer": "ipython3",
   "version": "3.9.18"
  }
 },
 "nbformat": 4,
 "nbformat_minor": 5
}
