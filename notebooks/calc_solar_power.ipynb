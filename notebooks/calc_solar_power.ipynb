{
 "cells": [
  {
   "cell_type": "markdown",
   "id": "2be79625-8855-45b2-88e8-e408c242e02c",
   "metadata": {},
   "source": [
    "# Setup Spark Cluster"
   ]
  },
  {
   "cell_type": "code",
   "execution_count": 123,
   "id": "5db0efd9-3ac3-4afe-b822-5b0ddb396dd1",
   "metadata": {},
   "outputs": [],
   "source": [
    "from pyspark.sql import SparkSession"
   ]
  },
  {
   "cell_type": "code",
   "execution_count": 124,
   "id": "0644d5d4-09c1-47f3-8fca-8bcfbe9da01d",
   "metadata": {},
   "outputs": [],
   "source": [
    "spark = (\n",
    "    SparkSession\n",
    "    .builder\n",
    "    .appName(\"Solar Power\")\n",
    "    .master(\"spark://9611ff031a11:7077\")\n",
    "    .config(\"spark.executor.cores\", 1)\n",
    "    .config(\"spark.cores.max\", 6)\n",
    "    .config(\"spark.executor.memory\", \"512M\")\n",
    "    .getOrCreate()\n",
    ")"
   ]
  },
  {
   "cell_type": "code",
   "execution_count": 125,
   "id": "79ef563c-97a5-4437-a377-1b70fa0614d2",
   "metadata": {},
   "outputs": [
    {
     "data": {
      "text/html": [
       "\n",
       "            <div>\n",
       "                <p><b>SparkSession - in-memory</b></p>\n",
       "                \n",
       "        <div>\n",
       "            <p><b>SparkContext</b></p>\n",
       "\n",
       "            <p><a href=\"http://9611ff031a11:4041\">Spark UI</a></p>\n",
       "\n",
       "            <dl>\n",
       "              <dt>Version</dt>\n",
       "                <dd><code>v3.5.1</code></dd>\n",
       "              <dt>Master</dt>\n",
       "                <dd><code>spark://9611ff031a11:7077</code></dd>\n",
       "              <dt>AppName</dt>\n",
       "                <dd><code>Solar Power</code></dd>\n",
       "            </dl>\n",
       "        </div>\n",
       "        \n",
       "            </div>\n",
       "        "
      ],
      "text/plain": [
       "<pyspark.sql.session.SparkSession at 0x7f2845299a60>"
      ]
     },
     "execution_count": 125,
     "metadata": {},
     "output_type": "execute_result"
    }
   ],
   "source": [
    "spark"
   ]
  },
  {
   "cell_type": "markdown",
   "id": "a08a43d5-5bf4-42a0-b218-3713c82a0faf",
   "metadata": {},
   "source": [
    "# Read Weather CSV data"
   ]
  },
  {
   "cell_type": "code",
   "execution_count": 126,
   "id": "a34b081b-e00b-4f04-b6b9-fdc2ae5b1636",
   "metadata": {},
   "outputs": [],
   "source": [
    "# Read Weather CSV data\n",
    "from pyspark.sql import functions as F\n",
    "\n",
    "_schema = \"timestamp timestamp, solar_intensity float, temp float\"\n",
    "\n",
    "weather_df = spark.read.format(\"csv\").schema(_schema).option(\"header\", True)\\\n",
    "                   .load(\"/home/iceberg/warehouse/weather_history_splitted_resampled/2013-01-01.csv\")\\\n",
    "                   .withColumn(\"hour\", F.hour(F.col(\"timestamp\")))"
   ]
  },
  {
   "cell_type": "code",
   "execution_count": 127,
   "id": "26a98505-e315-45b9-a401-45d8dcfe2ae6",
   "metadata": {},
   "outputs": [
    {
     "name": "stdout",
     "output_type": "stream",
     "text": [
      "root\n",
      " |-- timestamp: timestamp (nullable = true)\n",
      " |-- solar_intensity: float (nullable = true)\n",
      " |-- temp: float (nullable = true)\n",
      " |-- hour: integer (nullable = true)\n",
      "\n"
     ]
    }
   ],
   "source": [
    "weather_df.printSchema()"
   ]
  },
  {
   "cell_type": "markdown",
   "id": "ae28b256-db96-4d2e-938a-b0eacbadcaeb",
   "metadata": {},
   "source": [
    "# Optimize Number of Partitions and Shuffle "
   ]
  },
  {
   "cell_type": "code",
   "execution_count": 128,
   "id": "d92740f1-7b2b-4fff-9aba-2a107f125d5c",
   "metadata": {},
   "outputs": [
    {
     "name": "stdout",
     "output_type": "stream",
     "text": [
      "# shiffle:  200\n",
      "# partitions:  6\n"
     ]
    }
   ],
   "source": [
    "# Check Spark Shuffle Partition setting\n",
    "\n",
    "print(\"# shiffle: \", spark.conf.get(\"spark.sql.shuffle.partitions\"))\n",
    "print(\"# partitions: \", weather_df.rdd.getNumPartitions())"
   ]
  },
  {
   "cell_type": "code",
   "execution_count": 129,
   "id": "e4c845ae-8501-45aa-aa32-f74048de7d1d",
   "metadata": {},
   "outputs": [
    {
     "data": {
      "text/plain": [
       "6"
      ]
     },
     "execution_count": 129,
     "metadata": {},
     "output_type": "execute_result"
    }
   ],
   "source": [
    "spark.sparkContext.defaultParallelism"
   ]
  },
  {
   "cell_type": "code",
   "execution_count": 130,
   "id": "a6b3e807-f594-4965-9de0-89e13420e7d0",
   "metadata": {},
   "outputs": [],
   "source": [
    "spark.conf.set(\"spark.sql.shuffle.partitions\", 23)\n",
    "weather_partitioned_df = weather_df.repartition(23, F.col('hour'))"
   ]
  },
  {
   "cell_type": "code",
   "execution_count": 138,
   "id": "5fb2ea6d-aaef-4328-8afc-5a89c9ba17b7",
   "metadata": {},
   "outputs": [
    {
     "name": "stdout",
     "output_type": "stream",
     "text": [
      "# shiffle:  23\n"
     ]
    },
    {
     "name": "stderr",
     "output_type": "stream",
     "text": [
      "[Stage 3:=================================================>         (5 + 1) / 6]\r"
     ]
    },
    {
     "name": "stdout",
     "output_type": "stream",
     "text": [
      "# partitions:  23\n"
     ]
    }
   ],
   "source": [
    "print(\"# shiffle: \", spark.conf.get(\"spark.sql.shuffle.partitions\"))\n",
    "print(\"# partitions: \", weather_partitioned_df.rdd.getNumPartitions())"
   ]
  },
  {
   "cell_type": "code",
   "execution_count": 33,
   "id": "124d061d-234c-4a8e-a015-27969d5162aa",
   "metadata": {},
   "outputs": [
    {
     "name": "stderr",
     "output_type": "stream",
     "text": [
      "[Stage 4:=============================>                             (3 + 3) / 6]\r"
     ]
    },
    {
     "name": "stdout",
     "output_type": "stream",
     "text": [
      "+--------------------+---------------+---------+----+\n",
      "|           timestamp|solar_intensity|     temp|hour|\n",
      "+--------------------+---------------+---------+----+\n",
      "| 2013-01-01 18:00:00|         14.525|   16.835|  18|\n",
      "|2013-01-01 18:00:...|      14.523789| 16.83496|  18|\n",
      "|2013-01-01 18:00:...|      14.522579| 16.83492|  18|\n",
      "|2013-01-01 18:00:...|      14.521369| 16.83488|  18|\n",
      "|2013-01-01 18:00:...|      14.520159| 16.83484|  18|\n",
      "|2013-01-01 18:00:...|      14.518948|16.834803|  18|\n",
      "|2013-01-01 18:00:...|      14.517737|16.834763|  18|\n",
      "|2013-01-01 18:00:...|      14.516527|16.834723|  18|\n",
      "|2013-01-01 18:00:...|      14.515317|16.834682|  18|\n",
      "|2013-01-01 18:00:...|      14.514106|16.834644|  18|\n",
      "|2013-01-01 18:00:...|      14.512896|16.834604|  18|\n",
      "|2013-01-01 18:00:...|      14.511685|16.834564|  18|\n",
      "|2013-01-01 18:00:...|      14.510475|16.834524|  18|\n",
      "|2013-01-01 18:00:...|      14.509265|16.834486|  18|\n",
      "|2013-01-01 18:00:...|      14.508054|16.834446|  18|\n",
      "|2013-01-01 18:00:...|      14.506844|16.834406|  18|\n",
      "|2013-01-01 18:00:...|      14.505633|16.834366|  18|\n",
      "|2013-01-01 18:00:...|      14.504423|16.834328|  18|\n",
      "|2013-01-01 18:00:...|      14.503213|16.834288|  18|\n",
      "|2013-01-01 18:00:...|      14.502002|16.834248|  18|\n",
      "+--------------------+---------------+---------+----+\n",
      "only showing top 20 rows\n",
      "\n"
     ]
    },
    {
     "name": "stderr",
     "output_type": "stream",
     "text": [
      "                                                                                \r"
     ]
    }
   ],
   "source": [
    "# weather_partitioned_df.show()"
   ]
  },
  {
   "cell_type": "code",
   "execution_count": 58,
   "id": "5981356a-669f-4ac3-9055-f7c3a77b53ae",
   "metadata": {},
   "outputs": [],
   "source": [
    "# weather_partitioned_avg_df = weather_partitioned_df.groupBy(\"hour\").agg(F.avg(\"temp\").alias(\"avg_temp\"))\n"
   ]
  },
  {
   "cell_type": "code",
   "execution_count": 59,
   "id": "48f265da-d01e-4000-9b26-8d7719291a85",
   "metadata": {},
   "outputs": [],
   "source": [
    "# Write data for performance Benchmarking\n",
    "\n",
    "# weather_partitioned_avg_df.write.format(\"noop\").mode(\"overwrite\").save()"
   ]
  },
  {
   "cell_type": "code",
   "execution_count": 43,
   "id": "2e346504-0b8d-45ce-a1fa-cb727ecbf70c",
   "metadata": {},
   "outputs": [
    {
     "name": "stderr",
     "output_type": "stream",
     "text": [
      "                                                                                \r"
     ]
    },
    {
     "name": "stdout",
     "output_type": "stream",
     "text": [
      "+----+------------------+\n",
      "|hour|          avg_temp|\n",
      "+----+------------------+\n",
      "|  14|18.922791989506617|\n",
      "|  18|16.978458910542063|\n",
      "|   6|  9.98958299305174|\n",
      "|   3|10.066041906261445|\n",
      "|   7| 9.982791267459922|\n",
      "|  15|18.861208586766985|\n",
      "|   2|10.499624821007252|\n",
      "|   4|10.001875093800491|\n",
      "|  22|13.999959184028043|\n",
      "|  12|18.467873648031553|\n",
      "|   9|10.485956468833818|\n",
      "|  17|17.562625767366093|\n",
      "|  11|17.251248770969443|\n",
      "|  19|15.485125461803543|\n",
      "|  20|14.417791607675287|\n",
      "|  21|15.042750562471813|\n",
      "|   8| 10.11683338186476|\n",
      "|  13|18.840041614619892|\n",
      "|  16|18.489166768927046|\n",
      "|  23|12.619364792573174|\n",
      "+----+------------------+\n",
      "only showing top 20 rows\n",
      "\n"
     ]
    }
   ],
   "source": [
    "# weather_partitioned_avg_df.show()"
   ]
  },
  {
   "cell_type": "markdown",
   "id": "b8c0d174-5694-4fa0-9609-9621712ce669",
   "metadata": {},
   "source": [
    "# Calc Solar Power"
   ]
  },
  {
   "cell_type": "markdown",
   "id": "6bb95254-7da7-4659-a640-22886e11cd73",
   "metadata": {},
   "source": [
    "solar_panel_rating_kwh*1000 -> to get wh\n",
    "\n",
    "solar_panel_rating_kwh*`1000/(60*60*1000/5)`\n",
    "\n",
    "------------------------------------^ first `60` to convert hour to minute\n",
    "\n",
    "-----------------------------------------^ second `60` is to convert minute to seconds\n",
    "\n",
    "------------------------------------------------^ `1000` is to convert seconds to ms, and `/5` because the date is sampled each `5ms`\n",
    "\n",
    "</br>\n",
    "\n",
    "solar panel power rating (in our example `10kwh`) is taken at `1000W/square meters` solar intensity\n",
    "and `25c` temperature\n",
    "\n",
    "</br>\n",
    "as solar_intensity increases the generated power increases, and as temp increase the generated power decreases"
   ]
  },
  {
   "cell_type": "code",
   "execution_count": 132,
   "id": "f82f7c43-fc54-4725-8fe9-972e78328b61",
   "metadata": {},
   "outputs": [],
   "source": [
    "solar_panel_rating_kwh = 10\n",
    "solar_intensity_power_rating = 1000\n",
    "temp_power_rating = 25\n",
    "\n",
    "solar_panel_rating_w_5ms = solar_panel_rating_kwh*1000/(60*60*1000/5)\n",
    "\n",
    "\"\"\"\n",
    "solar_power_w = solar_panel_rating_w_5ms * (1 /(1 - (temp_power_rating - temp)/(temp_power_rating))) \\\n",
    "                                         * (1 - (solar_intensity_power_rating - solar_intensity)/solar_intensity_power_rating)\n",
    "                                         \n",
    "\"\"\"\n",
    "\n",
    "solar_panel_readings_df = weather_partitioned_df.withColumn('current_generation_watt', solar_panel_rating_w_5ms \\\n",
    "                * (1 /(1 - (temp_power_rating - F.col(\"temp\"))/(temp_power_rating))) \\\n",
    "                * (1 - (solar_intensity_power_rating - F.col(\"solar_intensity\"))/solar_intensity_power_rating) \\\n",
    "                                                           ).drop(\"solar_intensity\", \"temp\")"
   ]
  },
  {
   "cell_type": "code",
   "execution_count": 133,
   "id": "8a9aa269-7686-4fa1-830a-31d0f8471e30",
   "metadata": {},
   "outputs": [
    {
     "name": "stdout",
     "output_type": "stream",
     "text": [
      "root\n",
      " |-- timestamp: timestamp (nullable = true)\n",
      " |-- hour: integer (nullable = true)\n",
      " |-- current_generation_watt: double (nullable = true)\n",
      "\n"
     ]
    }
   ],
   "source": [
    "solar_panel_readings_df.printSchema()"
   ]
  },
  {
   "cell_type": "code",
   "execution_count": null,
   "id": "8673aec8-6e41-4391-a4ca-d46929e62603",
   "metadata": {},
   "outputs": [],
   "source": []
  },
  {
   "cell_type": "code",
   "execution_count": 135,
   "id": "457f6fc9-38a0-4de2-b88b-c4dd4aa8ea24",
   "metadata": {},
   "outputs": [
    {
     "name": "stderr",
     "output_type": "stream",
     "text": [
      "                                                                                \r"
     ]
    }
   ],
   "source": [
    "solar_panel_readings_df.write.format(\"csv\").option(\"header\", True).mode(\"overwrite\").partitionBy(\"hour\") \\\n",
    "                       .save(\"/home/iceberg/warehouse/weather_history_splitted_resampled/solar_panel_readings/2013-01-01.csv\")"
   ]
  },
  {
   "cell_type": "code",
   "execution_count": 137,
   "id": "d7b4ff57-8b51-4de0-bef1-195021a5c1ec",
   "metadata": {},
   "outputs": [
    {
     "name": "stdout",
     "output_type": "stream",
     "text": [
      "== Physical Plan ==\n",
      "AdaptiveSparkPlan isFinalPlan=false\n",
      "+- Project [timestamp#311, hour#317, (((1.0 / (1.0 - (cast((25.0 - temp#313) as double) / 25.0))) * 0.013888888888888888) * (1.0 - (cast((1000.0 - solar_intensity#312) as double) / 1000.0))) AS current_generation_watt#326]\n",
      "   +- Exchange hashpartitioning(hour#317, 23), REPARTITION_BY_NUM, [plan_id=1114]\n",
      "      +- Project [timestamp#311, solar_intensity#312, temp#313, hour(timestamp#311, Some(Etc/UTC)) AS hour#317]\n",
      "         +- FileScan csv [timestamp#311,solar_intensity#312,temp#313] Batched: false, DataFilters: [], Format: CSV, Location: InMemoryFileIndex(1 paths)[file:/home/iceberg/warehouse/weather_history_splitted_resampled/2013-0..., PartitionFilters: [], PushedFilters: [], ReadSchema: struct<timestamp:timestamp,solar_intensity:float,temp:float>\n",
      "\n",
      "\n"
     ]
    }
   ],
   "source": [
    "solar_panel_readings_df.explain()"
   ]
  },
  {
   "cell_type": "code",
   "execution_count": 24,
   "id": "b1b0eb74-ac43-4847-9a85-ac335dbf4ed1",
   "metadata": {},
   "outputs": [
    {
     "name": "stderr",
     "output_type": "stream",
     "text": [
      "                                                                                \r"
     ]
    },
    {
     "name": "stdout",
     "output_type": "stream",
     "text": [
      "+----+---------------------------+\n",
      "|hour|avg_current_generation_watt|\n",
      "+----+---------------------------+\n",
      "|  14|         11387.961751424062|\n",
      "|  18|         1.8147681686008805|\n",
      "|   6|                        0.0|\n",
      "|   3|                        0.0|\n",
      "|   7|         22.347037731300503|\n",
      "|  15|         10413.181870815331|\n",
      "|   2|                        0.0|\n",
      "|   4|                        0.0|\n",
      "|  22|                        0.0|\n",
      "|  12|         11969.988631811231|\n",
      "|  17|          3308.708864947764|\n",
      "|   9|         14416.146357168736|\n",
      "|  11|         12308.133476173876|\n",
      "|  19|                        0.0|\n",
      "|  20|                        0.0|\n",
      "|   8|          7281.759642823639|\n",
      "|  21|                        0.0|\n",
      "|  13|         11785.498389172582|\n",
      "|  16|          8739.396919769139|\n",
      "|  23|                        0.0|\n",
      "+----+---------------------------+\n",
      "only showing top 20 rows\n",
      "\n"
     ]
    },
    {
     "name": "stderr",
     "output_type": "stream",
     "text": [
      "                                                                                \r"
     ]
    }
   ],
   "source": [
    "solar_panel_readings_df.groupBy(\"hour\").agg(F.sum(\"current_generation_watt\").alias(\"avg_current_generation_watt\")).show()"
   ]
  },
  {
   "cell_type": "code",
   "execution_count": null,
   "id": "4a984708-57e8-4d8d-ad0f-312dc884bbac",
   "metadata": {},
   "outputs": [],
   "source": []
  },
  {
   "cell_type": "code",
   "execution_count": null,
   "id": "3955e0e8-47ec-4f5c-94f2-57fcb41b3a67",
   "metadata": {},
   "outputs": [],
   "source": []
  },
  {
   "cell_type": "code",
   "execution_count": 121,
   "id": "24186544-ab21-4d90-9b04-e0503e19aa48",
   "metadata": {},
   "outputs": [],
   "source": [
    "spark.stop()"
   ]
  },
  {
   "cell_type": "code",
   "execution_count": null,
   "id": "30bcb423-6c15-48b7-9bb8-c506be165f9e",
   "metadata": {},
   "outputs": [],
   "source": []
  }
 ],
 "metadata": {
  "kernelspec": {
   "display_name": "Python 3 (ipykernel)",
   "language": "python",
   "name": "python3"
  },
  "language_info": {
   "codemirror_mode": {
    "name": "ipython",
    "version": 3
   },
   "file_extension": ".py",
   "mimetype": "text/x-python",
   "name": "python",
   "nbconvert_exporter": "python",
   "pygments_lexer": "ipython3",
   "version": "3.9.18"
  }
 },
 "nbformat": 4,
 "nbformat_minor": 5
}
