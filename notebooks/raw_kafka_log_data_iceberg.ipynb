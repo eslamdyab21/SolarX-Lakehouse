{
 "cells": [
  {
   "cell_type": "code",
   "execution_count": 1,
   "id": "cb2e0a03-7364-4854-aa73-d4adba6ee416",
   "metadata": {},
   "outputs": [],
   "source": [
    "from pyspark.sql import SparkSession"
   ]
  },
  {
   "cell_type": "code",
   "execution_count": 5,
   "id": "22d141a9-47dd-4b41-a3dd-13e7b08c06f3",
   "metadata": {},
   "outputs": [
    {
     "name": "stderr",
     "output_type": "stream",
     "text": [
      "25/02/14 17:07:02 WARN Utils: Service 'SparkUI' could not bind on port 4040. Attempting port 4041.\n"
     ]
    }
   ],
   "source": [
    "spark = (\n",
    "    SparkSession\n",
    "    .builder\n",
    "    .appName(\"raw-kafka-log-data-load-tables-iceberg\")\n",
    "    .master(\"spark://spark-master:7077\")\n",
    "    .config(\"spark.executor.cores\", 1)\n",
    "    .config(\"spark.cores.max\", 6)\n",
    "    .config(\"spark.executor.memory\", \"512M\")\n",
    "    .getOrCreate()\n",
    ")"
   ]
  },
  {
   "cell_type": "code",
   "execution_count": 6,
   "id": "75c440bf-b8a7-4a85-8e23-e4fc2c20e265",
   "metadata": {},
   "outputs": [
    {
     "data": {
      "text/html": [
       "\n",
       "            <div>\n",
       "                <p><b>SparkSession - in-memory</b></p>\n",
       "                \n",
       "        <div>\n",
       "            <p><b>SparkContext</b></p>\n",
       "\n",
       "            <p><a href=\"http://199e3fa57557:4041\">Spark UI</a></p>\n",
       "\n",
       "            <dl>\n",
       "              <dt>Version</dt>\n",
       "                <dd><code>v3.5.1</code></dd>\n",
       "              <dt>Master</dt>\n",
       "                <dd><code>spark://spark-master:7077</code></dd>\n",
       "              <dt>AppName</dt>\n",
       "                <dd><code>raw-kafka-log-data-load-tables-iceberg</code></dd>\n",
       "            </dl>\n",
       "        </div>\n",
       "        \n",
       "            </div>\n",
       "        "
      ],
      "text/plain": [
       "<pyspark.sql.session.SparkSession at 0x7ff7c87dae80>"
      ]
     },
     "execution_count": 6,
     "metadata": {},
     "output_type": "execute_result"
    }
   ],
   "source": [
    "spark"
   ]
  },
  {
   "cell_type": "markdown",
   "id": "0b5e3af3-4495-40c2-bba0-90b8a27222c5",
   "metadata": {},
   "source": [
    "# Home Power Usage Kafka Log Data"
   ]
  },
  {
   "cell_type": "markdown",
   "id": "1daf947c-6f40-49a2-9b2f-beb0acb630f2",
   "metadata": {},
   "source": [
    "## Read Kafka Log Data"
   ]
  },
  {
   "cell_type": "code",
   "execution_count": 24,
   "id": "a71b879f-7ce0-4fa3-a1cb-6c1a2d0ccba3",
   "metadata": {},
   "outputs": [],
   "source": [
    "# Read home log data\n",
    "from pyspark.sql import functions as F\n",
    "from pyspark.sql.types import StructType, StructField, TimestampType, FloatType\n",
    "\n",
    "data_file_date = \"2025-02-14\"\n",
    "\n",
    "_schema = StructType([\n",
    "    StructField(\"time_stamp\", TimestampType(), True),\n",
    "    StructField(\"current_consumption_w\", FloatType(), True),\n",
    "    StructField(\"consumption_accumulated_w\", FloatType(), True),\n",
    "])\n",
    "\n",
    "home_power_usage_df = spark.read.format(\"json\").schema(_schema)\\\n",
    "                   .load(f\"/home/iceberg/warehouse/solarx_kafka_log_data/kafka_log_home_energy_consumption_{data_file_date}.log\")\\\n",
    "                   .withColumn(\"15_minutes_interval\", F.floor((F.hour(F.col(\"time_stamp\"))*60 + F.minute(F.col(\"time_stamp\")) - 60) / 15))                                                                                                 "
   ]
  },
  {
   "cell_type": "code",
   "execution_count": 26,
   "id": "ff8f7b8f-ee7d-426d-9c58-e8da8122a248",
   "metadata": {},
   "outputs": [
    {
     "name": "stdout",
     "output_type": "stream",
     "text": [
      "root\n",
      " |-- time_stamp: timestamp (nullable = true)\n",
      " |-- current_consumption_w: float (nullable = true)\n",
      " |-- consumption_accumulated_w: float (nullable = true)\n",
      " |-- 15_minutes_interval: long (nullable = true)\n",
      "\n"
     ]
    }
   ],
   "source": [
    "home_power_usage_df.printSchema()"
   ]
  },
  {
   "cell_type": "code",
   "execution_count": 25,
   "id": "4c4890b5-56b2-4086-a451-608ab5b3455f",
   "metadata": {},
   "outputs": [
    {
     "name": "stdout",
     "output_type": "stream",
     "text": [
      "+-------------------+---------------------+-------------------------+-------------------+\n",
      "|         time_stamp|current_consumption_w|consumption_accumulated_w|15_minutes_interval|\n",
      "+-------------------+---------------------+-------------------------+-------------------+\n",
      "|2025-02-14 02:08:36|                 0.82|                     0.82|                  4|\n",
      "|2025-02-14 02:08:37|                 0.79|                     1.61|                  4|\n",
      "|2025-02-14 02:08:38|                 0.76|                     2.37|                  4|\n",
      "|2025-02-14 02:08:39|                 0.83|                      3.2|                  4|\n",
      "|2025-02-14 02:08:40|                 0.82|                     4.02|                  4|\n",
      "|2025-02-14 02:08:41|                 0.79|                     4.81|                  4|\n",
      "|2025-02-14 02:08:42|                 0.86|                     5.67|                  4|\n",
      "|2025-02-14 02:08:43|                  0.8|                     6.47|                  4|\n",
      "|2025-02-14 02:08:44|                 0.79|                     7.26|                  4|\n",
      "|2025-02-14 02:08:45|                 0.79|                     8.05|                  4|\n",
      "|2025-02-14 02:08:46|                  0.8|                     8.85|                  4|\n",
      "|2025-02-14 02:08:47|                 0.77|                     9.62|                  4|\n",
      "|2025-02-14 02:08:48|                 0.77|                    10.39|                  4|\n",
      "|2025-02-14 02:08:49|                 0.77|                    11.16|                  4|\n",
      "|2025-02-14 02:08:50|                 0.84|                     12.0|                  4|\n",
      "|2025-02-14 02:08:51|                  0.8|                     12.8|                  4|\n",
      "|2025-02-14 02:08:52|                 0.73|                    13.53|                  4|\n",
      "|2025-02-14 02:08:53|                 0.81|                    14.34|                  4|\n",
      "|2025-02-14 02:08:54|                 0.76|                     15.1|                  4|\n",
      "|2025-02-14 02:08:55|                 0.84|                    15.94|                  4|\n",
      "+-------------------+---------------------+-------------------------+-------------------+\n",
      "only showing top 20 rows\n",
      "\n"
     ]
    }
   ],
   "source": [
    "home_power_usage_df.show()"
   ]
  },
  {
   "cell_type": "code",
   "execution_count": 27,
   "id": "2d502fcd-ebfb-4a8a-a307-2472f5616be0",
   "metadata": {},
   "outputs": [
    {
     "name": "stdout",
     "output_type": "stream",
     "text": [
      "# shiffle:  200\n",
      "# partitions:  2\n",
      "# Parallelism:  2\n"
     ]
    }
   ],
   "source": [
    "# Check Spark Shuffle Partition setting\n",
    "\n",
    "print(\"# shiffle: \", spark.conf.get(\"spark.sql.shuffle.partitions\"))\n",
    "print(\"# partitions: \", home_power_usage_df.rdd.getNumPartitions())\n",
    "print(\"# Parallelism: \", spark.sparkContext.defaultParallelism)"
   ]
  },
  {
   "cell_type": "code",
   "execution_count": 29,
   "id": "2e7d6f9d-bb0b-45a3-9297-c768a0f93e66",
   "metadata": {},
   "outputs": [],
   "source": [
    "spark.conf.set(\"spark.sql.shuffle.partitions\", 92)"
   ]
  },
  {
   "cell_type": "code",
   "execution_count": null,
   "id": "496b19b5-3284-455a-96ad-9e93dfdf2c59",
   "metadata": {},
   "outputs": [],
   "source": []
  },
  {
   "cell_type": "markdown",
   "id": "93cde587-6a2d-425f-b5ed-20573af69d60",
   "metadata": {},
   "source": [
    "## Iceberg Table"
   ]
  },
  {
   "cell_type": "code",
   "execution_count": 30,
   "id": "c9ffdbb2-f3e5-4b4d-bdd1-1bb837837a44",
   "metadata": {},
   "outputs": [
    {
     "name": "stderr",
     "output_type": "stream",
     "text": [
      "25/02/14 17:55:39 WARN SparkSession: Using an existing Spark session; only runtime SQL configurations will take effect.\n"
     ]
    },
    {
     "data": {
      "text/html": [
       "<table>\n",
       "    <thead>\n",
       "        <tr>\n",
       "        </tr>\n",
       "    </thead>\n",
       "    <tbody>\n",
       "    </tbody>\n",
       "</table>"
      ],
      "text/plain": [
       "++\n",
       "||\n",
       "++\n",
       "++"
      ]
     },
     "execution_count": 30,
     "metadata": {},
     "output_type": "execute_result"
    }
   ],
   "source": [
    "%%sql\n",
    "\n",
    "CREATE DATABASE IF NOT EXISTS SolarX_Raw_Transactions"
   ]
  },
  {
   "cell_type": "code",
   "execution_count": 31,
   "id": "726bacb1-233a-4fb4-8a4a-153d3f97dd08",
   "metadata": {},
   "outputs": [
    {
     "data": {
      "text/html": [
       "<table>\n",
       "    <thead>\n",
       "        <tr>\n",
       "        </tr>\n",
       "    </thead>\n",
       "    <tbody>\n",
       "    </tbody>\n",
       "</table>"
      ],
      "text/plain": [
       "++\n",
       "||\n",
       "++\n",
       "++"
      ]
     },
     "execution_count": 31,
     "metadata": {},
     "output_type": "execute_result"
    }
   ],
   "source": [
    "%%sql\n",
    "\n",
    "DROP TABLE IF EXISTS SolarX_Raw_Transactions.home_power_readings PURGE"
   ]
  },
  {
   "cell_type": "code",
   "execution_count": 32,
   "id": "21d258c5-f671-4a09-9ec6-e8602941a10f",
   "metadata": {},
   "outputs": [
    {
     "data": {
      "text/html": [
       "<table>\n",
       "    <thead>\n",
       "        <tr>\n",
       "        </tr>\n",
       "    </thead>\n",
       "    <tbody>\n",
       "    </tbody>\n",
       "</table>"
      ],
      "text/plain": [
       "++\n",
       "||\n",
       "++\n",
       "++"
      ]
     },
     "execution_count": 32,
     "metadata": {},
     "output_type": "execute_result"
    }
   ],
   "source": [
    "%%sql\n",
    "\n",
    "CREATE TABLE SolarX_Raw_Transactions.home_power_readings(\n",
    "    timestamp               TIMESTAMP NOT NULL,\n",
    "    15_minutes_interval     SMALLINT  NOT NULL,\n",
    "    min_consumption_wh      FLOAT     NOT NULL,\n",
    "    max_consumption_wh      FLOAT     NOT NULL\n",
    ")\n",
    "USING iceberg\n",
    "PARTITIONED BY (DAY(timestamp), 15_minutes_interval);"
   ]
  },
  {
   "cell_type": "code",
   "execution_count": 33,
   "id": "a6b18ed9-d677-492d-8a0b-57ba681d2a90",
   "metadata": {},
   "outputs": [
    {
     "data": {
      "text/html": [
       "<table>\n",
       "    <thead>\n",
       "        <tr>\n",
       "            <th>timestamp</th>\n",
       "            <th>15_minutes_interval</th>\n",
       "            <th>min_consumption_wh</th>\n",
       "            <th>max_consumption_wh</th>\n",
       "        </tr>\n",
       "    </thead>\n",
       "    <tbody>\n",
       "    </tbody>\n",
       "</table>"
      ],
      "text/plain": [
       "+-----------+---------------------+--------------------+--------------------+\n",
       "| timestamp | 15_minutes_interval | min_consumption_wh | max_consumption_wh |\n",
       "+-----------+---------------------+--------------------+--------------------+\n",
       "+-----------+---------------------+--------------------+--------------------+"
      ]
     },
     "execution_count": 33,
     "metadata": {},
     "output_type": "execute_result"
    }
   ],
   "source": [
    "%%sql\n",
    "\n",
    "SELECT * FROM SolarX_Raw_Transactions.home_power_readings;"
   ]
  },
  {
   "cell_type": "markdown",
   "id": "cd9af9f7-82d5-4a11-b98c-303a3b83f6d1",
   "metadata": {},
   "source": [
    "## ETL"
   ]
  },
  {
   "cell_type": "code",
   "execution_count": 34,
   "id": "f01ca0c1-43e1-490f-aed7-a197c84a6d6e",
   "metadata": {},
   "outputs": [],
   "source": [
    "home_power_usage_df.createOrReplaceTempView(\"temp_view\")"
   ]
  },
  {
   "cell_type": "code",
   "execution_count": 35,
   "id": "6c3f7659-8beb-4f36-872b-b8cc30f1831e",
   "metadata": {},
   "outputs": [
    {
     "name": "stderr",
     "output_type": "stream",
     "text": [
      "                                                                                \r"
     ]
    },
    {
     "data": {
      "text/html": [
       "<table>\n",
       "    <thead>\n",
       "        <tr>\n",
       "        </tr>\n",
       "    </thead>\n",
       "    <tbody>\n",
       "    </tbody>\n",
       "</table>"
      ],
      "text/plain": [
       "++\n",
       "||\n",
       "++\n",
       "++"
      ]
     },
     "execution_count": 35,
     "metadata": {},
     "output_type": "execute_result"
    }
   ],
   "source": [
    "%%sql\n",
    "    \n",
    "INSERT INTO SolarX_Raw_Transactions.home_power_readings (timestamp, 15_minutes_interval, min_consumption_wh, max_consumption_wh)\n",
    "SELECT time_stamp                 as timestamp,\n",
    "       15_minutes_interval        as 15_minutes_interval,\n",
    "       current_consumption_w      as min_consumption_wh,\n",
    "       current_consumption_w      as max_consumption_wh\n",
    "       \n",
    "FROM temp_view"
   ]
  },
  {
   "cell_type": "code",
   "execution_count": null,
   "id": "1219b0d4-5641-42fa-8dd7-7144f8cd0bad",
   "metadata": {},
   "outputs": [],
   "source": []
  },
  {
   "cell_type": "markdown",
   "id": "a54d00f9-763b-4b81-9c6d-49c3c6d320b7",
   "metadata": {},
   "source": [
    "# Solar Power Kafka Log Data"
   ]
  },
  {
   "cell_type": "code",
   "execution_count": null,
   "id": "8c89bdcc-68f4-49d6-8b37-9e2d238d88d3",
   "metadata": {},
   "outputs": [],
   "source": []
  },
  {
   "cell_type": "code",
   "execution_count": null,
   "id": "e6fba771-357e-4a55-8311-f007d0818406",
   "metadata": {},
   "outputs": [],
   "source": []
  },
  {
   "cell_type": "code",
   "execution_count": null,
   "id": "5ea02645-8c23-4021-9b7b-1e6b5e94a693",
   "metadata": {},
   "outputs": [],
   "source": []
  },
  {
   "cell_type": "code",
   "execution_count": null,
   "id": "d5d32452-ba4a-4809-a708-165a1aa890cb",
   "metadata": {},
   "outputs": [],
   "source": []
  },
  {
   "cell_type": "code",
   "execution_count": null,
   "id": "7add21f1-f35e-4202-81c0-67d1a070fc5c",
   "metadata": {},
   "outputs": [],
   "source": []
  },
  {
   "cell_type": "code",
   "execution_count": null,
   "id": "de49c932-9eaf-4d2b-b258-348ff646712b",
   "metadata": {},
   "outputs": [],
   "source": []
  },
  {
   "cell_type": "code",
   "execution_count": 4,
   "id": "74535b5c-fedc-41e6-a00c-5bc9aad79f69",
   "metadata": {},
   "outputs": [],
   "source": [
    "spark.stop()"
   ]
  },
  {
   "cell_type": "code",
   "execution_count": null,
   "id": "a3b898a3-9bbd-4040-b5e6-226226cd391c",
   "metadata": {},
   "outputs": [],
   "source": []
  }
 ],
 "metadata": {
  "kernelspec": {
   "display_name": "Python 3 (ipykernel)",
   "language": "python",
   "name": "python3"
  },
  "language_info": {
   "codemirror_mode": {
    "name": "ipython",
    "version": 3
   },
   "file_extension": ".py",
   "mimetype": "text/x-python",
   "name": "python",
   "nbconvert_exporter": "python",
   "pygments_lexer": "ipython3",
   "version": "3.9.18"
  }
 },
 "nbformat": 4,
 "nbformat_minor": 5
}
