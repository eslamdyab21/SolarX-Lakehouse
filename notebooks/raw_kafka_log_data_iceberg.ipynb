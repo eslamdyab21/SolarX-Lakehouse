{
 "cells": [
  {
   "cell_type": "code",
   "execution_count": 1,
   "id": "cb2e0a03-7364-4854-aa73-d4adba6ee416",
   "metadata": {},
   "outputs": [],
   "source": [
    "from pyspark.sql import SparkSession"
   ]
  },
  {
   "cell_type": "code",
   "execution_count": 5,
   "id": "22d141a9-47dd-4b41-a3dd-13e7b08c06f3",
   "metadata": {},
   "outputs": [
    {
     "name": "stderr",
     "output_type": "stream",
     "text": [
      "25/02/14 17:07:02 WARN Utils: Service 'SparkUI' could not bind on port 4040. Attempting port 4041.\n"
     ]
    }
   ],
   "source": [
    "spark = (\n",
    "    SparkSession\n",
    "    .builder\n",
    "    .appName(\"raw-kafka-log-data-load-tables-iceberg\")\n",
    "    .master(\"spark://spark-master:7077\")\n",
    "    .config(\"spark.executor.cores\", 1)\n",
    "    .config(\"spark.cores.max\", 6)\n",
    "    .config(\"spark.executor.memory\", \"512M\")\n",
    "    .getOrCreate()\n",
    ")"
   ]
  },
  {
   "cell_type": "code",
   "execution_count": 6,
   "id": "75c440bf-b8a7-4a85-8e23-e4fc2c20e265",
   "metadata": {},
   "outputs": [
    {
     "data": {
      "text/html": [
       "\n",
       "            <div>\n",
       "                <p><b>SparkSession - in-memory</b></p>\n",
       "                \n",
       "        <div>\n",
       "            <p><b>SparkContext</b></p>\n",
       "\n",
       "            <p><a href=\"http://199e3fa57557:4041\">Spark UI</a></p>\n",
       "\n",
       "            <dl>\n",
       "              <dt>Version</dt>\n",
       "                <dd><code>v3.5.1</code></dd>\n",
       "              <dt>Master</dt>\n",
       "                <dd><code>spark://spark-master:7077</code></dd>\n",
       "              <dt>AppName</dt>\n",
       "                <dd><code>raw-kafka-log-data-load-tables-iceberg</code></dd>\n",
       "            </dl>\n",
       "        </div>\n",
       "        \n",
       "            </div>\n",
       "        "
      ],
      "text/plain": [
       "<pyspark.sql.session.SparkSession at 0x7ff7c87dae80>"
      ]
     },
     "execution_count": 6,
     "metadata": {},
     "output_type": "execute_result"
    }
   ],
   "source": [
    "spark"
   ]
  },
  {
   "cell_type": "markdown",
   "id": "0b5e3af3-4495-40c2-bba0-90b8a27222c5",
   "metadata": {},
   "source": [
    "# Home Power Usage Kafka Log Data"
   ]
  },
  {
   "cell_type": "markdown",
   "id": "1daf947c-6f40-49a2-9b2f-beb0acb630f2",
   "metadata": {},
   "source": [
    "## Read Kafka Log Data"
   ]
  },
  {
   "cell_type": "code",
   "execution_count": 58,
   "id": "a71b879f-7ce0-4fa3-a1cb-6c1a2d0ccba3",
   "metadata": {},
   "outputs": [],
   "source": [
    "# Read home log data\n",
    "from pyspark.sql import functions as F\n",
    "from pyspark.sql.types import StructType, StructField, TimestampType, FloatType, IntegerType, StringType, MapType\n",
    "\n",
    "data_file_date = \"2025-02-14\"\n",
    "\n",
    "_schema = StructType([\n",
    "    StructField(\"time_stamp\", TimestampType(), True),\n",
    "    StructField(\"current_consumption_w\", FloatType(), True),\n",
    "    StructField(\"consumption_accumulated_w\", FloatType(), True),\n",
    "])\n",
    "\n",
    "home_power_usage_df = spark.read.format(\"json\").schema(_schema)\\\n",
    "                   .load(f\"/home/iceberg/warehouse/solarx_kafka_log_data/kafka_log_home_energy_consumption_{data_file_date}.log\")\\\n",
    "                   .withColumn(\"15_minutes_interval\", F.floor((F.hour(F.col(\"time_stamp\"))*60 + F.minute(F.col(\"time_stamp\")) - 60) / 15))                                                                                                 "
   ]
  },
  {
   "cell_type": "code",
   "execution_count": 26,
   "id": "ff8f7b8f-ee7d-426d-9c58-e8da8122a248",
   "metadata": {},
   "outputs": [
    {
     "name": "stdout",
     "output_type": "stream",
     "text": [
      "root\n",
      " |-- time_stamp: timestamp (nullable = true)\n",
      " |-- current_consumption_w: float (nullable = true)\n",
      " |-- consumption_accumulated_w: float (nullable = true)\n",
      " |-- 15_minutes_interval: long (nullable = true)\n",
      "\n"
     ]
    }
   ],
   "source": [
    "home_power_usage_df.printSchema()"
   ]
  },
  {
   "cell_type": "code",
   "execution_count": 25,
   "id": "4c4890b5-56b2-4086-a451-608ab5b3455f",
   "metadata": {},
   "outputs": [
    {
     "name": "stdout",
     "output_type": "stream",
     "text": [
      "+-------------------+---------------------+-------------------------+-------------------+\n",
      "|         time_stamp|current_consumption_w|consumption_accumulated_w|15_minutes_interval|\n",
      "+-------------------+---------------------+-------------------------+-------------------+\n",
      "|2025-02-14 02:08:36|                 0.82|                     0.82|                  4|\n",
      "|2025-02-14 02:08:37|                 0.79|                     1.61|                  4|\n",
      "|2025-02-14 02:08:38|                 0.76|                     2.37|                  4|\n",
      "|2025-02-14 02:08:39|                 0.83|                      3.2|                  4|\n",
      "|2025-02-14 02:08:40|                 0.82|                     4.02|                  4|\n",
      "|2025-02-14 02:08:41|                 0.79|                     4.81|                  4|\n",
      "|2025-02-14 02:08:42|                 0.86|                     5.67|                  4|\n",
      "|2025-02-14 02:08:43|                  0.8|                     6.47|                  4|\n",
      "|2025-02-14 02:08:44|                 0.79|                     7.26|                  4|\n",
      "|2025-02-14 02:08:45|                 0.79|                     8.05|                  4|\n",
      "|2025-02-14 02:08:46|                  0.8|                     8.85|                  4|\n",
      "|2025-02-14 02:08:47|                 0.77|                     9.62|                  4|\n",
      "|2025-02-14 02:08:48|                 0.77|                    10.39|                  4|\n",
      "|2025-02-14 02:08:49|                 0.77|                    11.16|                  4|\n",
      "|2025-02-14 02:08:50|                 0.84|                     12.0|                  4|\n",
      "|2025-02-14 02:08:51|                  0.8|                     12.8|                  4|\n",
      "|2025-02-14 02:08:52|                 0.73|                    13.53|                  4|\n",
      "|2025-02-14 02:08:53|                 0.81|                    14.34|                  4|\n",
      "|2025-02-14 02:08:54|                 0.76|                     15.1|                  4|\n",
      "|2025-02-14 02:08:55|                 0.84|                    15.94|                  4|\n",
      "+-------------------+---------------------+-------------------------+-------------------+\n",
      "only showing top 20 rows\n",
      "\n"
     ]
    }
   ],
   "source": [
    "home_power_usage_df.show()"
   ]
  },
  {
   "cell_type": "code",
   "execution_count": 27,
   "id": "2d502fcd-ebfb-4a8a-a307-2472f5616be0",
   "metadata": {},
   "outputs": [
    {
     "name": "stdout",
     "output_type": "stream",
     "text": [
      "# shiffle:  200\n",
      "# partitions:  2\n",
      "# Parallelism:  2\n"
     ]
    }
   ],
   "source": [
    "# Check Spark Shuffle Partition setting\n",
    "\n",
    "print(\"# shiffle: \", spark.conf.get(\"spark.sql.shuffle.partitions\"))\n",
    "print(\"# partitions: \", home_power_usage_df.rdd.getNumPartitions())\n",
    "print(\"# Parallelism: \", spark.sparkContext.defaultParallelism)"
   ]
  },
  {
   "cell_type": "code",
   "execution_count": 29,
   "id": "2e7d6f9d-bb0b-45a3-9297-c768a0f93e66",
   "metadata": {},
   "outputs": [],
   "source": [
    "spark.conf.set(\"spark.sql.shuffle.partitions\", 92)"
   ]
  },
  {
   "cell_type": "code",
   "execution_count": null,
   "id": "496b19b5-3284-455a-96ad-9e93dfdf2c59",
   "metadata": {},
   "outputs": [],
   "source": []
  },
  {
   "cell_type": "markdown",
   "id": "93cde587-6a2d-425f-b5ed-20573af69d60",
   "metadata": {},
   "source": [
    "## Iceberg Table"
   ]
  },
  {
   "cell_type": "code",
   "execution_count": 30,
   "id": "c9ffdbb2-f3e5-4b4d-bdd1-1bb837837a44",
   "metadata": {},
   "outputs": [
    {
     "name": "stderr",
     "output_type": "stream",
     "text": [
      "25/02/14 17:55:39 WARN SparkSession: Using an existing Spark session; only runtime SQL configurations will take effect.\n"
     ]
    },
    {
     "data": {
      "text/html": [
       "<table>\n",
       "    <thead>\n",
       "        <tr>\n",
       "        </tr>\n",
       "    </thead>\n",
       "    <tbody>\n",
       "    </tbody>\n",
       "</table>"
      ],
      "text/plain": [
       "++\n",
       "||\n",
       "++\n",
       "++"
      ]
     },
     "execution_count": 30,
     "metadata": {},
     "output_type": "execute_result"
    }
   ],
   "source": [
    "%%sql\n",
    "\n",
    "CREATE DATABASE IF NOT EXISTS SolarX_Raw_Transactions"
   ]
  },
  {
   "cell_type": "code",
   "execution_count": 31,
   "id": "726bacb1-233a-4fb4-8a4a-153d3f97dd08",
   "metadata": {},
   "outputs": [
    {
     "data": {
      "text/html": [
       "<table>\n",
       "    <thead>\n",
       "        <tr>\n",
       "        </tr>\n",
       "    </thead>\n",
       "    <tbody>\n",
       "    </tbody>\n",
       "</table>"
      ],
      "text/plain": [
       "++\n",
       "||\n",
       "++\n",
       "++"
      ]
     },
     "execution_count": 31,
     "metadata": {},
     "output_type": "execute_result"
    }
   ],
   "source": [
    "%%sql\n",
    "\n",
    "DROP TABLE IF EXISTS SolarX_Raw_Transactions.home_power_readings PURGE"
   ]
  },
  {
   "cell_type": "code",
   "execution_count": 32,
   "id": "21d258c5-f671-4a09-9ec6-e8602941a10f",
   "metadata": {},
   "outputs": [
    {
     "data": {
      "text/html": [
       "<table>\n",
       "    <thead>\n",
       "        <tr>\n",
       "        </tr>\n",
       "    </thead>\n",
       "    <tbody>\n",
       "    </tbody>\n",
       "</table>"
      ],
      "text/plain": [
       "++\n",
       "||\n",
       "++\n",
       "++"
      ]
     },
     "execution_count": 32,
     "metadata": {},
     "output_type": "execute_result"
    }
   ],
   "source": [
    "%%sql\n",
    "\n",
    "CREATE TABLE SolarX_Raw_Transactions.home_power_readings(\n",
    "    timestamp               TIMESTAMP NOT NULL,\n",
    "    15_minutes_interval     SMALLINT  NOT NULL,\n",
    "    min_consumption_wh      FLOAT     NOT NULL,\n",
    "    max_consumption_wh      FLOAT     NOT NULL\n",
    ")\n",
    "USING iceberg\n",
    "PARTITIONED BY (DAY(timestamp), 15_minutes_interval);"
   ]
  },
  {
   "cell_type": "code",
   "execution_count": 33,
   "id": "a6b18ed9-d677-492d-8a0b-57ba681d2a90",
   "metadata": {},
   "outputs": [
    {
     "data": {
      "text/html": [
       "<table>\n",
       "    <thead>\n",
       "        <tr>\n",
       "            <th>timestamp</th>\n",
       "            <th>15_minutes_interval</th>\n",
       "            <th>min_consumption_wh</th>\n",
       "            <th>max_consumption_wh</th>\n",
       "        </tr>\n",
       "    </thead>\n",
       "    <tbody>\n",
       "    </tbody>\n",
       "</table>"
      ],
      "text/plain": [
       "+-----------+---------------------+--------------------+--------------------+\n",
       "| timestamp | 15_minutes_interval | min_consumption_wh | max_consumption_wh |\n",
       "+-----------+---------------------+--------------------+--------------------+\n",
       "+-----------+---------------------+--------------------+--------------------+"
      ]
     },
     "execution_count": 33,
     "metadata": {},
     "output_type": "execute_result"
    }
   ],
   "source": [
    "%%sql\n",
    "\n",
    "SELECT * FROM SolarX_Raw_Transactions.home_power_readings;"
   ]
  },
  {
   "cell_type": "markdown",
   "id": "cd9af9f7-82d5-4a11-b98c-303a3b83f6d1",
   "metadata": {},
   "source": [
    "## ETL"
   ]
  },
  {
   "cell_type": "code",
   "execution_count": 34,
   "id": "f01ca0c1-43e1-490f-aed7-a197c84a6d6e",
   "metadata": {},
   "outputs": [],
   "source": [
    "home_power_usage_df.createOrReplaceTempView(\"temp_view\")"
   ]
  },
  {
   "cell_type": "code",
   "execution_count": 35,
   "id": "6c3f7659-8beb-4f36-872b-b8cc30f1831e",
   "metadata": {},
   "outputs": [
    {
     "name": "stderr",
     "output_type": "stream",
     "text": [
      "                                                                                \r"
     ]
    },
    {
     "data": {
      "text/html": [
       "<table>\n",
       "    <thead>\n",
       "        <tr>\n",
       "        </tr>\n",
       "    </thead>\n",
       "    <tbody>\n",
       "    </tbody>\n",
       "</table>"
      ],
      "text/plain": [
       "++\n",
       "||\n",
       "++\n",
       "++"
      ]
     },
     "execution_count": 35,
     "metadata": {},
     "output_type": "execute_result"
    }
   ],
   "source": [
    "%%sql\n",
    "    \n",
    "INSERT INTO SolarX_Raw_Transactions.home_power_readings (timestamp, 15_minutes_interval, min_consumption_wh, max_consumption_wh)\n",
    "SELECT time_stamp                 as timestamp,\n",
    "       15_minutes_interval        as 15_minutes_interval,\n",
    "       current_consumption_w      as min_consumption_wh,\n",
    "       current_consumption_w      as max_consumption_wh\n",
    "       \n",
    "FROM temp_view"
   ]
  },
  {
   "cell_type": "code",
   "execution_count": null,
   "id": "1219b0d4-5641-42fa-8dd7-7144f8cd0bad",
   "metadata": {},
   "outputs": [],
   "source": []
  },
  {
   "cell_type": "markdown",
   "id": "a54d00f9-763b-4b81-9c6d-49c3c6d320b7",
   "metadata": {},
   "source": [
    "# Solar Power Kafka Log Data"
   ]
  },
  {
   "cell_type": "markdown",
   "id": "bdcfcc1e-85f5-439c-9170-8f8ba948b8dc",
   "metadata": {},
   "source": [
    "## Read Kafka Log Data"
   ]
  },
  {
   "cell_type": "code",
   "execution_count": 37,
   "id": "8c89bdcc-68f4-49d6-8b37-9e2d238d88d3",
   "metadata": {},
   "outputs": [],
   "source": [
    "data_file_date = \"2025-02-14\"\n",
    "\n",
    "_schema = StructType([\n",
    "    StructField(\"time_stamp\", TimestampType(), True),\n",
    "    StructField(\"current_consumption_w\", FloatType(), True),\n",
    "    StructField(\"consumption_accumulated_w\", FloatType(), True),\n",
    "])\n",
    "\n",
    "solar_power_usage_df = spark.read.format(\"json\").schema(_schema)\\\n",
    "                   .load(f\"/home/iceberg/warehouse/solarx_kafka_log_data/kafka_log_solar_energy_data_{data_file_date}.log\")\\\n",
    "                   .withColumn(\"15_minutes_interval\", F.floor((F.hour(F.col(\"time_stamp\"))*60 + F.minute(F.col(\"time_stamp\")) - 60) / 15))                                                                                                 "
   ]
  },
  {
   "cell_type": "code",
   "execution_count": 38,
   "id": "e6fba771-357e-4a55-8311-f007d0818406",
   "metadata": {},
   "outputs": [
    {
     "name": "stdout",
     "output_type": "stream",
     "text": [
      "root\n",
      " |-- time_stamp: timestamp (nullable = true)\n",
      " |-- current_consumption_w: float (nullable = true)\n",
      " |-- consumption_accumulated_w: float (nullable = true)\n",
      " |-- 15_minutes_interval: long (nullable = true)\n",
      "\n"
     ]
    }
   ],
   "source": [
    "solar_power_usage_df.printSchema()"
   ]
  },
  {
   "cell_type": "code",
   "execution_count": 39,
   "id": "5ea02645-8c23-4021-9b7b-1e6b5e94a693",
   "metadata": {},
   "outputs": [
    {
     "name": "stdout",
     "output_type": "stream",
     "text": [
      "+-------------------+---------------------+-------------------------+-------------------+\n",
      "|         time_stamp|current_consumption_w|consumption_accumulated_w|15_minutes_interval|\n",
      "+-------------------+---------------------+-------------------------+-------------------+\n",
      "|2025-02-14 02:08:29|                  0.0|                      0.0|                  4|\n",
      "|2025-02-14 02:08:30|                  0.0|                      0.0|                  4|\n",
      "|2025-02-14 02:08:31|                  0.0|                      0.0|                  4|\n",
      "|2025-02-14 02:08:32|                  0.0|                      0.0|                  4|\n",
      "|2025-02-14 02:08:33|                  0.0|                      0.0|                  4|\n",
      "|2025-02-14 02:08:34|                  0.0|                      0.0|                  4|\n",
      "|2025-02-14 02:08:35|                  0.0|                      0.0|                  4|\n",
      "|2025-02-14 02:08:36|                  0.0|                      0.0|                  4|\n",
      "|2025-02-14 02:08:37|                  0.0|                      0.0|                  4|\n",
      "|2025-02-14 02:08:38|                  0.0|                      0.0|                  4|\n",
      "|2025-02-14 02:08:39|                  0.0|                      0.0|                  4|\n",
      "|2025-02-14 02:08:40|                  0.0|                      0.0|                  4|\n",
      "|2025-02-14 02:08:41|                  0.0|                      0.0|                  4|\n",
      "|2025-02-14 02:08:42|                  0.0|                      0.0|                  4|\n",
      "|2025-02-14 02:08:43|                  0.0|                      0.0|                  4|\n",
      "|2025-02-14 02:08:44|                  0.0|                      0.0|                  4|\n",
      "|2025-02-14 02:08:45|                  0.0|                      0.0|                  4|\n",
      "|2025-02-14 02:08:46|                  0.0|                      0.0|                  4|\n",
      "|2025-02-14 02:08:47|                  0.0|                      0.0|                  4|\n",
      "|2025-02-14 02:08:48|                  0.0|                      0.0|                  4|\n",
      "+-------------------+---------------------+-------------------------+-------------------+\n",
      "only showing top 20 rows\n",
      "\n"
     ]
    }
   ],
   "source": [
    "solar_power_usage_df.show()"
   ]
  },
  {
   "cell_type": "markdown",
   "id": "9959626c-4e32-46ef-b581-1963b67607cc",
   "metadata": {},
   "source": [
    "## Iceberg Table"
   ]
  },
  {
   "cell_type": "code",
   "execution_count": 41,
   "id": "4091af7a-e463-4536-8eac-6228ff9b0c4a",
   "metadata": {},
   "outputs": [
    {
     "data": {
      "text/html": [
       "<table>\n",
       "    <thead>\n",
       "        <tr>\n",
       "        </tr>\n",
       "    </thead>\n",
       "    <tbody>\n",
       "    </tbody>\n",
       "</table>"
      ],
      "text/plain": [
       "++\n",
       "||\n",
       "++\n",
       "++"
      ]
     },
     "execution_count": 41,
     "metadata": {},
     "output_type": "execute_result"
    }
   ],
   "source": [
    "%%sql\n",
    "\n",
    "CREATE TABLE SolarX_Raw_Transactions.solar_panel_readings(\n",
    "    timestamp TIMESTAMP NOT NULL,\n",
    "    15_minutes_interval INT NOT NULL,\n",
    "    panel_id INT NOT NULL,\n",
    "    generation_power_wh FLOAT NOT NULL\n",
    ")\n",
    "USING iceberg\n",
    "PARTITIONED BY (DAY(timestamp), panel_id, 15_minutes_interval);"
   ]
  },
  {
   "cell_type": "code",
   "execution_count": null,
   "id": "4b4f8601-7c8f-4400-acd2-0456340f0fee",
   "metadata": {},
   "outputs": [],
   "source": []
  },
  {
   "cell_type": "markdown",
   "id": "172f4212-c1da-4b42-bd6a-e7e7d7504f09",
   "metadata": {},
   "source": [
    "## ETL"
   ]
  },
  {
   "cell_type": "code",
   "execution_count": 43,
   "id": "d5d32452-ba4a-4809-a708-165a1aa890cb",
   "metadata": {},
   "outputs": [],
   "source": [
    "solar_power_usage_df.createOrReplaceTempView(\"temp_view\")"
   ]
  },
  {
   "cell_type": "code",
   "execution_count": 45,
   "id": "7add21f1-f35e-4202-81c0-67d1a070fc5c",
   "metadata": {},
   "outputs": [
    {
     "name": "stderr",
     "output_type": "stream",
     "text": [
      "                                                                                \r"
     ]
    },
    {
     "data": {
      "text/html": [
       "<table>\n",
       "    <thead>\n",
       "        <tr>\n",
       "        </tr>\n",
       "    </thead>\n",
       "    <tbody>\n",
       "    </tbody>\n",
       "</table>"
      ],
      "text/plain": [
       "++\n",
       "||\n",
       "++\n",
       "++"
      ]
     },
     "execution_count": 45,
     "metadata": {},
     "output_type": "execute_result"
    }
   ],
   "source": [
    "%%sql\n",
    "    \n",
    "INSERT INTO SolarX_Raw_Transactions.solar_panel_readings (timestamp, 15_minutes_interval, panel_id, generation_power_wh)\n",
    "SELECT time_stamp                 as timestamp,\n",
    "       15_minutes_interval        as 15_minutes_interval,\n",
    "       4                          as panel_id,\n",
    "       current_consumption_w      as generation_power_wh\n",
    "       \n",
    "FROM temp_view"
   ]
  },
  {
   "cell_type": "code",
   "execution_count": null,
   "id": "de49c932-9eaf-4d2b-b258-348ff646712b",
   "metadata": {},
   "outputs": [],
   "source": []
  },
  {
   "cell_type": "code",
   "execution_count": null,
   "id": "b2fcfad7-cd19-4b12-a5b0-747934dac040",
   "metadata": {},
   "outputs": [],
   "source": []
  },
  {
   "cell_type": "markdown",
   "id": "6ff1af09-8b4b-49c6-82eb-b3a8339af08f",
   "metadata": {},
   "source": [
    "# Batteries Power Kafka Log Data"
   ]
  },
  {
   "cell_type": "markdown",
   "id": "c4f60a40-2f24-4d7b-bb97-5f4371748e80",
   "metadata": {},
   "source": [
    "## Read Kafka Log Data"
   ]
  },
  {
   "cell_type": "code",
   "execution_count": 70,
   "id": "3c3e4402-5740-450e-947a-97644145b6cc",
   "metadata": {},
   "outputs": [],
   "source": [
    "from pyspark.sql.functions import col, explode\n",
    "from pyspark.sql.types import StructType, StructField, TimestampType, FloatType, IntegerType, StringType, MapType\n",
    "\n",
    "\n",
    "data_file_date = \"2025-02-14\"\n",
    "\n",
    "battery_schema = StructType([\n",
    "    StructField(\"capacity_kwh\", FloatType(), True),\n",
    "    StructField(\"max_charge_speed_w\", FloatType(), True),\n",
    "    StructField(\"current_energy_wh\", FloatType(), True),\n",
    "    StructField(\"is_charging\", IntegerType(), True),\n",
    "    StructField(\"status\", StringType(), True),\n",
    "    StructField(\"max_output_w\", FloatType(), True)\n",
    "])\n",
    "\n",
    "_schema = StructType([\n",
    "    StructField(\"time_stamp\", TimestampType(), True),\n",
    "    StructField(\"batteries\", MapType(StringType(), battery_schema), True),  # Dictionary of batteries\n",
    "])\n",
    "\n",
    "battery_power_usage_df = spark.read.format(\"json\").schema(_schema)\\\n",
    "                   .load(f\"/home/iceberg/warehouse/solarx_kafka_log_data/kafka_log_battery_data_{data_file_date}.log\")\\\n",
    "                   .select(\"time_stamp\", explode(\"batteries\").alias(\"battery_name\", \"battery_data\"))\\\n",
    "                   .select(\n",
    "                        col(\"time_stamp\"),\n",
    "                        col(\"battery_name\"),\n",
    "                        col(\"battery_data.capacity_kwh\").alias(\"capacity_kwh\"),\n",
    "                        col(\"battery_data.max_charge_speed_w\").alias(\"max_charge_speed_w\"),\n",
    "                        col(\"battery_data.current_energy_wh\").alias(\"current_energy_wh\"),\n",
    "                        col(\"battery_data.is_charging\").alias(\"is_charging\"),\n",
    "                        col(\"battery_data.status\").alias(\"status\"),\n",
    "                        col(\"battery_data.max_output_w\").alias(\"max_output_w\")\n",
    "                   ).withColumn(\"15_minutes_interval\", F.floor((F.hour(F.col(\"time_stamp\"))*60 + F.minute(F.col(\"time_stamp\")) - 60) / 15))                                                                                            "
   ]
  },
  {
   "cell_type": "code",
   "execution_count": 71,
   "id": "7ef743f4-f3b2-41f5-8278-713914829f1f",
   "metadata": {},
   "outputs": [
    {
     "name": "stdout",
     "output_type": "stream",
     "text": [
      "+-------------------+------------+------------+------------------+-----------------+-----------+-----------+------------+-------------------+\n",
      "|         time_stamp|battery_name|capacity_kwh|max_charge_speed_w|current_energy_wh|is_charging|     status|max_output_w|15_minutes_interval|\n",
      "+-------------------+------------+------------+------------------+-----------------+-----------+-----------+------------+-------------------+\n",
      "|2025-02-14 02:08:52|   battery_1|        12.0|               1.0|           9860.0|          0|      ideal|        3.33|                  4|\n",
      "|2025-02-14 02:08:52|   battery_2|        12.0|               1.0|           8600.0|          0|      ideal|        3.33|                  4|\n",
      "|2025-02-14 02:08:52|   battery_3|        12.0|               1.0|          9999.27|          0|discharging|        3.33|                  4|\n",
      "|2025-02-14 02:08:53|   battery_1|        12.0|               1.0|           9860.0|          0|      ideal|        3.33|                  4|\n",
      "|2025-02-14 02:08:53|   battery_2|        12.0|               1.0|           8600.0|          0|      ideal|        3.33|                  4|\n",
      "|2025-02-14 02:08:53|   battery_3|        12.0|               1.0|          9998.46|          0|discharging|        3.33|                  4|\n",
      "|2025-02-14 02:08:54|   battery_1|        12.0|               1.0|           9860.0|          0|      ideal|        3.33|                  4|\n",
      "|2025-02-14 02:08:54|   battery_2|        12.0|               1.0|           8600.0|          0|      ideal|        3.33|                  4|\n",
      "|2025-02-14 02:08:54|   battery_3|        12.0|               1.0|           9997.7|          0|discharging|        3.33|                  4|\n",
      "|2025-02-14 02:08:55|   battery_1|        12.0|               1.0|           9860.0|          0|      ideal|        3.33|                  4|\n",
      "|2025-02-14 02:08:55|   battery_2|        12.0|               1.0|           8600.0|          0|      ideal|        3.33|                  4|\n",
      "|2025-02-14 02:08:55|   battery_3|        12.0|               1.0|          9996.86|          0|discharging|        3.33|                  4|\n",
      "|2025-02-14 02:08:56|   battery_1|        12.0|               1.0|           9860.0|          0|      ideal|        3.33|                  4|\n",
      "|2025-02-14 02:08:56|   battery_2|        12.0|               1.0|           8600.0|          0|      ideal|        3.33|                  4|\n",
      "|2025-02-14 02:08:56|   battery_3|        12.0|               1.0|          9996.03|          0|discharging|        3.33|                  4|\n",
      "|2025-02-14 02:08:57|   battery_1|        12.0|               1.0|           9860.0|          0|      ideal|        3.33|                  4|\n",
      "|2025-02-14 02:08:57|   battery_2|        12.0|               1.0|           8600.0|          0|      ideal|        3.33|                  4|\n",
      "|2025-02-14 02:08:57|   battery_3|        12.0|               1.0|          9995.23|          0|discharging|        3.33|                  4|\n",
      "|2025-02-14 02:08:58|   battery_1|        12.0|               1.0|           9860.0|          0|      ideal|        3.33|                  4|\n",
      "|2025-02-14 02:08:58|   battery_2|        12.0|               1.0|           8600.0|          0|      ideal|        3.33|                  4|\n",
      "+-------------------+------------+------------+------------------+-----------------+-----------+-----------+------------+-------------------+\n",
      "only showing top 20 rows\n",
      "\n"
     ]
    }
   ],
   "source": [
    "battery_power_usage_df.show()"
   ]
  },
  {
   "cell_type": "code",
   "execution_count": null,
   "id": "5268f041-0d53-42fe-ae49-71f7369a9d78",
   "metadata": {},
   "outputs": [],
   "source": []
  },
  {
   "cell_type": "code",
   "execution_count": null,
   "id": "c972d92b-f502-4b25-b18b-85474690d3f9",
   "metadata": {},
   "outputs": [],
   "source": []
  },
  {
   "cell_type": "markdown",
   "id": "7a9be836-0594-48b5-a39a-866512d2f129",
   "metadata": {},
   "source": [
    "## Iceberg Table"
   ]
  },
  {
   "cell_type": "code",
   "execution_count": 75,
   "id": "dcfaba86-476d-4ae6-85a3-430a874786d1",
   "metadata": {},
   "outputs": [
    {
     "data": {
      "text/html": [
       "<table>\n",
       "    <thead>\n",
       "        <tr>\n",
       "        </tr>\n",
       "    </thead>\n",
       "    <tbody>\n",
       "    </tbody>\n",
       "</table>"
      ],
      "text/plain": [
       "++\n",
       "||\n",
       "++\n",
       "++"
      ]
     },
     "execution_count": 75,
     "metadata": {},
     "output_type": "execute_result"
    }
   ],
   "source": [
    "%%sql\n",
    "\n",
    "DROP TABLE IF EXISTS SolarX_Raw_Transactions.battery_readings;"
   ]
  },
  {
   "cell_type": "code",
   "execution_count": 76,
   "id": "499f2a5e-a742-477a-8f2c-a4171771171e",
   "metadata": {},
   "outputs": [
    {
     "data": {
      "text/html": [
       "<table>\n",
       "    <thead>\n",
       "        <tr>\n",
       "        </tr>\n",
       "    </thead>\n",
       "    <tbody>\n",
       "    </tbody>\n",
       "</table>"
      ],
      "text/plain": [
       "++\n",
       "||\n",
       "++\n",
       "++"
      ]
     },
     "execution_count": 76,
     "metadata": {},
     "output_type": "execute_result"
    }
   ],
   "source": [
    "%%sql\n",
    "\n",
    "CREATE TABLE SolarX_Raw_Transactions.battery_readings(\n",
    "    timestamp               TIMESTAMP NOT NULL,\n",
    "    15_minutes_interval     INT NOT NULL,\n",
    "    battery_name            VARCHAR(15) NOT NULL,\n",
    "    capacity_kwh            FLOAT NOT NULL,\n",
    "    max_charge_speed_w      FLOAT NOT NULL,\n",
    "    current_energy_wh       FLOAT NOT NULL,\n",
    "    is_charging             FLOAT NOT NULL,\n",
    "    status                  VARCHAR(15) NOT NULL,\n",
    "    max_output_w            FLOAT NOT NULL\n",
    ")\n",
    "USING iceberg\n",
    "PARTITIONED BY (DAY(timestamp), battery_name, 15_minutes_interval);"
   ]
  },
  {
   "cell_type": "code",
   "execution_count": null,
   "id": "2fa934fa-3ef7-446d-b7ed-61cea9ef0412",
   "metadata": {},
   "outputs": [],
   "source": []
  },
  {
   "cell_type": "markdown",
   "id": "5e5e4097-d44c-48f0-837b-5fbaf181ff53",
   "metadata": {},
   "source": [
    "## ETL"
   ]
  },
  {
   "cell_type": "code",
   "execution_count": 77,
   "id": "4b9ce320-b570-4e6d-9eb9-8a2e4b363c20",
   "metadata": {},
   "outputs": [],
   "source": [
    "battery_power_usage_df.createOrReplaceTempView(\"temp_view\")"
   ]
  },
  {
   "cell_type": "code",
   "execution_count": 79,
   "id": "ea0aae14-b608-4289-80ce-04c4bf95be30",
   "metadata": {},
   "outputs": [
    {
     "name": "stderr",
     "output_type": "stream",
     "text": [
      "                                                                                \r"
     ]
    },
    {
     "data": {
      "text/html": [
       "<table>\n",
       "    <thead>\n",
       "        <tr>\n",
       "        </tr>\n",
       "    </thead>\n",
       "    <tbody>\n",
       "    </tbody>\n",
       "</table>"
      ],
      "text/plain": [
       "++\n",
       "||\n",
       "++\n",
       "++"
      ]
     },
     "execution_count": 79,
     "metadata": {},
     "output_type": "execute_result"
    }
   ],
   "source": [
    "%%sql\n",
    "    \n",
    "INSERT INTO SolarX_Raw_Transactions.battery_readings (timestamp, 15_minutes_interval, battery_name, capacity_kwh,\n",
    "                                                          max_charge_speed_w, current_energy_wh, is_charging, status, max_output_w)\n",
    "SELECT time_stamp                 as timestamp,\n",
    "       15_minutes_interval        as 15_minutes_interval,\n",
    "       battery_name               as battery_name,\n",
    "       capacity_kwh               as capacity_kwh,\n",
    "       max_charge_speed_w         as max_charge_speed_w,\n",
    "       current_energy_wh          as current_energy_wh,\n",
    "       is_charging                as is_charging,\n",
    "       status                     as status,\n",
    "       max_output_w               as max_output_w\n",
    "       \n",
    "FROM temp_view"
   ]
  },
  {
   "cell_type": "code",
   "execution_count": 80,
   "id": "bf1183bc-87a1-479f-838e-9d99dcf09c2b",
   "metadata": {},
   "outputs": [
    {
     "data": {
      "text/html": [
       "<table>\n",
       "    <thead>\n",
       "        <tr>\n",
       "            <th>timestamp</th>\n",
       "            <th>15_minutes_interval</th>\n",
       "            <th>battery_name</th>\n",
       "            <th>capacity_kwh</th>\n",
       "            <th>max_charge_speed_w</th>\n",
       "            <th>current_energy_wh</th>\n",
       "            <th>is_charging</th>\n",
       "            <th>status</th>\n",
       "            <th>max_output_w</th>\n",
       "        </tr>\n",
       "    </thead>\n",
       "    <tbody>\n",
       "        <tr>\n",
       "            <td>2025-02-14 12:00:00</td>\n",
       "            <td>44</td>\n",
       "            <td>battery_2</td>\n",
       "            <td>12.0</td>\n",
       "            <td>1.0</td>\n",
       "            <td>12000.0</td>\n",
       "            <td>0.0</td>\n",
       "            <td>ideal</td>\n",
       "            <td>3.3299999237060547</td>\n",
       "        </tr>\n",
       "        <tr>\n",
       "            <td>2025-02-14 12:00:01</td>\n",
       "            <td>44</td>\n",
       "            <td>battery_2</td>\n",
       "            <td>12.0</td>\n",
       "            <td>1.0</td>\n",
       "            <td>11999.2099609375</td>\n",
       "            <td>0.0</td>\n",
       "            <td>discharging</td>\n",
       "            <td>3.3299999237060547</td>\n",
       "        </tr>\n",
       "        <tr>\n",
       "            <td>2025-02-14 12:00:02</td>\n",
       "            <td>44</td>\n",
       "            <td>battery_2</td>\n",
       "            <td>12.0</td>\n",
       "            <td>1.0</td>\n",
       "            <td>11999.2099609375</td>\n",
       "            <td>0.0</td>\n",
       "            <td>discharging</td>\n",
       "            <td>3.3299999237060547</td>\n",
       "        </tr>\n",
       "        <tr>\n",
       "            <td>2025-02-14 12:00:03</td>\n",
       "            <td>44</td>\n",
       "            <td>battery_2</td>\n",
       "            <td>12.0</td>\n",
       "            <td>1.0</td>\n",
       "            <td>11999.2099609375</td>\n",
       "            <td>0.0</td>\n",
       "            <td>discharging</td>\n",
       "            <td>3.3299999237060547</td>\n",
       "        </tr>\n",
       "        <tr>\n",
       "            <td>2025-02-14 12:00:04</td>\n",
       "            <td>44</td>\n",
       "            <td>battery_2</td>\n",
       "            <td>12.0</td>\n",
       "            <td>1.0</td>\n",
       "            <td>11998.4501953125</td>\n",
       "            <td>0.0</td>\n",
       "            <td>discharging</td>\n",
       "            <td>3.3299999237060547</td>\n",
       "        </tr>\n",
       "        <tr>\n",
       "            <td>2025-02-14 12:00:05</td>\n",
       "            <td>44</td>\n",
       "            <td>battery_2</td>\n",
       "            <td>12.0</td>\n",
       "            <td>1.0</td>\n",
       "            <td>11998.4501953125</td>\n",
       "            <td>0.0</td>\n",
       "            <td>discharging</td>\n",
       "            <td>3.3299999237060547</td>\n",
       "        </tr>\n",
       "        <tr>\n",
       "            <td>2025-02-14 12:00:06</td>\n",
       "            <td>44</td>\n",
       "            <td>battery_2</td>\n",
       "            <td>12.0</td>\n",
       "            <td>1.0</td>\n",
       "            <td>11998.4501953125</td>\n",
       "            <td>0.0</td>\n",
       "            <td>discharging</td>\n",
       "            <td>3.3299999237060547</td>\n",
       "        </tr>\n",
       "        <tr>\n",
       "            <td>2025-02-14 12:00:07</td>\n",
       "            <td>44</td>\n",
       "            <td>battery_2</td>\n",
       "            <td>12.0</td>\n",
       "            <td>1.0</td>\n",
       "            <td>11997.669921875</td>\n",
       "            <td>0.0</td>\n",
       "            <td>discharging</td>\n",
       "            <td>3.3299999237060547</td>\n",
       "        </tr>\n",
       "        <tr>\n",
       "            <td>2025-02-14 12:00:08</td>\n",
       "            <td>44</td>\n",
       "            <td>battery_2</td>\n",
       "            <td>12.0</td>\n",
       "            <td>1.0</td>\n",
       "            <td>11997.669921875</td>\n",
       "            <td>0.0</td>\n",
       "            <td>discharging</td>\n",
       "            <td>3.3299999237060547</td>\n",
       "        </tr>\n",
       "        <tr>\n",
       "            <td>2025-02-14 12:00:09</td>\n",
       "            <td>44</td>\n",
       "            <td>battery_2</td>\n",
       "            <td>12.0</td>\n",
       "            <td>1.0</td>\n",
       "            <td>11997.669921875</td>\n",
       "            <td>0.0</td>\n",
       "            <td>discharging</td>\n",
       "            <td>3.3299999237060547</td>\n",
       "        </tr>\n",
       "    </tbody>\n",
       "</table>"
      ],
      "text/plain": [
       "+---------------------+---------------------+--------------+--------------+--------------------+-------------------+-------------+-------------+--------------------+\n",
       "|           timestamp | 15_minutes_interval | battery_name | capacity_kwh | max_charge_speed_w | current_energy_wh | is_charging |      status |       max_output_w |\n",
       "+---------------------+---------------------+--------------+--------------+--------------------+-------------------+-------------+-------------+--------------------+\n",
       "| 2025-02-14 12:00:00 |                  44 |    battery_2 |         12.0 |                1.0 |           12000.0 |         0.0 |       ideal | 3.3299999237060547 |\n",
       "| 2025-02-14 12:00:01 |                  44 |    battery_2 |         12.0 |                1.0 |  11999.2099609375 |         0.0 | discharging | 3.3299999237060547 |\n",
       "| 2025-02-14 12:00:02 |                  44 |    battery_2 |         12.0 |                1.0 |  11999.2099609375 |         0.0 | discharging | 3.3299999237060547 |\n",
       "| 2025-02-14 12:00:03 |                  44 |    battery_2 |         12.0 |                1.0 |  11999.2099609375 |         0.0 | discharging | 3.3299999237060547 |\n",
       "| 2025-02-14 12:00:04 |                  44 |    battery_2 |         12.0 |                1.0 |  11998.4501953125 |         0.0 | discharging | 3.3299999237060547 |\n",
       "| 2025-02-14 12:00:05 |                  44 |    battery_2 |         12.0 |                1.0 |  11998.4501953125 |         0.0 | discharging | 3.3299999237060547 |\n",
       "| 2025-02-14 12:00:06 |                  44 |    battery_2 |         12.0 |                1.0 |  11998.4501953125 |         0.0 | discharging | 3.3299999237060547 |\n",
       "| 2025-02-14 12:00:07 |                  44 |    battery_2 |         12.0 |                1.0 |   11997.669921875 |         0.0 | discharging | 3.3299999237060547 |\n",
       "| 2025-02-14 12:00:08 |                  44 |    battery_2 |         12.0 |                1.0 |   11997.669921875 |         0.0 | discharging | 3.3299999237060547 |\n",
       "| 2025-02-14 12:00:09 |                  44 |    battery_2 |         12.0 |                1.0 |   11997.669921875 |         0.0 | discharging | 3.3299999237060547 |\n",
       "+---------------------+---------------------+--------------+--------------+--------------------+-------------------+-------------+-------------+--------------------+"
      ]
     },
     "execution_count": 80,
     "metadata": {},
     "output_type": "execute_result"
    }
   ],
   "source": [
    "%%sql\n",
    "\n",
    "SELECT * FROM SolarX_Raw_Transactions.battery_readings LIMIT 10;"
   ]
  },
  {
   "cell_type": "code",
   "execution_count": null,
   "id": "6813e972-b66e-49ff-9257-d92e9ede7fe1",
   "metadata": {},
   "outputs": [],
   "source": []
  },
  {
   "cell_type": "code",
   "execution_count": null,
   "id": "98c275f7-87bd-4bf3-b265-c32fce9cda96",
   "metadata": {},
   "outputs": [],
   "source": []
  },
  {
   "cell_type": "code",
   "execution_count": 4,
   "id": "74535b5c-fedc-41e6-a00c-5bc9aad79f69",
   "metadata": {},
   "outputs": [],
   "source": [
    "spark.stop()"
   ]
  },
  {
   "cell_type": "code",
   "execution_count": null,
   "id": "a3b898a3-9bbd-4040-b5e6-226226cd391c",
   "metadata": {},
   "outputs": [],
   "source": []
  }
 ],
 "metadata": {
  "kernelspec": {
   "display_name": "Python 3 (ipykernel)",
   "language": "python",
   "name": "python3"
  },
  "language_info": {
   "codemirror_mode": {
    "name": "ipython",
    "version": 3
   },
   "file_extension": ".py",
   "mimetype": "text/x-python",
   "name": "python",
   "nbconvert_exporter": "python",
   "pygments_lexer": "ipython3",
   "version": "3.9.18"
  }
 },
 "nbformat": 4,
 "nbformat_minor": 5
}
