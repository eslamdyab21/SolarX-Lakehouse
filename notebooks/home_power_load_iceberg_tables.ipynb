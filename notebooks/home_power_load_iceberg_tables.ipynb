{
 "cells": [
  {
   "cell_type": "code",
   "execution_count": 51,
   "id": "9570cb1e-b770-4b55-a6df-e792a96ba2a5",
   "metadata": {},
   "outputs": [],
   "source": [
    "from pyspark.sql import SparkSession"
   ]
  },
  {
   "cell_type": "code",
   "execution_count": 52,
   "id": "56ca340b-a9e1-49b4-b7fe-a9caa0656a77",
   "metadata": {},
   "outputs": [
    {
     "name": "stderr",
     "output_type": "stream",
     "text": [
      "24/12/30 18:07:06 WARN Utils: Service 'SparkUI' could not bind on port 4040. Attempting port 4041.\n"
     ]
    }
   ],
   "source": [
    "spark = (\n",
    "    SparkSession\n",
    "    .builder\n",
    "    .appName(\"home-load-tables-iceberg\")\n",
    "    .master(\"spark://db21a0191477:7077\")\n",
    "    .config(\"spark.executor.cores\", 1)\n",
    "    .config(\"spark.cores.max\", 6)\n",
    "    .config(\"spark.executor.memory\", \"512M\")\n",
    "    .getOrCreate()\n",
    ")"
   ]
  },
  {
   "cell_type": "code",
   "execution_count": 53,
   "id": "1cc8f802-74fe-41e3-a9c8-a27d9ab0a441",
   "metadata": {},
   "outputs": [
    {
     "data": {
      "text/html": [
       "\n",
       "            <div>\n",
       "                <p><b>SparkSession - in-memory</b></p>\n",
       "                \n",
       "        <div>\n",
       "            <p><b>SparkContext</b></p>\n",
       "\n",
       "            <p><a href=\"http://db21a0191477:4041\">Spark UI</a></p>\n",
       "\n",
       "            <dl>\n",
       "              <dt>Version</dt>\n",
       "                <dd><code>v3.5.1</code></dd>\n",
       "              <dt>Master</dt>\n",
       "                <dd><code>spark://db21a0191477:7077</code></dd>\n",
       "              <dt>AppName</dt>\n",
       "                <dd><code>home-load-tables-iceberg</code></dd>\n",
       "            </dl>\n",
       "        </div>\n",
       "        \n",
       "            </div>\n",
       "        "
      ],
      "text/plain": [
       "<pyspark.sql.session.SparkSession at 0x7fc9cc114a60>"
      ]
     },
     "execution_count": 53,
     "metadata": {},
     "output_type": "execute_result"
    }
   ],
   "source": [
    "spark"
   ]
  },
  {
   "cell_type": "markdown",
   "id": "a7a20132-a24a-49f5-9c2c-4bc2b9faae03",
   "metadata": {},
   "source": [
    "# Read Home Power Usage CSV Data"
   ]
  },
  {
   "cell_type": "code",
   "execution_count": 90,
   "id": "805d6d1e-640a-4818-b13e-20308871e0aa",
   "metadata": {},
   "outputs": [],
   "source": [
    "# Read Weather CSV data\n",
    "from pyspark.sql import functions as F\n",
    "\n",
    "_schema = \"timestamp timestamp, min_consumption_wh float, max_consumption_wh float, avg_consumption_wh float\"\n",
    "\n",
    "home_power_usage_df = spark.read.format(\"csv\").schema(_schema).option(\"header\", True)\\\n",
    "                   .load(\"/home/iceberg/warehouse/home_power_usage_history/2013-01-01.csv\")\\\n",
    "                   .withColumn(\"15_minutes_interval\", F.floor((F.hour(F.col(\"timestamp\"))*60 + F.minute(F.col(\"timestamp\")) - 60) / 15))                                                                                                 \n"
   ]
  },
  {
   "cell_type": "code",
   "execution_count": 79,
   "id": "a7a8fdf9-1466-44a3-ba28-d7f889fddbe2",
   "metadata": {},
   "outputs": [
    {
     "name": "stdout",
     "output_type": "stream",
     "text": [
      "root\n",
      " |-- timestamp: timestamp (nullable = true)\n",
      " |-- min_consumption_wh: float (nullable = true)\n",
      " |-- max_consumption_wh: float (nullable = true)\n",
      " |-- avg_consumption_wh: float (nullable = true)\n",
      " |-- 15_minutes_interval: long (nullable = true)\n",
      "\n"
     ]
    }
   ],
   "source": [
    "home_power_usage_df.printSchema()"
   ]
  },
  {
   "cell_type": "markdown",
   "id": "38979403-e8cd-48be-9486-a3e90eedd6cf",
   "metadata": {},
   "source": [
    "# Optimize Number of Partitions and Shuffle"
   ]
  },
  {
   "cell_type": "code",
   "execution_count": 80,
   "id": "b6aa41e9-2f2f-4cbe-9bfc-903c8c92aa49",
   "metadata": {},
   "outputs": [
    {
     "name": "stdout",
     "output_type": "stream",
     "text": [
      "# shiffle:  92\n",
      "# partitions:  11\n",
      "# Parallelism:  6\n"
     ]
    }
   ],
   "source": [
    "# Check Spark Shuffle Partition setting\n",
    "\n",
    "print(\"# shiffle: \", spark.conf.get(\"spark.sql.shuffle.partitions\"))\n",
    "print(\"# partitions: \", home_power_usage_df.rdd.getNumPartitions())\n",
    "print(\"# Parallelism: \", spark.sparkContext.defaultParallelism)"
   ]
  },
  {
   "cell_type": "code",
   "execution_count": 81,
   "id": "96dcad13-5666-4e53-83c8-4eb10f728f4b",
   "metadata": {},
   "outputs": [],
   "source": [
    "spark.conf.set(\"spark.sql.shuffle.partitions\", 92)\n",
    "# weather_partitioned_df = weather_df.repartition(92, F.col('15_minutes_interval'))"
   ]
  },
  {
   "cell_type": "markdown",
   "id": "4d099877-7f4c-458a-a03c-a2239fe07d64",
   "metadata": {},
   "source": [
    "# Craete home power usage tables"
   ]
  },
  {
   "cell_type": "code",
   "execution_count": 82,
   "id": "80770864-99c3-4908-971a-1812e590ad86",
   "metadata": {},
   "outputs": [
    {
     "data": {
      "text/html": [
       "<table>\n",
       "    <thead>\n",
       "        <tr>\n",
       "        </tr>\n",
       "    </thead>\n",
       "    <tbody>\n",
       "    </tbody>\n",
       "</table>"
      ],
      "text/plain": [
       "++\n",
       "||\n",
       "++\n",
       "++"
      ]
     },
     "execution_count": 82,
     "metadata": {},
     "output_type": "execute_result"
    }
   ],
   "source": [
    "%%sql\n",
    "\n",
    "CREATE DATABASE IF NOT EXISTS SolarX_Raw_Transactions"
   ]
  },
  {
   "cell_type": "code",
   "execution_count": 83,
   "id": "8f20512b-886a-474d-80f8-d01b4b5556e5",
   "metadata": {},
   "outputs": [
    {
     "data": {
      "text/html": [
       "<table>\n",
       "    <thead>\n",
       "        <tr>\n",
       "        </tr>\n",
       "    </thead>\n",
       "    <tbody>\n",
       "    </tbody>\n",
       "</table>"
      ],
      "text/plain": [
       "++\n",
       "||\n",
       "++\n",
       "++"
      ]
     },
     "execution_count": 83,
     "metadata": {},
     "output_type": "execute_result"
    }
   ],
   "source": [
    "%%sql\n",
    "\n",
    "DROP TABLE IF EXISTS SolarX_Raw_Transactions.home_power_readings PURGE"
   ]
  },
  {
   "cell_type": "code",
   "execution_count": 84,
   "id": "bc602918-b73e-4cad-ba8d-d69689bd68b9",
   "metadata": {},
   "outputs": [
    {
     "data": {
      "text/html": [
       "<table>\n",
       "    <thead>\n",
       "        <tr>\n",
       "        </tr>\n",
       "    </thead>\n",
       "    <tbody>\n",
       "    </tbody>\n",
       "</table>"
      ],
      "text/plain": [
       "++\n",
       "||\n",
       "++\n",
       "++"
      ]
     },
     "execution_count": 84,
     "metadata": {},
     "output_type": "execute_result"
    }
   ],
   "source": [
    "%%sql\n",
    "\n",
    "CREATE TABLE SolarX_Raw_Transactions.home_power_readings(\n",
    "    timestamp               TIMESTAMP NOT NULL,\n",
    "    15_minutes_interval     SMALLINT  NOT NULL,\n",
    "    min_consumption_wh      FLOAT     NOT NULL,\n",
    "    max_consumption_wh      FLOAT     NOT NULL\n",
    ")\n",
    "USING iceberg\n",
    "PARTITIONED BY (DAY(timestamp), 15_minutes_interval);"
   ]
  },
  {
   "cell_type": "code",
   "execution_count": 85,
   "id": "ba43210c-2559-4d05-a322-f38733289213",
   "metadata": {},
   "outputs": [
    {
     "data": {
      "text/html": [
       "<table>\n",
       "    <thead>\n",
       "        <tr>\n",
       "            <th>timestamp</th>\n",
       "            <th>15_minutes_interval</th>\n",
       "            <th>min_consumption_wh</th>\n",
       "            <th>max_consumption_wh</th>\n",
       "        </tr>\n",
       "    </thead>\n",
       "    <tbody>\n",
       "    </tbody>\n",
       "</table>"
      ],
      "text/plain": [
       "+-----------+---------------------+--------------------+--------------------+\n",
       "| timestamp | 15_minutes_interval | min_consumption_wh | max_consumption_wh |\n",
       "+-----------+---------------------+--------------------+--------------------+\n",
       "+-----------+---------------------+--------------------+--------------------+"
      ]
     },
     "execution_count": 85,
     "metadata": {},
     "output_type": "execute_result"
    }
   ],
   "source": [
    "%%sql\n",
    "\n",
    "SELECT * FROM SolarX_Raw_Transactions.home_power_readings;"
   ]
  },
  {
   "cell_type": "code",
   "execution_count": 86,
   "id": "3e7b5f09-77f9-4558-88c4-3dce1a8be7a2",
   "metadata": {},
   "outputs": [],
   "source": [
    "home_power_usage_df.createOrReplaceTempView(\"temp_view\")"
   ]
  },
  {
   "cell_type": "code",
   "execution_count": 87,
   "id": "4b92a6f3-02ab-4455-89c5-af12a3b62600",
   "metadata": {},
   "outputs": [
    {
     "name": "stderr",
     "output_type": "stream",
     "text": [
      "                                                                                \r"
     ]
    },
    {
     "data": {
      "text/html": [
       "<table>\n",
       "    <thead>\n",
       "        <tr>\n",
       "        </tr>\n",
       "    </thead>\n",
       "    <tbody>\n",
       "    </tbody>\n",
       "</table>"
      ],
      "text/plain": [
       "++\n",
       "||\n",
       "++\n",
       "++"
      ]
     },
     "execution_count": 87,
     "metadata": {},
     "output_type": "execute_result"
    }
   ],
   "source": [
    "%%sql\n",
    "    \n",
    "INSERT INTO SolarX_Raw_Transactions.home_power_readings (timestamp, 15_minutes_interval, min_consumption_wh, max_consumption_wh)\n",
    "SELECT timestamp                  as timestamp,\n",
    "       15_minutes_interval        as 15_minutes_interval,\n",
    "       min_consumption_wh         as min_consumption_wh,\n",
    "       max_consumption_wh         as max_consumption_wh\n",
    "       \n",
    "FROM temp_view"
   ]
  },
  {
   "cell_type": "markdown",
   "id": "9d17922d-bf5e-4301-b06c-ae82496c512e",
   "metadata": {},
   "source": [
    "# Add Day 2 Data"
   ]
  },
  {
   "cell_type": "code",
   "execution_count": 92,
   "id": "d8980ba7-a410-4b4e-b118-6e0155be1cd0",
   "metadata": {},
   "outputs": [],
   "source": [
    "_schema = \"timestamp timestamp, min_consumption_wh float, max_consumption_wh float, avg_consumption_wh float\"\n",
    "\n",
    "home_power_usage_df2 = spark.read.format(\"csv\").schema(_schema).option(\"header\", True)\\\n",
    "                   .load(\"/home/iceberg/warehouse/home_power_usage_history/2013-01-02.csv\")\\\n",
    "                   .withColumn(\"15_minutes_interval\", F.floor((F.hour(F.col(\"timestamp\"))*60 + F.minute(F.col(\"timestamp\")) - 60) / 15))                                                                                                 \n"
   ]
  },
  {
   "cell_type": "code",
   "execution_count": 93,
   "id": "dc9b489a-4d55-41d0-9377-a56c0ebfbdb4",
   "metadata": {},
   "outputs": [],
   "source": [
    "home_power_usage_df2.createOrReplaceTempView(\"temp_view_2\")"
   ]
  },
  {
   "cell_type": "code",
   "execution_count": 94,
   "id": "3c8bcf6d-5c13-4e80-b199-4d38d0f4e562",
   "metadata": {},
   "outputs": [
    {
     "name": "stderr",
     "output_type": "stream",
     "text": [
      "                                                                                \r"
     ]
    },
    {
     "data": {
      "text/html": [
       "<table>\n",
       "    <thead>\n",
       "        <tr>\n",
       "        </tr>\n",
       "    </thead>\n",
       "    <tbody>\n",
       "    </tbody>\n",
       "</table>"
      ],
      "text/plain": [
       "++\n",
       "||\n",
       "++\n",
       "++"
      ]
     },
     "execution_count": 94,
     "metadata": {},
     "output_type": "execute_result"
    }
   ],
   "source": [
    "%%sql\n",
    "    \n",
    "INSERT INTO SolarX_Raw_Transactions.home_power_readings (timestamp, 15_minutes_interval, min_consumption_wh, max_consumption_wh)\n",
    "SELECT timestamp                  as timestamp,\n",
    "       15_minutes_interval        as 15_minutes_interval,\n",
    "       min_consumption_wh         as min_consumption_wh,\n",
    "       max_consumption_wh         as max_consumption_wh\n",
    "       \n",
    "FROM temp_view_2"
   ]
  },
  {
   "cell_type": "markdown",
   "id": "da8e29c0-6823-4f3e-b3be-17986869a346",
   "metadata": {},
   "source": [
    "# Add Day 3 Data"
   ]
  },
  {
   "cell_type": "code",
   "execution_count": 96,
   "id": "e1037469-191e-4adb-855a-08c7715358b7",
   "metadata": {},
   "outputs": [],
   "source": [
    "_schema = \"timestamp timestamp, min_consumption_wh float, max_consumption_wh float, avg_consumption_wh float\"\n",
    "\n",
    "home_power_usage_df3 = spark.read.format(\"csv\").schema(_schema).option(\"header\", True)\\\n",
    "                   .load(\"/home/iceberg/warehouse/home_power_usage_history/2013-01-03.csv\")\\\n",
    "                   .withColumn(\"15_minutes_interval\", F.floor((F.hour(F.col(\"timestamp\"))*60 + F.minute(F.col(\"timestamp\")) - 60) / 15))                                                                                                 \n"
   ]
  },
  {
   "cell_type": "code",
   "execution_count": 97,
   "id": "bb71fa7a-ea74-4a2f-887a-725bc35cac17",
   "metadata": {},
   "outputs": [],
   "source": [
    "home_power_usage_df3.createOrReplaceTempView(\"temp_view_3\")"
   ]
  },
  {
   "cell_type": "code",
   "execution_count": 98,
   "id": "e8417b18-7426-438a-874c-3001ebe63342",
   "metadata": {},
   "outputs": [
    {
     "name": "stderr",
     "output_type": "stream",
     "text": [
      "                                                                                \r"
     ]
    },
    {
     "data": {
      "text/html": [
       "<table>\n",
       "    <thead>\n",
       "        <tr>\n",
       "        </tr>\n",
       "    </thead>\n",
       "    <tbody>\n",
       "    </tbody>\n",
       "</table>"
      ],
      "text/plain": [
       "++\n",
       "||\n",
       "++\n",
       "++"
      ]
     },
     "execution_count": 98,
     "metadata": {},
     "output_type": "execute_result"
    }
   ],
   "source": [
    "%%sql\n",
    "    \n",
    "INSERT INTO SolarX_Raw_Transactions.home_power_readings (timestamp, 15_minutes_interval, min_consumption_wh, max_consumption_wh)\n",
    "SELECT timestamp                  as timestamp,\n",
    "       15_minutes_interval        as 15_minutes_interval,\n",
    "       min_consumption_wh         as min_consumption_wh,\n",
    "       max_consumption_wh         as max_consumption_wh\n",
    "       \n",
    "FROM temp_view_3"
   ]
  },
  {
   "cell_type": "markdown",
   "id": "5c453739-e919-457b-bd20-54a71a8ed3ba",
   "metadata": {},
   "source": [
    "# Some Analysis"
   ]
  },
  {
   "cell_type": "code",
   "execution_count": 99,
   "id": "62d00548-3470-4a58-bad1-587f398b3b7d",
   "metadata": {},
   "outputs": [
    {
     "data": {
      "text/html": [
       "<table>\n",
       "    <thead>\n",
       "        <tr>\n",
       "            <th>timestamp</th>\n",
       "            <th>15_minutes_interval</th>\n",
       "            <th>min_consumption_wh</th>\n",
       "            <th>max_consumption_wh</th>\n",
       "        </tr>\n",
       "    </thead>\n",
       "    <tbody>\n",
       "        <tr>\n",
       "            <td>2013-01-03 22:15:00</td>\n",
       "            <td>85</td>\n",
       "            <td>0.0009668199927546084</td>\n",
       "            <td>0.005331419408321381</td>\n",
       "        </tr>\n",
       "        <tr>\n",
       "            <td>2013-01-03 22:15:00.005000</td>\n",
       "            <td>85</td>\n",
       "            <td>0.0009668199345469475</td>\n",
       "            <td>0.005331420339643955</td>\n",
       "        </tr>\n",
       "        <tr>\n",
       "            <td>2013-01-03 22:15:00.010000</td>\n",
       "            <td>85</td>\n",
       "            <td>0.0009668199345469475</td>\n",
       "            <td>0.005331421736627817</td>\n",
       "        </tr>\n",
       "        <tr>\n",
       "            <td>2013-01-03 22:15:00.015000</td>\n",
       "            <td>85</td>\n",
       "            <td>0.0009668198763392866</td>\n",
       "            <td>0.005331423133611679</td>\n",
       "        </tr>\n",
       "        <tr>\n",
       "            <td>2013-01-03 22:15:00.020000</td>\n",
       "            <td>85</td>\n",
       "            <td>0.0009668198181316257</td>\n",
       "            <td>0.005331424530595541</td>\n",
       "        </tr>\n",
       "        <tr>\n",
       "            <td>2013-01-03 22:15:00.025000</td>\n",
       "            <td>85</td>\n",
       "            <td>0.0009668197599239647</td>\n",
       "            <td>0.005331425461918116</td>\n",
       "        </tr>\n",
       "        <tr>\n",
       "            <td>2013-01-03 22:15:00.030000</td>\n",
       "            <td>85</td>\n",
       "            <td>0.0009668197017163038</td>\n",
       "            <td>0.0053314268589019775</td>\n",
       "        </tr>\n",
       "        <tr>\n",
       "            <td>2013-01-03 22:15:00.035000</td>\n",
       "            <td>85</td>\n",
       "            <td>0.0009668196435086429</td>\n",
       "            <td>0.0053314282558858395</td>\n",
       "        </tr>\n",
       "        <tr>\n",
       "            <td>2013-01-03 22:15:00.040000</td>\n",
       "            <td>85</td>\n",
       "            <td>0.000966819585300982</td>\n",
       "            <td>0.005331429187208414</td>\n",
       "        </tr>\n",
       "        <tr>\n",
       "            <td>2013-01-03 22:15:00.045000</td>\n",
       "            <td>85</td>\n",
       "            <td>0.000966819585300982</td>\n",
       "            <td>0.005331430584192276</td>\n",
       "        </tr>\n",
       "        <tr>\n",
       "            <td>2013-01-03 22:15:00.050000</td>\n",
       "            <td>85</td>\n",
       "            <td>0.0009668195270933211</td>\n",
       "            <td>0.005331431981176138</td>\n",
       "        </tr>\n",
       "        <tr>\n",
       "            <td>2013-01-03 22:15:00.055000</td>\n",
       "            <td>85</td>\n",
       "            <td>0.0009668194688856602</td>\n",
       "            <td>0.00533143337816</td>\n",
       "        </tr>\n",
       "        <tr>\n",
       "            <td>2013-01-03 22:15:00.060000</td>\n",
       "            <td>85</td>\n",
       "            <td>0.0009668194106779993</td>\n",
       "            <td>0.0053314343094825745</td>\n",
       "        </tr>\n",
       "        <tr>\n",
       "            <td>2013-01-03 22:15:00.065000</td>\n",
       "            <td>85</td>\n",
       "            <td>0.0009668193524703383</td>\n",
       "            <td>0.005331435706466436</td>\n",
       "        </tr>\n",
       "        <tr>\n",
       "            <td>2013-01-03 22:15:00.070000</td>\n",
       "            <td>85</td>\n",
       "            <td>0.0009668192942626774</td>\n",
       "            <td>0.005331437103450298</td>\n",
       "        </tr>\n",
       "    </tbody>\n",
       "</table>"
      ],
      "text/plain": [
       "+----------------------------+---------------------+-----------------------+-----------------------+\n",
       "|                  timestamp | 15_minutes_interval |    min_consumption_wh |    max_consumption_wh |\n",
       "+----------------------------+---------------------+-----------------------+-----------------------+\n",
       "|        2013-01-03 22:15:00 |                  85 | 0.0009668199927546084 |  0.005331419408321381 |\n",
       "| 2013-01-03 22:15:00.005000 |                  85 | 0.0009668199345469475 |  0.005331420339643955 |\n",
       "| 2013-01-03 22:15:00.010000 |                  85 | 0.0009668199345469475 |  0.005331421736627817 |\n",
       "| 2013-01-03 22:15:00.015000 |                  85 | 0.0009668198763392866 |  0.005331423133611679 |\n",
       "| 2013-01-03 22:15:00.020000 |                  85 | 0.0009668198181316257 |  0.005331424530595541 |\n",
       "| 2013-01-03 22:15:00.025000 |                  85 | 0.0009668197599239647 |  0.005331425461918116 |\n",
       "| 2013-01-03 22:15:00.030000 |                  85 | 0.0009668197017163038 | 0.0053314268589019775 |\n",
       "| 2013-01-03 22:15:00.035000 |                  85 | 0.0009668196435086429 | 0.0053314282558858395 |\n",
       "| 2013-01-03 22:15:00.040000 |                  85 |  0.000966819585300982 |  0.005331429187208414 |\n",
       "| 2013-01-03 22:15:00.045000 |                  85 |  0.000966819585300982 |  0.005331430584192276 |\n",
       "| 2013-01-03 22:15:00.050000 |                  85 | 0.0009668195270933211 |  0.005331431981176138 |\n",
       "| 2013-01-03 22:15:00.055000 |                  85 | 0.0009668194688856602 |      0.00533143337816 |\n",
       "| 2013-01-03 22:15:00.060000 |                  85 | 0.0009668194106779993 | 0.0053314343094825745 |\n",
       "| 2013-01-03 22:15:00.065000 |                  85 | 0.0009668193524703383 |  0.005331435706466436 |\n",
       "| 2013-01-03 22:15:00.070000 |                  85 | 0.0009668192942626774 |  0.005331437103450298 |\n",
       "+----------------------------+---------------------+-----------------------+-----------------------+"
      ]
     },
     "execution_count": 99,
     "metadata": {},
     "output_type": "execute_result"
    }
   ],
   "source": [
    "%%sql\n",
    "\n",
    "SELECT * FROM SolarX_Raw_Transactions.home_power_readings LIMIT 15;"
   ]
  },
  {
   "cell_type": "code",
   "execution_count": 72,
   "id": "8f2ca9df-3f1d-448b-9aa0-2760852c8350",
   "metadata": {},
   "outputs": [
    {
     "name": "stderr",
     "output_type": "stream",
     "text": [
      "                                                                                \r"
     ]
    },
    {
     "data": {
      "text/html": [
       "<table>\n",
       "    <thead>\n",
       "        <tr>\n",
       "            <th>day</th>\n",
       "            <th>hour</th>\n",
       "            <th>min_consumption_wh</th>\n",
       "            <th>max_consumption_wh</th>\n",
       "        </tr>\n",
       "    </thead>\n",
       "    <tbody>\n",
       "        <tr>\n",
       "            <td>1</td>\n",
       "            <td>1</td>\n",
       "            <td>1688.8756494044792</td>\n",
       "            <td>9411.99205300957</td>\n",
       "        </tr>\n",
       "        <tr>\n",
       "            <td>1</td>\n",
       "            <td>2</td>\n",
       "            <td>1529.512551076943</td>\n",
       "            <td>9357.665394478478</td>\n",
       "        </tr>\n",
       "        <tr>\n",
       "            <td>1</td>\n",
       "            <td>3</td>\n",
       "            <td>1527.5180095451651</td>\n",
       "            <td>9382.351135632023</td>\n",
       "        </tr>\n",
       "        <tr>\n",
       "            <td>1</td>\n",
       "            <td>4</td>\n",
       "            <td>1680.5353006699588</td>\n",
       "            <td>7591.124603360891</td>\n",
       "        </tr>\n",
       "        <tr>\n",
       "            <td>1</td>\n",
       "            <td>5</td>\n",
       "            <td>1646.826776633272</td>\n",
       "            <td>7016.384929115884</td>\n",
       "        </tr>\n",
       "        <tr>\n",
       "            <td>1</td>\n",
       "            <td>6</td>\n",
       "            <td>3886.2872099610977</td>\n",
       "            <td>11014.719419708475</td>\n",
       "        </tr>\n",
       "        <tr>\n",
       "            <td>1</td>\n",
       "            <td>7</td>\n",
       "            <td>3799.2467928184196</td>\n",
       "            <td>11138.108585019596</td>\n",
       "        </tr>\n",
       "        <tr>\n",
       "            <td>1</td>\n",
       "            <td>8</td>\n",
       "            <td>1533.8708930264693</td>\n",
       "            <td>7224.401512389071</td>\n",
       "        </tr>\n",
       "        <tr>\n",
       "            <td>1</td>\n",
       "            <td>9</td>\n",
       "            <td>1573.2611340137664</td>\n",
       "            <td>6672.8336772844195</td>\n",
       "        </tr>\n",
       "        <tr>\n",
       "            <td>1</td>\n",
       "            <td>10</td>\n",
       "            <td>1579.7980958616827</td>\n",
       "            <td>7621.791841390543</td>\n",
       "        </tr>\n",
       "        <tr>\n",
       "            <td>1</td>\n",
       "            <td>11</td>\n",
       "            <td>3457.800510509638</td>\n",
       "            <td>12567.94982376229</td>\n",
       "        </tr>\n",
       "        <tr>\n",
       "            <td>1</td>\n",
       "            <td>12</td>\n",
       "            <td>4206.423835129943</td>\n",
       "            <td>16222.808401556686</td>\n",
       "        </tr>\n",
       "        <tr>\n",
       "            <td>1</td>\n",
       "            <td>13</td>\n",
       "            <td>3052.905924296472</td>\n",
       "            <td>16306.33407731168</td>\n",
       "        </tr>\n",
       "        <tr>\n",
       "            <td>1</td>\n",
       "            <td>14</td>\n",
       "            <td>4166.640358298086</td>\n",
       "            <td>17827.30734689161</td>\n",
       "        </tr>\n",
       "        <tr>\n",
       "            <td>1</td>\n",
       "            <td>15</td>\n",
       "            <td>5888.133648781106</td>\n",
       "            <td>18664.780408192426</td>\n",
       "        </tr>\n",
       "        <tr>\n",
       "            <td>1</td>\n",
       "            <td>16</td>\n",
       "            <td>4364.113106929697</td>\n",
       "            <td>14230.02076428011</td>\n",
       "        </tr>\n",
       "        <tr>\n",
       "            <td>1</td>\n",
       "            <td>17</td>\n",
       "            <td>2273.754398733843</td>\n",
       "            <td>9224.35044872947</td>\n",
       "        </tr>\n",
       "        <tr>\n",
       "            <td>1</td>\n",
       "            <td>18</td>\n",
       "            <td>1888.349413599819</td>\n",
       "            <td>7710.933488825336</td>\n",
       "        </tr>\n",
       "        <tr>\n",
       "            <td>1</td>\n",
       "            <td>19</td>\n",
       "            <td>1538.663871970959</td>\n",
       "            <td>8383.600997536443</td>\n",
       "        </tr>\n",
       "        <tr>\n",
       "            <td>1</td>\n",
       "            <td>20</td>\n",
       "            <td>3834.2171112427022</td>\n",
       "            <td>13470.221316424198</td>\n",
       "        </tr>\n",
       "        <tr>\n",
       "            <td>1</td>\n",
       "            <td>21</td>\n",
       "            <td>3927.6266069884878</td>\n",
       "            <td>13485.459226345643</td>\n",
       "        </tr>\n",
       "        <tr>\n",
       "            <td>1</td>\n",
       "            <td>22</td>\n",
       "            <td>1623.346794341458</td>\n",
       "            <td>9790.325405414216</td>\n",
       "        </tr>\n",
       "        <tr>\n",
       "            <td>1</td>\n",
       "            <td>23</td>\n",
       "            <td>1393.3633200582117</td>\n",
       "            <td>9341.250686440617</td>\n",
       "        </tr>\n",
       "    </tbody>\n",
       "</table>"
      ],
      "text/plain": [
       "+-----+------+--------------------+--------------------+\n",
       "| day | hour | min_consumption_wh | max_consumption_wh |\n",
       "+-----+------+--------------------+--------------------+\n",
       "|   1 |    1 | 1688.8756494044792 |   9411.99205300957 |\n",
       "|   1 |    2 |  1529.512551076943 |  9357.665394478478 |\n",
       "|   1 |    3 | 1527.5180095451651 |  9382.351135632023 |\n",
       "|   1 |    4 | 1680.5353006699588 |  7591.124603360891 |\n",
       "|   1 |    5 |  1646.826776633272 |  7016.384929115884 |\n",
       "|   1 |    6 | 3886.2872099610977 | 11014.719419708475 |\n",
       "|   1 |    7 | 3799.2467928184196 | 11138.108585019596 |\n",
       "|   1 |    8 | 1533.8708930264693 |  7224.401512389071 |\n",
       "|   1 |    9 | 1573.2611340137664 | 6672.8336772844195 |\n",
       "|   1 |   10 | 1579.7980958616827 |  7621.791841390543 |\n",
       "|   1 |   11 |  3457.800510509638 |  12567.94982376229 |\n",
       "|   1 |   12 |  4206.423835129943 | 16222.808401556686 |\n",
       "|   1 |   13 |  3052.905924296472 |  16306.33407731168 |\n",
       "|   1 |   14 |  4166.640358298086 |  17827.30734689161 |\n",
       "|   1 |   15 |  5888.133648781106 | 18664.780408192426 |\n",
       "|   1 |   16 |  4364.113106929697 |  14230.02076428011 |\n",
       "|   1 |   17 |  2273.754398733843 |   9224.35044872947 |\n",
       "|   1 |   18 |  1888.349413599819 |  7710.933488825336 |\n",
       "|   1 |   19 |  1538.663871970959 |  8383.600997536443 |\n",
       "|   1 |   20 | 3834.2171112427022 | 13470.221316424198 |\n",
       "|   1 |   21 | 3927.6266069884878 | 13485.459226345643 |\n",
       "|   1 |   22 |  1623.346794341458 |  9790.325405414216 |\n",
       "|   1 |   23 | 1393.3633200582117 |  9341.250686440617 |\n",
       "+-----+------+--------------------+--------------------+"
      ]
     },
     "execution_count": 72,
     "metadata": {},
     "output_type": "execute_result"
    }
   ],
   "source": [
    "%%sql\n",
    "\n",
    "SELECT \n",
    "    DAY(timestamp) as day,\n",
    "    HOUR(timestamp) as hour, \n",
    "    SUM(min_consumption_wh) as min_consumption_wh, \n",
    "    SUM(max_consumption_wh) as max_consumption_wh\n",
    "FROM SolarX_Raw_Transactions.home_power_readings\n",
    "WHERE DAY(timestamp) = 1\n",
    "GROUP BY day, hour\n",
    "SORT BY hour\n"
   ]
  },
  {
   "cell_type": "code",
   "execution_count": 100,
   "id": "6e1b5bf2-f438-4846-9415-fba24d59157f",
   "metadata": {},
   "outputs": [
    {
     "name": "stderr",
     "output_type": "stream",
     "text": [
      "                                                                                \r"
     ]
    },
    {
     "data": {
      "text/html": [
       "<table>\n",
       "    <thead>\n",
       "        <tr>\n",
       "            <th>day</th>\n",
       "            <th>min_consumption_kwh</th>\n",
       "            <th>max_consumption_kwh</th>\n",
       "        </tr>\n",
       "    </thead>\n",
       "    <tbody>\n",
       "        <tr>\n",
       "            <td>1</td>\n",
       "            <td>31.030535656945837</td>\n",
       "            <td>126.82835777154983</td>\n",
       "        </tr>\n",
       "        <tr>\n",
       "            <td>2</td>\n",
       "            <td>33.01199622871832</td>\n",
       "            <td>121.20579759246623</td>\n",
       "        </tr>\n",
       "        <tr>\n",
       "            <td>3</td>\n",
       "            <td>31.291361060320924</td>\n",
       "            <td>121.99561212848174</td>\n",
       "        </tr>\n",
       "    </tbody>\n",
       "</table>"
      ],
      "text/plain": [
       "+-----+---------------------+---------------------+\n",
       "| day | min_consumption_kwh | max_consumption_kwh |\n",
       "+-----+---------------------+---------------------+\n",
       "|   1 |  31.030535656945837 |  126.82835777154983 |\n",
       "|   2 |   33.01199622871832 |  121.20579759246623 |\n",
       "|   3 |  31.291361060320924 |  121.99561212848174 |\n",
       "+-----+---------------------+---------------------+"
      ]
     },
     "execution_count": 100,
     "metadata": {},
     "output_type": "execute_result"
    }
   ],
   "source": [
    "%%sql\n",
    "\n",
    "SELECT \n",
    "    DAY(timestamp) as day, \n",
    "    SUM(min_consumption_wh)/1000 as min_consumption_kwh, \n",
    "    SUM(max_consumption_wh)/1000 as max_consumption_kwh\n",
    "FROM SolarX_Raw_Transactions.home_power_readings\n",
    "GROUP BY day"
   ]
  },
  {
   "cell_type": "code",
   "execution_count": null,
   "id": "0edee8d7-0e92-4538-837d-a7f790d26b48",
   "metadata": {},
   "outputs": [],
   "source": []
  },
  {
   "cell_type": "code",
   "execution_count": null,
   "id": "6ebd6dda-17c6-43a6-80b9-96bc548241c6",
   "metadata": {},
   "outputs": [],
   "source": []
  },
  {
   "cell_type": "code",
   "execution_count": 101,
   "id": "75eb35ea-f429-4a3c-9e4d-18219e0afae2",
   "metadata": {},
   "outputs": [],
   "source": [
    "spark.stop()"
   ]
  },
  {
   "cell_type": "code",
   "execution_count": null,
   "id": "d2685a48-2d26-4dc1-a9b3-d48fca09d7a3",
   "metadata": {},
   "outputs": [],
   "source": []
  }
 ],
 "metadata": {
  "kernelspec": {
   "display_name": "Python 3 (ipykernel)",
   "language": "python",
   "name": "python3"
  },
  "language_info": {
   "codemirror_mode": {
    "name": "ipython",
    "version": 3
   },
   "file_extension": ".py",
   "mimetype": "text/x-python",
   "name": "python",
   "nbconvert_exporter": "python",
   "pygments_lexer": "ipython3",
   "version": "3.9.18"
  }
 },
 "nbformat": 4,
 "nbformat_minor": 5
}
