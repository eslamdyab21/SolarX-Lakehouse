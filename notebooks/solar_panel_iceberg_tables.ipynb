{
 "cells": [
  {
   "cell_type": "code",
   "execution_count": 5,
   "id": "38af5786-dc73-4e7c-bd92-5e48815ddfd3",
   "metadata": {},
   "outputs": [],
   "source": [
    "from pyspark.sql import SparkSession"
   ]
  },
  {
   "cell_type": "code",
   "execution_count": 6,
   "id": "da864bf4-9eed-416d-b926-c10cea8ecdc1",
   "metadata": {},
   "outputs": [
    {
     "name": "stderr",
     "output_type": "stream",
     "text": [
      "24/12/30 15:33:22 WARN Utils: Service 'SparkUI' could not bind on port 4040. Attempting port 4041.\n"
     ]
    }
   ],
   "source": [
    "spark = (\n",
    "    SparkSession\n",
    "    .builder\n",
    "    .appName(\"solar-panel-tables-iceberg\")\n",
    "    .master(\"spark://2858efdf2609:7077\")\n",
    "    .config(\"spark.executor.cores\", 1)\n",
    "    .config(\"spark.cores.max\", 6)\n",
    "    .config(\"spark.executor.memory\", \"512M\")\n",
    "    .getOrCreate()\n",
    ")"
   ]
  },
  {
   "cell_type": "code",
   "execution_count": 7,
   "id": "bc1ab646-5fc9-46e6-9f53-e29030c08eb2",
   "metadata": {},
   "outputs": [
    {
     "data": {
      "text/html": [
       "\n",
       "            <div>\n",
       "                <p><b>SparkSession - in-memory</b></p>\n",
       "                \n",
       "        <div>\n",
       "            <p><b>SparkContext</b></p>\n",
       "\n",
       "            <p><a href=\"http://2858efdf2609:4041\">Spark UI</a></p>\n",
       "\n",
       "            <dl>\n",
       "              <dt>Version</dt>\n",
       "                <dd><code>v3.5.1</code></dd>\n",
       "              <dt>Master</dt>\n",
       "                <dd><code>spark://2858efdf2609:7077</code></dd>\n",
       "              <dt>AppName</dt>\n",
       "                <dd><code>solar-panel-tables-iceberg</code></dd>\n",
       "            </dl>\n",
       "        </div>\n",
       "        \n",
       "            </div>\n",
       "        "
      ],
      "text/plain": [
       "<pyspark.sql.session.SparkSession at 0x7fd1cc55ce50>"
      ]
     },
     "execution_count": 7,
     "metadata": {},
     "output_type": "execute_result"
    }
   ],
   "source": [
    "spark"
   ]
  },
  {
   "cell_type": "code",
   "execution_count": null,
   "id": "f4119d42-7c9b-4a15-882b-03e6c45f5beb",
   "metadata": {},
   "outputs": [],
   "source": []
  },
  {
   "cell_type": "markdown",
   "id": "faa1cda7-e3c3-4928-8a02-c021ffd3c11e",
   "metadata": {},
   "source": [
    "# Read Weather CSV data"
   ]
  },
  {
   "cell_type": "code",
   "execution_count": 8,
   "id": "c42b55a6-76b5-487f-8b08-b42257831933",
   "metadata": {},
   "outputs": [],
   "source": [
    "# Read Weather CSV data\n",
    "from pyspark.sql import functions as F\n",
    "\n",
    "_schema = \"timestamp timestamp, solar_intensity float, temp float\"\n",
    "\n",
    "weather_df = spark.read.format(\"csv\").schema(_schema).option(\"header\", True)\\\n",
    "                   .load(\"/home/iceberg/warehouse/weather_history_splitted_resampled/2013-01-01.csv\")\\\n",
    "                   .withColumn(\"15_min_interval\", F.floor((F.hour(F.col(\"timestamp\"))*60 + F.minute(F.col(\"timestamp\")) - 60) / 15))                                                                                                 "
   ]
  },
  {
   "cell_type": "code",
   "execution_count": 9,
   "id": "0165ac69-139d-4ad7-bceb-3dbaeb361c23",
   "metadata": {},
   "outputs": [
    {
     "name": "stdout",
     "output_type": "stream",
     "text": [
      "root\n",
      " |-- timestamp: timestamp (nullable = true)\n",
      " |-- solar_intensity: float (nullable = true)\n",
      " |-- temp: float (nullable = true)\n",
      " |-- 15_min_interval: long (nullable = true)\n",
      "\n"
     ]
    }
   ],
   "source": [
    "weather_df.printSchema()"
   ]
  },
  {
   "cell_type": "markdown",
   "id": "65d10c55-c1cb-46cd-898a-134b378c706d",
   "metadata": {},
   "source": [
    "# Optimize Number of Partitions and Shuffle"
   ]
  },
  {
   "cell_type": "code",
   "execution_count": 10,
   "id": "27dee40f-dcfc-42fd-9665-d706ab28190e",
   "metadata": {},
   "outputs": [
    {
     "name": "stdout",
     "output_type": "stream",
     "text": [
      "# shiffle:  200\n",
      "# partitions:  6\n"
     ]
    }
   ],
   "source": [
    "# Check Spark Shuffle Partition setting\n",
    "\n",
    "print(\"# shiffle: \", spark.conf.get(\"spark.sql.shuffle.partitions\"))\n",
    "print(\"# partitions: \", weather_df.rdd.getNumPartitions())"
   ]
  },
  {
   "cell_type": "code",
   "execution_count": 11,
   "id": "1a731e22-8499-4dd4-9772-533bdea9ec84",
   "metadata": {},
   "outputs": [
    {
     "data": {
      "text/plain": [
       "6"
      ]
     },
     "execution_count": 11,
     "metadata": {},
     "output_type": "execute_result"
    }
   ],
   "source": [
    "spark.sparkContext.defaultParallelism"
   ]
  },
  {
   "cell_type": "code",
   "execution_count": 12,
   "id": "8de69f2c-2974-4bc5-acda-07cb5190a35a",
   "metadata": {},
   "outputs": [],
   "source": [
    "spark.conf.set(\"spark.sql.shuffle.partitions\", 92)\n",
    "weather_partitioned_df = weather_df.repartition(92, F.col('15_min_interval'))"
   ]
  },
  {
   "cell_type": "markdown",
   "id": "3d0562d4-8dc5-4684-9ca4-41c2fbbe72be",
   "metadata": {},
   "source": [
    "# Craete solar panel tables"
   ]
  },
  {
   "cell_type": "code",
   "execution_count": 13,
   "id": "1894b133-fe6f-4ccf-bc6e-51ac7d23563a",
   "metadata": {},
   "outputs": [
    {
     "name": "stderr",
     "output_type": "stream",
     "text": [
      "24/12/30 15:33:47 WARN SparkSession: Using an existing Spark session; only runtime SQL configurations will take effect.\n"
     ]
    },
    {
     "data": {
      "text/html": [
       "<table>\n",
       "    <thead>\n",
       "        <tr>\n",
       "        </tr>\n",
       "    </thead>\n",
       "    <tbody>\n",
       "    </tbody>\n",
       "</table>"
      ],
      "text/plain": [
       "++\n",
       "||\n",
       "++\n",
       "++"
      ]
     },
     "execution_count": 13,
     "metadata": {},
     "output_type": "execute_result"
    }
   ],
   "source": [
    "%%sql\n",
    "\n",
    "CREATE DATABASE IF NOT EXISTS SolarX_Raw_Transactions"
   ]
  },
  {
   "cell_type": "code",
   "execution_count": 14,
   "id": "1191f1d0-f647-48c5-9699-5685d5c76c11",
   "metadata": {},
   "outputs": [
    {
     "data": {
      "text/html": [
       "<table>\n",
       "    <thead>\n",
       "        <tr>\n",
       "        </tr>\n",
       "    </thead>\n",
       "    <tbody>\n",
       "    </tbody>\n",
       "</table>"
      ],
      "text/plain": [
       "++\n",
       "||\n",
       "++\n",
       "++"
      ]
     },
     "execution_count": 14,
     "metadata": {},
     "output_type": "execute_result"
    }
   ],
   "source": [
    "%%sql\n",
    "\n",
    "DROP TABLE IF EXISTS SolarX_Raw_Transactions.solar_panel"
   ]
  },
  {
   "cell_type": "code",
   "execution_count": 15,
   "id": "4f17f415-6250-448d-b3ca-0de49d7285fd",
   "metadata": {},
   "outputs": [
    {
     "data": {
      "text/html": [
       "<table>\n",
       "    <thead>\n",
       "        <tr>\n",
       "        </tr>\n",
       "    </thead>\n",
       "    <tbody>\n",
       "    </tbody>\n",
       "</table>"
      ],
      "text/plain": [
       "++\n",
       "||\n",
       "++\n",
       "++"
      ]
     },
     "execution_count": 15,
     "metadata": {},
     "output_type": "execute_result"
    }
   ],
   "source": [
    "%%sql\n",
    "    \n",
    "DROP TABLE IF EXISTS SolarX_Raw_Transactions.solar_panel_readings"
   ]
  },
  {
   "cell_type": "code",
   "execution_count": 16,
   "id": "6abe5601-89e7-4c15-8872-6f0c57ead0dd",
   "metadata": {},
   "outputs": [
    {
     "data": {
      "text/html": [
       "<table>\n",
       "    <thead>\n",
       "        <tr>\n",
       "        </tr>\n",
       "    </thead>\n",
       "    <tbody>\n",
       "    </tbody>\n",
       "</table>"
      ],
      "text/plain": [
       "++\n",
       "||\n",
       "++\n",
       "++"
      ]
     },
     "execution_count": 16,
     "metadata": {},
     "output_type": "execute_result"
    }
   ],
   "source": [
    "%%sql\n",
    "    \n",
    "CREATE TABLE SolarX_Raw_Transactions.solar_panel(\n",
    "    id INT,\n",
    "    name VARCHAR(25) NOT NULL,\n",
    "    capacity_kwh FLOAT NOT NULL,\n",
    "    intensity_power_rating FLOAT NOT NULL,\n",
    "    temperature_power_rating FLOAT NOT NULL\n",
    ")\n",
    "USING iceberg"
   ]
  },
  {
   "cell_type": "code",
   "execution_count": 17,
   "id": "c8156ec1-562f-4f3e-a6fe-49f6e7b2ff70",
   "metadata": {},
   "outputs": [
    {
     "data": {
      "text/html": [
       "<table>\n",
       "    <thead>\n",
       "        <tr>\n",
       "        </tr>\n",
       "    </thead>\n",
       "    <tbody>\n",
       "    </tbody>\n",
       "</table>"
      ],
      "text/plain": [
       "++\n",
       "||\n",
       "++\n",
       "++"
      ]
     },
     "execution_count": 17,
     "metadata": {},
     "output_type": "execute_result"
    }
   ],
   "source": [
    "%%sql\n",
    "\n",
    "CREATE TABLE SolarX_Raw_Transactions.solar_panel_readings(\n",
    "    timestamp TIMESTAMP NOT NULL,\n",
    "    15_minutes_interval INT NOT NULL,\n",
    "    panel_id INT NOT NULL,\n",
    "    generated_power_amount FLOAT NOT NULL\n",
    ")\n",
    "USING iceberg\n",
    "PARTITIONED BY (DAY(timestamp), 15_minutes_interval);"
   ]
  },
  {
   "cell_type": "code",
   "execution_count": 18,
   "id": "4f342798-350f-4727-b380-145bbdcf6959",
   "metadata": {},
   "outputs": [
    {
     "name": "stderr",
     "output_type": "stream",
     "text": [
      "                                                                                \r"
     ]
    },
    {
     "data": {
      "text/html": [
       "<table>\n",
       "    <thead>\n",
       "        <tr>\n",
       "        </tr>\n",
       "    </thead>\n",
       "    <tbody>\n",
       "    </tbody>\n",
       "</table>"
      ],
      "text/plain": [
       "++\n",
       "||\n",
       "++\n",
       "++"
      ]
     },
     "execution_count": 18,
     "metadata": {},
     "output_type": "execute_result"
    }
   ],
   "source": [
    "%%sql\n",
    "\n",
    "INSERT INTO SolarX_Raw_Transactions.solar_panel (id, name, capacity_kwh, intensity_power_rating, temperature_power_rating) VALUES\n",
    "(1, 'roof panel', 10, 1000, 25),\n",
    "(2, 'pole panel', 12.5, 1300, 25),\n",
    "(3, 'flush panel', 14, 1500, 25);"
   ]
  },
  {
   "cell_type": "code",
   "execution_count": 19,
   "id": "9d82135b-5d6d-420f-854d-49e1e59ef001",
   "metadata": {},
   "outputs": [
    {
     "name": "stderr",
     "output_type": "stream",
     "text": [
      "                                                                                \r"
     ]
    },
    {
     "data": {
      "text/html": [
       "<table>\n",
       "    <thead>\n",
       "        <tr>\n",
       "            <th>id</th>\n",
       "            <th>name</th>\n",
       "            <th>capacity_kwh</th>\n",
       "            <th>intensity_power_rating</th>\n",
       "            <th>temperature_power_rating</th>\n",
       "        </tr>\n",
       "    </thead>\n",
       "    <tbody>\n",
       "        <tr>\n",
       "            <td>1</td>\n",
       "            <td>roof panel</td>\n",
       "            <td>10.0</td>\n",
       "            <td>1000.0</td>\n",
       "            <td>25.0</td>\n",
       "        </tr>\n",
       "        <tr>\n",
       "            <td>2</td>\n",
       "            <td>pole panel</td>\n",
       "            <td>12.5</td>\n",
       "            <td>1300.0</td>\n",
       "            <td>25.0</td>\n",
       "        </tr>\n",
       "        <tr>\n",
       "            <td>3</td>\n",
       "            <td>flush panel</td>\n",
       "            <td>14.0</td>\n",
       "            <td>1500.0</td>\n",
       "            <td>25.0</td>\n",
       "        </tr>\n",
       "    </tbody>\n",
       "</table>"
      ],
      "text/plain": [
       "+----+-------------+--------------+------------------------+--------------------------+\n",
       "| id |        name | capacity_kwh | intensity_power_rating | temperature_power_rating |\n",
       "+----+-------------+--------------+------------------------+--------------------------+\n",
       "|  1 |  roof panel |         10.0 |                 1000.0 |                     25.0 |\n",
       "|  2 |  pole panel |         12.5 |                 1300.0 |                     25.0 |\n",
       "|  3 | flush panel |         14.0 |                 1500.0 |                     25.0 |\n",
       "+----+-------------+--------------+------------------------+--------------------------+"
      ]
     },
     "execution_count": 19,
     "metadata": {},
     "output_type": "execute_result"
    }
   ],
   "source": [
    "%%sql\n",
    "\n",
    "SELECT * from SolarX_Raw_Transactions.solar_panel;"
   ]
  },
  {
   "cell_type": "code",
   "execution_count": 20,
   "id": "24503f18-2260-4400-9c99-4e642ff667fd",
   "metadata": {},
   "outputs": [
    {
     "data": {
      "text/html": [
       "<table>\n",
       "    <thead>\n",
       "        <tr>\n",
       "            <th>timestamp</th>\n",
       "            <th>15_minutes_interval</th>\n",
       "            <th>panel_id</th>\n",
       "            <th>generated_power_amount</th>\n",
       "        </tr>\n",
       "    </thead>\n",
       "    <tbody>\n",
       "    </tbody>\n",
       "</table>"
      ],
      "text/plain": [
       "+-----------+---------------------+----------+------------------------+\n",
       "| timestamp | 15_minutes_interval | panel_id | generated_power_amount |\n",
       "+-----------+---------------------+----------+------------------------+\n",
       "+-----------+---------------------+----------+------------------------+"
      ]
     },
     "execution_count": 20,
     "metadata": {},
     "output_type": "execute_result"
    }
   ],
   "source": [
    "%%sql\n",
    "\n",
    "SELECT * from SolarX_Raw_Transactions.solar_panel_readings;"
   ]
  },
  {
   "cell_type": "code",
   "execution_count": 21,
   "id": "82708bae-637f-448a-b304-cac58c8d84c1",
   "metadata": {},
   "outputs": [
    {
     "name": "stderr",
     "output_type": "stream",
     "text": [
      "                                                                                \r"
     ]
    },
    {
     "data": {
      "text/html": [
       "<table>\n",
       "    <thead>\n",
       "        <tr>\n",
       "            <th>content</th>\n",
       "            <th>file_path</th>\n",
       "            <th>file_format</th>\n",
       "            <th>spec_id</th>\n",
       "            <th>record_count</th>\n",
       "            <th>file_size_in_bytes</th>\n",
       "            <th>column_sizes</th>\n",
       "            <th>value_counts</th>\n",
       "            <th>null_value_counts</th>\n",
       "            <th>nan_value_counts</th>\n",
       "            <th>lower_bounds</th>\n",
       "            <th>upper_bounds</th>\n",
       "            <th>key_metadata</th>\n",
       "            <th>split_offsets</th>\n",
       "            <th>equality_ids</th>\n",
       "            <th>sort_order_id</th>\n",
       "            <th>readable_metrics</th>\n",
       "        </tr>\n",
       "    </thead>\n",
       "    <tbody>\n",
       "        <tr>\n",
       "            <td>0</td>\n",
       "            <td>s3://warehouse/SolarX_Raw_Transactions/solar_panel/data/00000-0-bdd594c0-69e2-4a75-b208-523644ff0166-0-00001.parquet</td>\n",
       "            <td>PARQUET</td>\n",
       "            <td>0</td>\n",
       "            <td>1</td>\n",
       "            <td>1450</td>\n",
       "            <td>{1: 36, 2: 46, 3: 36, 4: 36, 5: 36}</td>\n",
       "            <td>{1: 1, 2: 1, 3: 1, 4: 1, 5: 1}</td>\n",
       "            <td>{1: 0, 2: 0, 3: 0, 4: 0, 5: 0}</td>\n",
       "            <td>{4: 0, 5: 0, 3: 0}</td>\n",
       "            <td>{1: bytearray(b&#x27;\\x01\\x00\\x00\\x00&#x27;), 2: bytearray(b&#x27;roof panel&#x27;), 3: bytearray(b&#x27;\\x00\\x00 A&#x27;), 4: bytearray(b&#x27;\\x00\\x00zD&#x27;), 5: bytearray(b&#x27;\\x00\\x00\\xc8A&#x27;)}</td>\n",
       "            <td>{1: bytearray(b&#x27;\\x01\\x00\\x00\\x00&#x27;), 2: bytearray(b&#x27;roof panel&#x27;), 3: bytearray(b&#x27;\\x00\\x00 A&#x27;), 4: bytearray(b&#x27;\\x00\\x00zD&#x27;), 5: bytearray(b&#x27;\\x00\\x00\\xc8A&#x27;)}</td>\n",
       "            <td>None</td>\n",
       "            <td>[4]</td>\n",
       "            <td>None</td>\n",
       "            <td>0</td>\n",
       "            <td>Row(capacity_kwh=Row(column_size=36, value_count=1, null_value_count=0, nan_value_count=0, lower_bound=10.0, upper_bound=10.0), id=Row(column_size=36, value_count=1, null_value_count=0, nan_value_count=None, lower_bound=1, upper_bound=1), intensity_power_rating=Row(column_size=36, value_count=1, null_value_count=0, nan_value_count=0, lower_bound=1000.0, upper_bound=1000.0), name=Row(column_size=46, value_count=1, null_value_count=0, nan_value_count=None, lower_bound=&#x27;roof panel&#x27;, upper_bound=&#x27;roof panel&#x27;), temperature_power_rating=Row(column_size=36, value_count=1, null_value_count=0, nan_value_count=0, lower_bound=25.0, upper_bound=25.0))</td>\n",
       "        </tr>\n",
       "        <tr>\n",
       "            <td>0</td>\n",
       "            <td>s3://warehouse/SolarX_Raw_Transactions/solar_panel/data/00001-1-bdd594c0-69e2-4a75-b208-523644ff0166-0-00001.parquet</td>\n",
       "            <td>PARQUET</td>\n",
       "            <td>0</td>\n",
       "            <td>1</td>\n",
       "            <td>1450</td>\n",
       "            <td>{1: 36, 2: 46, 3: 36, 4: 36, 5: 36}</td>\n",
       "            <td>{1: 1, 2: 1, 3: 1, 4: 1, 5: 1}</td>\n",
       "            <td>{1: 0, 2: 0, 3: 0, 4: 0, 5: 0}</td>\n",
       "            <td>{4: 0, 5: 0, 3: 0}</td>\n",
       "            <td>{1: bytearray(b&#x27;\\x02\\x00\\x00\\x00&#x27;), 2: bytearray(b&#x27;pole panel&#x27;), 3: bytearray(b&#x27;\\x00\\x00HA&#x27;), 4: bytearray(b&#x27;\\x00\\x80\\xa2D&#x27;), 5: bytearray(b&#x27;\\x00\\x00\\xc8A&#x27;)}</td>\n",
       "            <td>{1: bytearray(b&#x27;\\x02\\x00\\x00\\x00&#x27;), 2: bytearray(b&#x27;pole panel&#x27;), 3: bytearray(b&#x27;\\x00\\x00HA&#x27;), 4: bytearray(b&#x27;\\x00\\x80\\xa2D&#x27;), 5: bytearray(b&#x27;\\x00\\x00\\xc8A&#x27;)}</td>\n",
       "            <td>None</td>\n",
       "            <td>[4]</td>\n",
       "            <td>None</td>\n",
       "            <td>0</td>\n",
       "            <td>Row(capacity_kwh=Row(column_size=36, value_count=1, null_value_count=0, nan_value_count=0, lower_bound=12.5, upper_bound=12.5), id=Row(column_size=36, value_count=1, null_value_count=0, nan_value_count=None, lower_bound=2, upper_bound=2), intensity_power_rating=Row(column_size=36, value_count=1, null_value_count=0, nan_value_count=0, lower_bound=1300.0, upper_bound=1300.0), name=Row(column_size=46, value_count=1, null_value_count=0, nan_value_count=None, lower_bound=&#x27;pole panel&#x27;, upper_bound=&#x27;pole panel&#x27;), temperature_power_rating=Row(column_size=36, value_count=1, null_value_count=0, nan_value_count=0, lower_bound=25.0, upper_bound=25.0))</td>\n",
       "        </tr>\n",
       "        <tr>\n",
       "            <td>0</td>\n",
       "            <td>s3://warehouse/SolarX_Raw_Transactions/solar_panel/data/00002-2-bdd594c0-69e2-4a75-b208-523644ff0166-0-00001.parquet</td>\n",
       "            <td>PARQUET</td>\n",
       "            <td>0</td>\n",
       "            <td>1</td>\n",
       "            <td>1456</td>\n",
       "            <td>{1: 35, 2: 47, 3: 36, 4: 36, 5: 36}</td>\n",
       "            <td>{1: 1, 2: 1, 3: 1, 4: 1, 5: 1}</td>\n",
       "            <td>{1: 0, 2: 0, 3: 0, 4: 0, 5: 0}</td>\n",
       "            <td>{4: 0, 5: 0, 3: 0}</td>\n",
       "            <td>{1: bytearray(b&#x27;\\x03\\x00\\x00\\x00&#x27;), 2: bytearray(b&#x27;flush panel&#x27;), 3: bytearray(b&#x27;\\x00\\x00`A&#x27;), 4: bytearray(b&#x27;\\x00\\x80\\xbbD&#x27;), 5: bytearray(b&#x27;\\x00\\x00\\xc8A&#x27;)}</td>\n",
       "            <td>{1: bytearray(b&#x27;\\x03\\x00\\x00\\x00&#x27;), 2: bytearray(b&#x27;flush panel&#x27;), 3: bytearray(b&#x27;\\x00\\x00`A&#x27;), 4: bytearray(b&#x27;\\x00\\x80\\xbbD&#x27;), 5: bytearray(b&#x27;\\x00\\x00\\xc8A&#x27;)}</td>\n",
       "            <td>None</td>\n",
       "            <td>[4]</td>\n",
       "            <td>None</td>\n",
       "            <td>0</td>\n",
       "            <td>Row(capacity_kwh=Row(column_size=36, value_count=1, null_value_count=0, nan_value_count=0, lower_bound=14.0, upper_bound=14.0), id=Row(column_size=35, value_count=1, null_value_count=0, nan_value_count=None, lower_bound=3, upper_bound=3), intensity_power_rating=Row(column_size=36, value_count=1, null_value_count=0, nan_value_count=0, lower_bound=1500.0, upper_bound=1500.0), name=Row(column_size=47, value_count=1, null_value_count=0, nan_value_count=None, lower_bound=&#x27;flush panel&#x27;, upper_bound=&#x27;flush panel&#x27;), temperature_power_rating=Row(column_size=36, value_count=1, null_value_count=0, nan_value_count=0, lower_bound=25.0, upper_bound=25.0))</td>\n",
       "        </tr>\n",
       "    </tbody>\n",
       "</table>"
      ],
      "text/plain": [
       "+---------+----------------------------------------------------------------------------------------------------------------------+-------------+---------+--------------+--------------------+-------------------------------------+--------------------------------+--------------------------------+--------------------+----------------------------------------------------------------------------------------------------------------------------------------------------------------+----------------------------------------------------------------------------------------------------------------------------------------------------------------+--------------+---------------+--------------+---------------+---------------------------------------------------------------------------------------------------------------------------------------------------------------------------------------------------------------------------------------------------------------------------------------------------------------------------------------------------------------------------------------------------------------------------------------------------------------------------------------------------------------------------------------------------------------------------------------------------------------------------------------------------------------------------+\n",
       "| content |                                                                                                            file_path | file_format | spec_id | record_count | file_size_in_bytes |                        column_sizes |                   value_counts |              null_value_counts |   nan_value_counts |                                                                                                                                                   lower_bounds |                                                                                                                                                   upper_bounds | key_metadata | split_offsets | equality_ids | sort_order_id |                                                                                                                                                                                                                                                                                                                                                                                                                                                                                                                                                                                                                                                          readable_metrics |\n",
       "+---------+----------------------------------------------------------------------------------------------------------------------+-------------+---------+--------------+--------------------+-------------------------------------+--------------------------------+--------------------------------+--------------------+----------------------------------------------------------------------------------------------------------------------------------------------------------------+----------------------------------------------------------------------------------------------------------------------------------------------------------------+--------------+---------------+--------------+---------------+---------------------------------------------------------------------------------------------------------------------------------------------------------------------------------------------------------------------------------------------------------------------------------------------------------------------------------------------------------------------------------------------------------------------------------------------------------------------------------------------------------------------------------------------------------------------------------------------------------------------------------------------------------------------------+\n",
       "|       0 | s3://warehouse/SolarX_Raw_Transactions/solar_panel/data/00000-0-bdd594c0-69e2-4a75-b208-523644ff0166-0-00001.parquet |     PARQUET |       0 |            1 |               1450 | {1: 36, 2: 46, 3: 36, 4: 36, 5: 36} | {1: 1, 2: 1, 3: 1, 4: 1, 5: 1} | {1: 0, 2: 0, 3: 0, 4: 0, 5: 0} | {4: 0, 5: 0, 3: 0} |     {1: bytearray(b'\\x01\\x00\\x00\\x00'), 2: bytearray(b'roof panel'), 3: bytearray(b'\\x00\\x00 A'), 4: bytearray(b'\\x00\\x00zD'), 5: bytearray(b'\\x00\\x00\\xc8A')} |     {1: bytearray(b'\\x01\\x00\\x00\\x00'), 2: bytearray(b'roof panel'), 3: bytearray(b'\\x00\\x00 A'), 4: bytearray(b'\\x00\\x00zD'), 5: bytearray(b'\\x00\\x00\\xc8A')} |         None |           [4] |         None |             0 |   Row(capacity_kwh=Row(column_size=36, value_count=1, null_value_count=0, nan_value_count=0, lower_bound=10.0, upper_bound=10.0), id=Row(column_size=36, value_count=1, null_value_count=0, nan_value_count=None, lower_bound=1, upper_bound=1), intensity_power_rating=Row(column_size=36, value_count=1, null_value_count=0, nan_value_count=0, lower_bound=1000.0, upper_bound=1000.0), name=Row(column_size=46, value_count=1, null_value_count=0, nan_value_count=None, lower_bound='roof panel', upper_bound='roof panel'), temperature_power_rating=Row(column_size=36, value_count=1, null_value_count=0, nan_value_count=0, lower_bound=25.0, upper_bound=25.0)) |\n",
       "|       0 | s3://warehouse/SolarX_Raw_Transactions/solar_panel/data/00001-1-bdd594c0-69e2-4a75-b208-523644ff0166-0-00001.parquet |     PARQUET |       0 |            1 |               1450 | {1: 36, 2: 46, 3: 36, 4: 36, 5: 36} | {1: 1, 2: 1, 3: 1, 4: 1, 5: 1} | {1: 0, 2: 0, 3: 0, 4: 0, 5: 0} | {4: 0, 5: 0, 3: 0} |  {1: bytearray(b'\\x02\\x00\\x00\\x00'), 2: bytearray(b'pole panel'), 3: bytearray(b'\\x00\\x00HA'), 4: bytearray(b'\\x00\\x80\\xa2D'), 5: bytearray(b'\\x00\\x00\\xc8A')} |  {1: bytearray(b'\\x02\\x00\\x00\\x00'), 2: bytearray(b'pole panel'), 3: bytearray(b'\\x00\\x00HA'), 4: bytearray(b'\\x00\\x80\\xa2D'), 5: bytearray(b'\\x00\\x00\\xc8A')} |         None |           [4] |         None |             0 |   Row(capacity_kwh=Row(column_size=36, value_count=1, null_value_count=0, nan_value_count=0, lower_bound=12.5, upper_bound=12.5), id=Row(column_size=36, value_count=1, null_value_count=0, nan_value_count=None, lower_bound=2, upper_bound=2), intensity_power_rating=Row(column_size=36, value_count=1, null_value_count=0, nan_value_count=0, lower_bound=1300.0, upper_bound=1300.0), name=Row(column_size=46, value_count=1, null_value_count=0, nan_value_count=None, lower_bound='pole panel', upper_bound='pole panel'), temperature_power_rating=Row(column_size=36, value_count=1, null_value_count=0, nan_value_count=0, lower_bound=25.0, upper_bound=25.0)) |\n",
       "|       0 | s3://warehouse/SolarX_Raw_Transactions/solar_panel/data/00002-2-bdd594c0-69e2-4a75-b208-523644ff0166-0-00001.parquet |     PARQUET |       0 |            1 |               1456 | {1: 35, 2: 47, 3: 36, 4: 36, 5: 36} | {1: 1, 2: 1, 3: 1, 4: 1, 5: 1} | {1: 0, 2: 0, 3: 0, 4: 0, 5: 0} | {4: 0, 5: 0, 3: 0} | {1: bytearray(b'\\x03\\x00\\x00\\x00'), 2: bytearray(b'flush panel'), 3: bytearray(b'\\x00\\x00`A'), 4: bytearray(b'\\x00\\x80\\xbbD'), 5: bytearray(b'\\x00\\x00\\xc8A')} | {1: bytearray(b'\\x03\\x00\\x00\\x00'), 2: bytearray(b'flush panel'), 3: bytearray(b'\\x00\\x00`A'), 4: bytearray(b'\\x00\\x80\\xbbD'), 5: bytearray(b'\\x00\\x00\\xc8A')} |         None |           [4] |         None |             0 | Row(capacity_kwh=Row(column_size=36, value_count=1, null_value_count=0, nan_value_count=0, lower_bound=14.0, upper_bound=14.0), id=Row(column_size=35, value_count=1, null_value_count=0, nan_value_count=None, lower_bound=3, upper_bound=3), intensity_power_rating=Row(column_size=36, value_count=1, null_value_count=0, nan_value_count=0, lower_bound=1500.0, upper_bound=1500.0), name=Row(column_size=47, value_count=1, null_value_count=0, nan_value_count=None, lower_bound='flush panel', upper_bound='flush panel'), temperature_power_rating=Row(column_size=36, value_count=1, null_value_count=0, nan_value_count=0, lower_bound=25.0, upper_bound=25.0)) |\n",
       "+---------+----------------------------------------------------------------------------------------------------------------------+-------------+---------+--------------+--------------------+-------------------------------------+--------------------------------+--------------------------------+--------------------+----------------------------------------------------------------------------------------------------------------------------------------------------------------+----------------------------------------------------------------------------------------------------------------------------------------------------------------+--------------+---------------+--------------+---------------+---------------------------------------------------------------------------------------------------------------------------------------------------------------------------------------------------------------------------------------------------------------------------------------------------------------------------------------------------------------------------------------------------------------------------------------------------------------------------------------------------------------------------------------------------------------------------------------------------------------------------------------------------------------------------+"
      ]
     },
     "execution_count": 21,
     "metadata": {},
     "output_type": "execute_result"
    }
   ],
   "source": [
    "%%sql\n",
    "\n",
    "SELECT * FROM SolarX_Raw_Transactions.solar_panel.files"
   ]
  },
  {
   "cell_type": "code",
   "execution_count": 22,
   "id": "9eff377f-68e0-40d6-abac-5a6d91dd4024",
   "metadata": {},
   "outputs": [
    {
     "name": "stdout",
     "output_type": "stream",
     "text": [
      "+-------------+\n",
      "|      catalog|\n",
      "+-------------+\n",
      "|         demo|\n",
      "|spark_catalog|\n",
      "+-------------+\n",
      "\n"
     ]
    }
   ],
   "source": [
    "spark.sql(\"SHOW CATALOGS\").show()"
   ]
  },
  {
   "cell_type": "code",
   "execution_count": 23,
   "id": "1b8bf83f-aaa0-49ab-bff9-55a27c2d489d",
   "metadata": {},
   "outputs": [
    {
     "data": {
      "text/plain": [
       "'org.apache.iceberg.spark.SparkCatalog'"
      ]
     },
     "execution_count": 23,
     "metadata": {},
     "output_type": "execute_result"
    }
   ],
   "source": [
    "spark.conf.get(\"spark.sql.catalog.demo\")"
   ]
  },
  {
   "cell_type": "code",
   "execution_count": 24,
   "id": "f3ee07e4-658b-41da-9c2d-583544f71e77",
   "metadata": {},
   "outputs": [
    {
     "name": "stdout",
     "output_type": "stream",
     "text": [
      "+--------------------+\n",
      "|           namespace|\n",
      "+--------------------+\n",
      "|SolarX_Raw_Transa...|\n",
      "+--------------------+\n",
      "\n"
     ]
    }
   ],
   "source": [
    "spark.sql(\"SHOW DATABASES IN demo\").show()"
   ]
  },
  {
   "cell_type": "markdown",
   "id": "c439acfb-2ed6-43aa-9318-28bc8bcd761f",
   "metadata": {},
   "source": [
    "# Calc Solar Power"
   ]
  },
  {
   "cell_type": "code",
   "execution_count": 25,
   "id": "f1c1bf98-aed5-4407-b99b-11b42ffb27b7",
   "metadata": {},
   "outputs": [],
   "source": [
    "solar_panele_df = spark.read.format(\"iceberg\").load(\"demo.SolarX_Raw_Transactions.solar_panel\")"
   ]
  },
  {
   "cell_type": "code",
   "execution_count": 26,
   "id": "9e4287c4-be58-4193-9849-b710b52b0f6e",
   "metadata": {},
   "outputs": [
    {
     "data": {
      "text/plain": [
       "Row(capacity_kwh=10.0, intensity_power_rating=1000.0, temperature_power_rating=25.0)"
      ]
     },
     "execution_count": 26,
     "metadata": {},
     "output_type": "execute_result"
    }
   ],
   "source": [
    "solar_panel_rating = solar_panele_df.filter(solar_panele_df.id == 1) \\\n",
    "                                    .select(\"capacity_kwh\", \"intensity_power_rating\", \"temperature_power_rating\") \\\n",
    "                                    .first()\n",
    "solar_panel_rating"
   ]
  },
  {
   "cell_type": "code",
   "execution_count": null,
   "id": "5b9d92b5-0ff2-46cf-b49e-7f69c29759c6",
   "metadata": {},
   "outputs": [],
   "source": []
  },
  {
   "cell_type": "code",
   "execution_count": 27,
   "id": "13ab58c3-c5fb-46a9-a553-1929bb2ecdf2",
   "metadata": {},
   "outputs": [],
   "source": [
    "def calc_solar_readings(panel_id, weather_partitioned_df):\n",
    "    # Loading solar_panel table\n",
    "    solar_panele_df = spark.read.format(\"iceberg\").load(\"SolarX_Raw_Transactions.solar_panel\")\n",
    "\n",
    "    # Quering panel power ratings\n",
    "    solar_panel_rating = solar_panele_df.filter(solar_panele_df.id == panel_id) \\\n",
    "                                    .select(\"capacity_kwh\", \"intensity_power_rating\", \"temperature_power_rating\") \\\n",
    "                                    .first()\n",
    "\n",
    "    solar_panel_rating_kwh       = solar_panel_rating[\"capacity_kwh\"]\n",
    "    solar_intensity_power_rating = solar_panel_rating[\"intensity_power_rating\"]\n",
    "    temp_power_rating            = solar_panel_rating[\"temperature_power_rating\"]\n",
    "    \n",
    "    solar_panel_rating_w_5ms = solar_panel_rating_kwh*1000/(60*60*1000/5)\n",
    "\n",
    "\n",
    "    # Calculating the power value into a new df\n",
    "    solar_panel_readings_df = weather_partitioned_df.withColumn('current_generation_watt', solar_panel_rating_w_5ms \\\n",
    "                * (1 /(1 - (temp_power_rating - F.col(\"temp\"))/(temp_power_rating))) \\\n",
    "                * (1 - (solar_intensity_power_rating - F.col(\"solar_intensity\"))/solar_intensity_power_rating) \\\n",
    "                                                           ).drop(\"solar_intensity\", \"temp\")\n",
    "\n",
    "    return solar_panel_readings_df"
   ]
  },
  {
   "cell_type": "markdown",
   "id": "5d48b1e3-e978-454c-9b94-38a9d58797a5",
   "metadata": {},
   "source": [
    "## Inserting solar_panel_readings 1 data into iceberg"
   ]
  },
  {
   "cell_type": "code",
   "execution_count": 28,
   "id": "ee576887-7615-45ae-845d-b5b43cc4559c",
   "metadata": {},
   "outputs": [
    {
     "name": "stderr",
     "output_type": "stream",
     "text": [
      "[Stage 4:>                                                          (0 + 1) / 1]\r"
     ]
    },
    {
     "name": "stdout",
     "output_type": "stream",
     "text": [
      "root\n",
      " |-- timestamp: timestamp (nullable = true)\n",
      " |-- 15_min_interval: long (nullable = true)\n",
      " |-- current_generation_watt: double (nullable = true)\n",
      "\n"
     ]
    },
    {
     "name": "stderr",
     "output_type": "stream",
     "text": [
      "                                                                                \r"
     ]
    }
   ],
   "source": [
    "panel_id = 1\n",
    "solar_panel_readings_df1 = calc_solar_readings(panel_id, weather_partitioned_df)\n",
    "solar_panel_readings_df1.printSchema()\n",
    "solar_panel_readings_df1.createOrReplaceTempView(\"temp_view_1\")"
   ]
  },
  {
   "cell_type": "code",
   "execution_count": 29,
   "id": "f1de371b-3e72-4194-ab64-8d718338b282",
   "metadata": {},
   "outputs": [
    {
     "name": "stderr",
     "output_type": "stream",
     "text": [
      "                                                                                \r"
     ]
    },
    {
     "data": {
      "text/html": [
       "<table>\n",
       "    <thead>\n",
       "        <tr>\n",
       "        </tr>\n",
       "    </thead>\n",
       "    <tbody>\n",
       "    </tbody>\n",
       "</table>"
      ],
      "text/plain": [
       "++\n",
       "||\n",
       "++\n",
       "++"
      ]
     },
     "execution_count": 29,
     "metadata": {},
     "output_type": "execute_result"
    }
   ],
   "source": [
    "%%sql\n",
    "    \n",
    "INSERT INTO SolarX_Raw_Transactions.solar_panel_readings (timestamp, 15_minutes_interval, panel_id, generated_power_amount)\n",
    "SELECT timestamp                  as timestamp,\n",
    "       15_min_interval            as 15_minutes_interval,\n",
    "       1                          as panel_id,\n",
    "       current_generation_watt    as generated_power_amount\n",
    "       \n",
    "FROM temp_view_1"
   ]
  },
  {
   "cell_type": "markdown",
   "id": "4d68b361-c330-443c-96c4-6d1e7375bf95",
   "metadata": {},
   "source": [
    "## Inserting solar_panel_readings 2 and 3 data into iceberg"
   ]
  },
  {
   "cell_type": "code",
   "execution_count": 30,
   "id": "3b6379a3-acd2-46cd-b21b-4d59a3df12b9",
   "metadata": {},
   "outputs": [],
   "source": [
    "panel_id = 2\n",
    "solar_panel_readings_df2 = calc_solar_readings(panel_id, weather_partitioned_df)\n",
    "solar_panel_readings_df2.createOrReplaceTempView(\"temp_view_2\")"
   ]
  },
  {
   "cell_type": "code",
   "execution_count": 31,
   "id": "263fc00b-0453-4d1d-be07-598c66e4a5c5",
   "metadata": {},
   "outputs": [
    {
     "name": "stderr",
     "output_type": "stream",
     "text": [
      "                                                                                \r"
     ]
    },
    {
     "data": {
      "text/html": [
       "<table>\n",
       "    <thead>\n",
       "        <tr>\n",
       "        </tr>\n",
       "    </thead>\n",
       "    <tbody>\n",
       "    </tbody>\n",
       "</table>"
      ],
      "text/plain": [
       "++\n",
       "||\n",
       "++\n",
       "++"
      ]
     },
     "execution_count": 31,
     "metadata": {},
     "output_type": "execute_result"
    }
   ],
   "source": [
    "%%sql\n",
    "    \n",
    "INSERT INTO SolarX_Raw_Transactions.solar_panel_readings (timestamp, 15_minutes_interval, panel_id, generated_power_amount)\n",
    "SELECT timestamp                  as timestamp,\n",
    "       15_min_interval            as 15_minutes_interval,\n",
    "       2                          as panel_id,\n",
    "       current_generation_watt    as generated_power_amount\n",
    "       \n",
    "FROM temp_view_2"
   ]
  },
  {
   "cell_type": "code",
   "execution_count": 32,
   "id": "0f0a573a-c17b-4734-8007-3139ee88394e",
   "metadata": {},
   "outputs": [],
   "source": [
    "panel_id = 3\n",
    "solar_panel_readings_df3 = calc_solar_readings(panel_id, weather_partitioned_df)\n",
    "solar_panel_readings_df3.createOrReplaceTempView(\"temp_view_3\")"
   ]
  },
  {
   "cell_type": "code",
   "execution_count": 33,
   "id": "e504b9ec-615f-412d-8b68-7b86083cb926",
   "metadata": {},
   "outputs": [
    {
     "name": "stderr",
     "output_type": "stream",
     "text": [
      "                                                                                \r"
     ]
    },
    {
     "data": {
      "text/html": [
       "<table>\n",
       "    <thead>\n",
       "        <tr>\n",
       "        </tr>\n",
       "    </thead>\n",
       "    <tbody>\n",
       "    </tbody>\n",
       "</table>"
      ],
      "text/plain": [
       "++\n",
       "||\n",
       "++\n",
       "++"
      ]
     },
     "execution_count": 33,
     "metadata": {},
     "output_type": "execute_result"
    }
   ],
   "source": [
    "%%sql\n",
    "    \n",
    "INSERT INTO SolarX_Raw_Transactions.solar_panel_readings (timestamp, 15_minutes_interval, panel_id, generated_power_amount)\n",
    "SELECT timestamp                  as timestamp,\n",
    "       15_min_interval            as 15_minutes_interval,\n",
    "       3                          as panel_id,\n",
    "       current_generation_watt    as generated_power_amount\n",
    "       \n",
    "FROM temp_view_3"
   ]
  },
  {
   "cell_type": "markdown",
   "id": "9a39af44-641d-4379-bb91-ec4120ac1ed2",
   "metadata": {},
   "source": [
    "## Some analysis"
   ]
  },
  {
   "cell_type": "code",
   "execution_count": 272,
   "id": "8a2d5b7a-71e8-40e6-a29d-8d649aac8743",
   "metadata": {},
   "outputs": [
    {
     "data": {
      "text/html": [
       "<table>\n",
       "    <thead>\n",
       "        <tr>\n",
       "            <th>timestamp</th>\n",
       "            <th>15_minutes_interval</th>\n",
       "            <th>panel_id</th>\n",
       "            <th>generated_power_amount</th>\n",
       "        </tr>\n",
       "    </thead>\n",
       "    <tbody>\n",
       "        <tr>\n",
       "            <td>2013-01-01 19:00:00</td>\n",
       "            <td>72</td>\n",
       "            <td>2</td>\n",
       "            <td>0.0</td>\n",
       "        </tr>\n",
       "        <tr>\n",
       "            <td>2013-01-01 19:00:00.005000</td>\n",
       "            <td>72</td>\n",
       "            <td>2</td>\n",
       "            <td>0.0</td>\n",
       "        </tr>\n",
       "        <tr>\n",
       "            <td>2013-01-01 19:00:00.010000</td>\n",
       "            <td>72</td>\n",
       "            <td>2</td>\n",
       "            <td>0.0</td>\n",
       "        </tr>\n",
       "        <tr>\n",
       "            <td>2013-01-01 19:00:00.015000</td>\n",
       "            <td>72</td>\n",
       "            <td>2</td>\n",
       "            <td>0.0</td>\n",
       "        </tr>\n",
       "        <tr>\n",
       "            <td>2013-01-01 19:00:00.020000</td>\n",
       "            <td>72</td>\n",
       "            <td>2</td>\n",
       "            <td>0.0</td>\n",
       "        </tr>\n",
       "        <tr>\n",
       "            <td>2013-01-01 19:00:00.025000</td>\n",
       "            <td>72</td>\n",
       "            <td>2</td>\n",
       "            <td>0.0</td>\n",
       "        </tr>\n",
       "        <tr>\n",
       "            <td>2013-01-01 19:00:00.030000</td>\n",
       "            <td>72</td>\n",
       "            <td>2</td>\n",
       "            <td>0.0</td>\n",
       "        </tr>\n",
       "        <tr>\n",
       "            <td>2013-01-01 19:00:00.035000</td>\n",
       "            <td>72</td>\n",
       "            <td>2</td>\n",
       "            <td>0.0</td>\n",
       "        </tr>\n",
       "        <tr>\n",
       "            <td>2013-01-01 19:00:00.040000</td>\n",
       "            <td>72</td>\n",
       "            <td>2</td>\n",
       "            <td>0.0</td>\n",
       "        </tr>\n",
       "        <tr>\n",
       "            <td>2013-01-01 19:00:00.045000</td>\n",
       "            <td>72</td>\n",
       "            <td>2</td>\n",
       "            <td>0.0</td>\n",
       "        </tr>\n",
       "    </tbody>\n",
       "</table>"
      ],
      "text/plain": [
       "+----------------------------+---------------------+----------+------------------------+\n",
       "|                  timestamp | 15_minutes_interval | panel_id | generated_power_amount |\n",
       "+----------------------------+---------------------+----------+------------------------+\n",
       "|        2013-01-01 19:00:00 |                  72 |        2 |                    0.0 |\n",
       "| 2013-01-01 19:00:00.005000 |                  72 |        2 |                    0.0 |\n",
       "| 2013-01-01 19:00:00.010000 |                  72 |        2 |                    0.0 |\n",
       "| 2013-01-01 19:00:00.015000 |                  72 |        2 |                    0.0 |\n",
       "| 2013-01-01 19:00:00.020000 |                  72 |        2 |                    0.0 |\n",
       "| 2013-01-01 19:00:00.025000 |                  72 |        2 |                    0.0 |\n",
       "| 2013-01-01 19:00:00.030000 |                  72 |        2 |                    0.0 |\n",
       "| 2013-01-01 19:00:00.035000 |                  72 |        2 |                    0.0 |\n",
       "| 2013-01-01 19:00:00.040000 |                  72 |        2 |                    0.0 |\n",
       "| 2013-01-01 19:00:00.045000 |                  72 |        2 |                    0.0 |\n",
       "+----------------------------+---------------------+----------+------------------------+"
      ]
     },
     "execution_count": 272,
     "metadata": {},
     "output_type": "execute_result"
    }
   ],
   "source": [
    "%%sql\n",
    "\n",
    "SELECT * from SolarX_Raw_Transactions.solar_panel_readings limit 10;"
   ]
  },
  {
   "cell_type": "code",
   "execution_count": 273,
   "id": "654a5a45-c3c4-4ab1-924e-e3faa49b0e3f",
   "metadata": {},
   "outputs": [
    {
     "name": "stderr",
     "output_type": "stream",
     "text": [
      "                                                                                \r"
     ]
    },
    {
     "data": {
      "text/html": [
       "<table>\n",
       "    <thead>\n",
       "        <tr>\n",
       "            <th>count(DISTINCT 15_minutes_interval)</th>\n",
       "        </tr>\n",
       "    </thead>\n",
       "    <tbody>\n",
       "        <tr>\n",
       "            <td>92</td>\n",
       "        </tr>\n",
       "    </tbody>\n",
       "</table>"
      ],
      "text/plain": [
       "+-------------------------------------+\n",
       "| count(DISTINCT 15_minutes_interval) |\n",
       "+-------------------------------------+\n",
       "|                                  92 |\n",
       "+-------------------------------------+"
      ]
     },
     "execution_count": 273,
     "metadata": {},
     "output_type": "execute_result"
    }
   ],
   "source": [
    "%%sql\n",
    "\n",
    "SELECT COUNT(DISTINCT(15_minutes_interval)) from SolarX_Raw_Transactions.solar_panel_readings limit 10;"
   ]
  },
  {
   "cell_type": "code",
   "execution_count": 281,
   "id": "c5c6ded0-10fb-45d9-b68c-b64c9dbe9b7b",
   "metadata": {},
   "outputs": [
    {
     "name": "stderr",
     "output_type": "stream",
     "text": [
      "                                                                                \r"
     ]
    },
    {
     "data": {
      "text/html": [
       "<table>\n",
       "    <thead>\n",
       "        <tr>\n",
       "            <th>panel_id</th>\n",
       "            <th>15_minutes_interval</th>\n",
       "            <th>power</th>\n",
       "        </tr>\n",
       "    </thead>\n",
       "    <tbody>\n",
       "        <tr>\n",
       "            <td>1</td>\n",
       "            <td>34</td>\n",
       "            <td>3707.9093862380832</td>\n",
       "        </tr>\n",
       "        <tr>\n",
       "            <td>1</td>\n",
       "            <td>32</td>\n",
       "            <td>3695.013436084613</td>\n",
       "        </tr>\n",
       "        <tr>\n",
       "            <td>1</td>\n",
       "            <td>37</td>\n",
       "            <td>3583.8991967197508</td>\n",
       "        </tr>\n",
       "        <tr>\n",
       "            <td>1</td>\n",
       "            <td>33</td>\n",
       "            <td>3567.1697686873376</td>\n",
       "        </tr>\n",
       "        <tr>\n",
       "            <td>2</td>\n",
       "            <td>34</td>\n",
       "            <td>3565.2974866973236</td>\n",
       "        </tr>\n",
       "        <tr>\n",
       "            <td>2</td>\n",
       "            <td>32</td>\n",
       "            <td>3552.8975344654173</td>\n",
       "        </tr>\n",
       "        <tr>\n",
       "            <td>3</td>\n",
       "            <td>34</td>\n",
       "            <td>3460.715426978655</td>\n",
       "        </tr>\n",
       "        <tr>\n",
       "            <td>3</td>\n",
       "            <td>32</td>\n",
       "            <td>3448.6792070502415</td>\n",
       "        </tr>\n",
       "        <tr>\n",
       "            <td>1</td>\n",
       "            <td>39</td>\n",
       "            <td>3446.10297219269</td>\n",
       "        </tr>\n",
       "        <tr>\n",
       "            <td>2</td>\n",
       "            <td>37</td>\n",
       "            <td>3446.0569196464494</td>\n",
       "        </tr>\n",
       "        <tr>\n",
       "            <td>1</td>\n",
       "            <td>35</td>\n",
       "            <td>3446.053766582161</td>\n",
       "        </tr>\n",
       "        <tr>\n",
       "            <td>2</td>\n",
       "            <td>33</td>\n",
       "            <td>3429.970931245014</td>\n",
       "        </tr>\n",
       "        <tr>\n",
       "            <td>3</td>\n",
       "            <td>37</td>\n",
       "            <td>3344.97258364968</td>\n",
       "        </tr>\n",
       "        <tr>\n",
       "            <td>1</td>\n",
       "            <td>38</td>\n",
       "            <td>3339.61922004167</td>\n",
       "        </tr>\n",
       "        <tr>\n",
       "            <td>3</td>\n",
       "            <td>33</td>\n",
       "            <td>3329.358450703323</td>\n",
       "        </tr>\n",
       "        <tr>\n",
       "            <td>1</td>\n",
       "            <td>36</td>\n",
       "            <td>3324.2288308925927</td>\n",
       "        </tr>\n",
       "        <tr>\n",
       "            <td>2</td>\n",
       "            <td>39</td>\n",
       "            <td>3313.5605503907427</td>\n",
       "        </tr>\n",
       "        <tr>\n",
       "            <td>2</td>\n",
       "            <td>35</td>\n",
       "            <td>3313.5132370628417</td>\n",
       "        </tr>\n",
       "        <tr>\n",
       "            <td>3</td>\n",
       "            <td>39</td>\n",
       "            <td>3216.3627741318196</td>\n",
       "        </tr>\n",
       "        <tr>\n",
       "            <td>3</td>\n",
       "            <td>35</td>\n",
       "            <td>3216.316848815419</td>\n",
       "        </tr>\n",
       "        <tr>\n",
       "            <td>2</td>\n",
       "            <td>38</td>\n",
       "            <td>3211.1723272707313</td>\n",
       "        </tr>\n",
       "        <tr>\n",
       "            <td>2</td>\n",
       "            <td>36</td>\n",
       "            <td>3196.373875915073</td>\n",
       "        </tr>\n",
       "        <tr>\n",
       "            <td>3</td>\n",
       "            <td>38</td>\n",
       "            <td>3116.977938988246</td>\n",
       "        </tr>\n",
       "        <tr>\n",
       "            <td>3</td>\n",
       "            <td>36</td>\n",
       "            <td>3102.613575514406</td>\n",
       "        </tr>\n",
       "        <tr>\n",
       "            <td>1</td>\n",
       "            <td>42</td>\n",
       "            <td>3099.2754632122815</td>\n",
       "        </tr>\n",
       "        <tr>\n",
       "            <td>1</td>\n",
       "            <td>41</td>\n",
       "            <td>3076.7018927847967</td>\n",
       "        </tr>\n",
       "        <tr>\n",
       "            <td>1</td>\n",
       "            <td>43</td>\n",
       "            <td>3071.393887553364</td>\n",
       "        </tr>\n",
       "        <tr>\n",
       "            <td>1</td>\n",
       "            <td>40</td>\n",
       "            <td>3060.7622324889526</td>\n",
       "        </tr>\n",
       "        <tr>\n",
       "            <td>1</td>\n",
       "            <td>45</td>\n",
       "            <td>3029.1558022787794</td>\n",
       "        </tr>\n",
       "        <tr>\n",
       "            <td>1</td>\n",
       "            <td>46</td>\n",
       "            <td>2993.1662468733266</td>\n",
       "        </tr>\n",
       "        <tr>\n",
       "            <td>1</td>\n",
       "            <td>44</td>\n",
       "            <td>2982.525230281055</td>\n",
       "        </tr>\n",
       "        <tr>\n",
       "            <td>2</td>\n",
       "            <td>42</td>\n",
       "            <td>2980.072561185807</td>\n",
       "        </tr>\n",
       "        <tr>\n",
       "            <td>1</td>\n",
       "            <td>48</td>\n",
       "            <td>2974.9097361899912</td>\n",
       "        </tr>\n",
       "        <tr>\n",
       "            <td>1</td>\n",
       "            <td>47</td>\n",
       "            <td>2965.1413526907563</td>\n",
       "        </tr>\n",
       "        <tr>\n",
       "            <td>1</td>\n",
       "            <td>51</td>\n",
       "            <td>2961.5588762480766</td>\n",
       "        </tr>\n",
       "        <tr>\n",
       "            <td>2</td>\n",
       "            <td>41</td>\n",
       "            <td>2958.367203876376</td>\n",
       "        </tr>\n",
       "        <tr>\n",
       "            <td>2</td>\n",
       "            <td>43</td>\n",
       "            <td>2953.2633532295004</td>\n",
       "        </tr>\n",
       "        <tr>\n",
       "            <td>2</td>\n",
       "            <td>40</td>\n",
       "            <td>2943.0406081108376</td>\n",
       "        </tr>\n",
       "        <tr>\n",
       "            <td>1</td>\n",
       "            <td>50</td>\n",
       "            <td>2941.1665467182174</td>\n",
       "        </tr>\n",
       "        <tr>\n",
       "            <td>2</td>\n",
       "            <td>45</td>\n",
       "            <td>2912.649809584953</td>\n",
       "        </tr>\n",
       "        <tr>\n",
       "            <td>1</td>\n",
       "            <td>49</td>\n",
       "            <td>2907.863230246119</td>\n",
       "        </tr>\n",
       "        <tr>\n",
       "            <td>3</td>\n",
       "            <td>42</td>\n",
       "            <td>2892.6570991510525</td>\n",
       "        </tr>\n",
       "        <tr>\n",
       "            <td>1</td>\n",
       "            <td>54</td>\n",
       "            <td>2880.9173643402755</td>\n",
       "        </tr>\n",
       "        <tr>\n",
       "            <td>2</td>\n",
       "            <td>46</td>\n",
       "            <td>2878.044467890635</td>\n",
       "        </tr>\n",
       "        <tr>\n",
       "            <td>3</td>\n",
       "            <td>41</td>\n",
       "            <td>2871.588433548808</td>\n",
       "        </tr>\n",
       "        <tr>\n",
       "            <td>2</td>\n",
       "            <td>44</td>\n",
       "            <td>2867.8127213818952</td>\n",
       "        </tr>\n",
       "        <tr>\n",
       "            <td>3</td>\n",
       "            <td>43</td>\n",
       "            <td>2866.6342949224636</td>\n",
       "        </tr>\n",
       "        <tr>\n",
       "            <td>2</td>\n",
       "            <td>48</td>\n",
       "            <td>2860.4901309302077</td>\n",
       "        </tr>\n",
       "        <tr>\n",
       "            <td>3</td>\n",
       "            <td>40</td>\n",
       "            <td>2856.7114174412563</td>\n",
       "        </tr>\n",
       "        <tr>\n",
       "            <td>1</td>\n",
       "            <td>52</td>\n",
       "            <td>2855.7899705944583</td>\n",
       "        </tr>\n",
       "        <tr>\n",
       "            <td>2</td>\n",
       "            <td>47</td>\n",
       "            <td>2851.0974545227364</td>\n",
       "        </tr>\n",
       "        <tr>\n",
       "            <td>2</td>\n",
       "            <td>51</td>\n",
       "            <td>2847.6527659194544</td>\n",
       "        </tr>\n",
       "        <tr>\n",
       "            <td>1</td>\n",
       "            <td>53</td>\n",
       "            <td>2841.0720630465075</td>\n",
       "        </tr>\n",
       "        <tr>\n",
       "            <td>2</td>\n",
       "            <td>50</td>\n",
       "            <td>2828.0447564283386</td>\n",
       "        </tr>\n",
       "        <tr>\n",
       "            <td>3</td>\n",
       "            <td>45</td>\n",
       "            <td>2827.2120821084827</td>\n",
       "        </tr>\n",
       "        <tr>\n",
       "            <td>1</td>\n",
       "            <td>55</td>\n",
       "            <td>2810.1823525866494</td>\n",
       "        </tr>\n",
       "        <tr>\n",
       "            <td>2</td>\n",
       "            <td>49</td>\n",
       "            <td>2796.0223368667066</td>\n",
       "        </tr>\n",
       "        <tr>\n",
       "            <td>3</td>\n",
       "            <td>46</td>\n",
       "            <td>2793.6218300890177</td>\n",
       "        </tr>\n",
       "        <tr>\n",
       "            <td>3</td>\n",
       "            <td>44</td>\n",
       "            <td>2783.690215021372</td>\n",
       "        </tr>\n",
       "        <tr>\n",
       "            <td>3</td>\n",
       "            <td>48</td>\n",
       "            <td>2776.582420449704</td>\n",
       "        </tr>\n",
       "        <tr>\n",
       "            <td>2</td>\n",
       "            <td>54</td>\n",
       "            <td>2770.112850648351</td>\n",
       "        </tr>\n",
       "        <tr>\n",
       "            <td>3</td>\n",
       "            <td>47</td>\n",
       "            <td>2767.465262522921</td>\n",
       "        </tr>\n",
       "        <tr>\n",
       "            <td>3</td>\n",
       "            <td>51</td>\n",
       "            <td>2764.1216177549213</td>\n",
       "        </tr>\n",
       "        <tr>\n",
       "            <td>2</td>\n",
       "            <td>52</td>\n",
       "            <td>2745.9518952984363</td>\n",
       "        </tr>\n",
       "        <tr>\n",
       "            <td>3</td>\n",
       "            <td>50</td>\n",
       "            <td>2745.088777007535</td>\n",
       "        </tr>\n",
       "        <tr>\n",
       "            <td>2</td>\n",
       "            <td>53</td>\n",
       "            <td>2731.8000608049333</td>\n",
       "        </tr>\n",
       "        <tr>\n",
       "            <td>3</td>\n",
       "            <td>49</td>\n",
       "            <td>2714.0056813573465</td>\n",
       "        </tr>\n",
       "        <tr>\n",
       "            <td>2</td>\n",
       "            <td>55</td>\n",
       "            <td>2702.0984159596264</td>\n",
       "        </tr>\n",
       "        <tr>\n",
       "            <td>3</td>\n",
       "            <td>54</td>\n",
       "            <td>2688.8562068790197</td>\n",
       "        </tr>\n",
       "        <tr>\n",
       "            <td>3</td>\n",
       "            <td>52</td>\n",
       "            <td>2665.4039728110656</td>\n",
       "        </tr>\n",
       "        <tr>\n",
       "            <td>3</td>\n",
       "            <td>53</td>\n",
       "            <td>2651.667259148322</td>\n",
       "        </tr>\n",
       "        <tr>\n",
       "            <td>3</td>\n",
       "            <td>55</td>\n",
       "            <td>2622.8368624104187</td>\n",
       "        </tr>\n",
       "        <tr>\n",
       "            <td>1</td>\n",
       "            <td>57</td>\n",
       "            <td>2621.0492971325293</td>\n",
       "        </tr>\n",
       "        <tr>\n",
       "            <td>1</td>\n",
       "            <td>56</td>\n",
       "            <td>2617.6061669727787</td>\n",
       "        </tr>\n",
       "        <tr>\n",
       "            <td>1</td>\n",
       "            <td>59</td>\n",
       "            <td>2595.964820583351</td>\n",
       "        </tr>\n",
       "        <tr>\n",
       "            <td>1</td>\n",
       "            <td>58</td>\n",
       "            <td>2578.5615861155093</td>\n",
       "        </tr>\n",
       "        <tr>\n",
       "            <td>2</td>\n",
       "            <td>57</td>\n",
       "            <td>2520.239708733745</td>\n",
       "        </tr>\n",
       "        <tr>\n",
       "            <td>2</td>\n",
       "            <td>56</td>\n",
       "            <td>2516.9290069444105</td>\n",
       "        </tr>\n",
       "        <tr>\n",
       "            <td>2</td>\n",
       "            <td>59</td>\n",
       "            <td>2496.1200195513666</td>\n",
       "        </tr>\n",
       "        <tr>\n",
       "            <td>2</td>\n",
       "            <td>58</td>\n",
       "            <td>2479.386140455492</td>\n",
       "        </tr>\n",
       "        <tr>\n",
       "            <td>3</td>\n",
       "            <td>57</td>\n",
       "            <td>2446.312677617185</td>\n",
       "        </tr>\n",
       "        <tr>\n",
       "            <td>3</td>\n",
       "            <td>56</td>\n",
       "            <td>2443.099089194089</td>\n",
       "        </tr>\n",
       "        <tr>\n",
       "            <td>3</td>\n",
       "            <td>59</td>\n",
       "            <td>2422.9004991054535</td>\n",
       "        </tr>\n",
       "        <tr>\n",
       "            <td>3</td>\n",
       "            <td>58</td>\n",
       "            <td>2406.6574802612886</td>\n",
       "        </tr>\n",
       "        <tr>\n",
       "            <td>1</td>\n",
       "            <td>62</td>\n",
       "            <td>2262.5069009112194</td>\n",
       "        </tr>\n",
       "        <tr>\n",
       "            <td>1</td>\n",
       "            <td>60</td>\n",
       "            <td>2194.748854206875</td>\n",
       "        </tr>\n",
       "        <tr>\n",
       "            <td>2</td>\n",
       "            <td>62</td>\n",
       "            <td>2175.4874043855816</td>\n",
       "        </tr>\n",
       "        <tr>\n",
       "            <td>1</td>\n",
       "            <td>63</td>\n",
       "            <td>2144.022752614692</td>\n",
       "        </tr>\n",
       "        <tr>\n",
       "            <td>1</td>\n",
       "            <td>61</td>\n",
       "            <td>2138.118412348442</td>\n",
       "        </tr>\n",
       "        <tr>\n",
       "            <td>3</td>\n",
       "            <td>62</td>\n",
       "            <td>2111.673107493669</td>\n",
       "        </tr>\n",
       "        <tr>\n",
       "            <td>2</td>\n",
       "            <td>60</td>\n",
       "            <td>2110.335436875932</td>\n",
       "        </tr>\n",
       "        <tr>\n",
       "            <td>2</td>\n",
       "            <td>63</td>\n",
       "            <td>2061.560339028947</td>\n",
       "        </tr>\n",
       "        <tr>\n",
       "            <td>2</td>\n",
       "            <td>61</td>\n",
       "            <td>2055.8830884145573</td>\n",
       "        </tr>\n",
       "        <tr>\n",
       "            <td>3</td>\n",
       "            <td>60</td>\n",
       "            <td>2048.432264043018</td>\n",
       "        </tr>\n",
       "        <tr>\n",
       "            <td>3</td>\n",
       "            <td>63</td>\n",
       "            <td>2001.0879024434835</td>\n",
       "        </tr>\n",
       "        <tr>\n",
       "            <td>3</td>\n",
       "            <td>61</td>\n",
       "            <td>1995.5771845197305</td>\n",
       "        </tr>\n",
       "        <tr>\n",
       "            <td>1</td>\n",
       "            <td>31</td>\n",
       "            <td>1935.9874709360301</td>\n",
       "        </tr>\n",
       "        <tr>\n",
       "            <td>1</td>\n",
       "            <td>28</td>\n",
       "            <td>1918.559279219422</td>\n",
       "        </tr>\n",
       "        <tr>\n",
       "            <td>1</td>\n",
       "            <td>29</td>\n",
       "            <td>1895.0714302766137</td>\n",
       "        </tr>\n",
       "        <tr>\n",
       "            <td>2</td>\n",
       "            <td>31</td>\n",
       "            <td>1861.5264144461835</td>\n",
       "        </tr>\n",
       "    </tbody>\n",
       "</table>"
      ],
      "text/plain": [
       "+----------+---------------------+--------------------+\n",
       "| panel_id | 15_minutes_interval |              power |\n",
       "+----------+---------------------+--------------------+\n",
       "|        1 |                  34 | 3707.9093862380832 |\n",
       "|        1 |                  32 |  3695.013436084613 |\n",
       "|        1 |                  37 | 3583.8991967197508 |\n",
       "|        1 |                  33 | 3567.1697686873376 |\n",
       "|        2 |                  34 | 3565.2974866973236 |\n",
       "|        2 |                  32 | 3552.8975344654173 |\n",
       "|        3 |                  34 |  3460.715426978655 |\n",
       "|        3 |                  32 | 3448.6792070502415 |\n",
       "|        1 |                  39 |   3446.10297219269 |\n",
       "|        2 |                  37 | 3446.0569196464494 |\n",
       "|        1 |                  35 |  3446.053766582161 |\n",
       "|        2 |                  33 |  3429.970931245014 |\n",
       "|        3 |                  37 |   3344.97258364968 |\n",
       "|        1 |                  38 |   3339.61922004167 |\n",
       "|        3 |                  33 |  3329.358450703323 |\n",
       "|        1 |                  36 | 3324.2288308925927 |\n",
       "|        2 |                  39 | 3313.5605503907427 |\n",
       "|        2 |                  35 | 3313.5132370628417 |\n",
       "|        3 |                  39 | 3216.3627741318196 |\n",
       "|        3 |                  35 |  3216.316848815419 |\n",
       "|        2 |                  38 | 3211.1723272707313 |\n",
       "|        2 |                  36 |  3196.373875915073 |\n",
       "|        3 |                  38 |  3116.977938988246 |\n",
       "|        3 |                  36 |  3102.613575514406 |\n",
       "|        1 |                  42 | 3099.2754632122815 |\n",
       "|        1 |                  41 | 3076.7018927847967 |\n",
       "|        1 |                  43 |  3071.393887553364 |\n",
       "|        1 |                  40 | 3060.7622324889526 |\n",
       "|        1 |                  45 | 3029.1558022787794 |\n",
       "|        1 |                  46 | 2993.1662468733266 |\n",
       "|        1 |                  44 |  2982.525230281055 |\n",
       "|        2 |                  42 |  2980.072561185807 |\n",
       "|        1 |                  48 | 2974.9097361899912 |\n",
       "|        1 |                  47 | 2965.1413526907563 |\n",
       "|        1 |                  51 | 2961.5588762480766 |\n",
       "|        2 |                  41 |  2958.367203876376 |\n",
       "|        2 |                  43 | 2953.2633532295004 |\n",
       "|        2 |                  40 | 2943.0406081108376 |\n",
       "|        1 |                  50 | 2941.1665467182174 |\n",
       "|        2 |                  45 |  2912.649809584953 |\n",
       "|        1 |                  49 |  2907.863230246119 |\n",
       "|        3 |                  42 | 2892.6570991510525 |\n",
       "|        1 |                  54 | 2880.9173643402755 |\n",
       "|        2 |                  46 |  2878.044467890635 |\n",
       "|        3 |                  41 |  2871.588433548808 |\n",
       "|        2 |                  44 | 2867.8127213818952 |\n",
       "|        3 |                  43 | 2866.6342949224636 |\n",
       "|        2 |                  48 | 2860.4901309302077 |\n",
       "|        3 |                  40 | 2856.7114174412563 |\n",
       "|        1 |                  52 | 2855.7899705944583 |\n",
       "|        2 |                  47 | 2851.0974545227364 |\n",
       "|        2 |                  51 | 2847.6527659194544 |\n",
       "|        1 |                  53 | 2841.0720630465075 |\n",
       "|        2 |                  50 | 2828.0447564283386 |\n",
       "|        3 |                  45 | 2827.2120821084827 |\n",
       "|        1 |                  55 | 2810.1823525866494 |\n",
       "|        2 |                  49 | 2796.0223368667066 |\n",
       "|        3 |                  46 | 2793.6218300890177 |\n",
       "|        3 |                  44 |  2783.690215021372 |\n",
       "|        3 |                  48 |  2776.582420449704 |\n",
       "|        2 |                  54 |  2770.112850648351 |\n",
       "|        3 |                  47 |  2767.465262522921 |\n",
       "|        3 |                  51 | 2764.1216177549213 |\n",
       "|        2 |                  52 | 2745.9518952984363 |\n",
       "|        3 |                  50 |  2745.088777007535 |\n",
       "|        2 |                  53 | 2731.8000608049333 |\n",
       "|        3 |                  49 | 2714.0056813573465 |\n",
       "|        2 |                  55 | 2702.0984159596264 |\n",
       "|        3 |                  54 | 2688.8562068790197 |\n",
       "|        3 |                  52 | 2665.4039728110656 |\n",
       "|        3 |                  53 |  2651.667259148322 |\n",
       "|        3 |                  55 | 2622.8368624104187 |\n",
       "|        1 |                  57 | 2621.0492971325293 |\n",
       "|        1 |                  56 | 2617.6061669727787 |\n",
       "|        1 |                  59 |  2595.964820583351 |\n",
       "|        1 |                  58 | 2578.5615861155093 |\n",
       "|        2 |                  57 |  2520.239708733745 |\n",
       "|        2 |                  56 | 2516.9290069444105 |\n",
       "|        2 |                  59 | 2496.1200195513666 |\n",
       "|        2 |                  58 |  2479.386140455492 |\n",
       "|        3 |                  57 |  2446.312677617185 |\n",
       "|        3 |                  56 |  2443.099089194089 |\n",
       "|        3 |                  59 | 2422.9004991054535 |\n",
       "|        3 |                  58 | 2406.6574802612886 |\n",
       "|        1 |                  62 | 2262.5069009112194 |\n",
       "|        1 |                  60 |  2194.748854206875 |\n",
       "|        2 |                  62 | 2175.4874043855816 |\n",
       "|        1 |                  63 |  2144.022752614692 |\n",
       "|        1 |                  61 |  2138.118412348442 |\n",
       "|        3 |                  62 |  2111.673107493669 |\n",
       "|        2 |                  60 |  2110.335436875932 |\n",
       "|        2 |                  63 |  2061.560339028947 |\n",
       "|        2 |                  61 | 2055.8830884145573 |\n",
       "|        3 |                  60 |  2048.432264043018 |\n",
       "|        3 |                  63 | 2001.0879024434835 |\n",
       "|        3 |                  61 | 1995.5771845197305 |\n",
       "|        1 |                  31 | 1935.9874709360301 |\n",
       "|        1 |                  28 |  1918.559279219422 |\n",
       "|        1 |                  29 | 1895.0714302766137 |\n",
       "|        2 |                  31 | 1861.5264144461835 |\n",
       "+----------+---------------------+--------------------+"
      ]
     },
     "execution_count": 281,
     "metadata": {},
     "output_type": "execute_result"
    }
   ],
   "source": [
    "%%sql\n",
    "\n",
    "SELECT panel_id, 15_minutes_interval, SUM(generated_power_amount) as power\n",
    "FROM SolarX_Raw_Transactions.solar_panel_readings\n",
    "GROUP BY panel_id, 15_minutes_interval\n",
    "SORT BY power desc"
   ]
  },
  {
   "cell_type": "code",
   "execution_count": 34,
   "id": "a0819ce3-6e30-41ec-9b04-fd56b76b097f",
   "metadata": {},
   "outputs": [],
   "source": [
    "spark.stop()"
   ]
  },
  {
   "cell_type": "code",
   "execution_count": null,
   "id": "39730aea-254b-4b3a-af5c-5ad4ff847a6e",
   "metadata": {},
   "outputs": [],
   "source": []
  },
  {
   "cell_type": "code",
   "execution_count": null,
   "id": "8f5c2240-9523-448f-9c98-1b8bab056494",
   "metadata": {},
   "outputs": [],
   "source": []
  }
 ],
 "metadata": {
  "kernelspec": {
   "display_name": "Python 3 (ipykernel)",
   "language": "python",
   "name": "python3"
  },
  "language_info": {
   "codemirror_mode": {
    "name": "ipython",
    "version": 3
   },
   "file_extension": ".py",
   "mimetype": "text/x-python",
   "name": "python",
   "nbconvert_exporter": "python",
   "pygments_lexer": "ipython3",
   "version": "3.9.18"
  }
 },
 "nbformat": 4,
 "nbformat_minor": 5
}
