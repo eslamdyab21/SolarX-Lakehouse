{
 "cells": [
  {
   "cell_type": "code",
   "execution_count": 1,
   "id": "5f0ed869-a8a4-426a-b597-2aac2ad0e736",
   "metadata": {},
   "outputs": [],
   "source": [
    "from pyspark.sql import SparkSession"
   ]
  },
  {
   "cell_type": "code",
   "execution_count": 71,
   "id": "8281e181-f948-4740-ad78-a57a7a87d6b8",
   "metadata": {},
   "outputs": [
    {
     "name": "stderr",
     "output_type": "stream",
     "text": [
      "24/12/31 17:40:45 WARN Utils: Service 'SparkUI' could not bind on port 4040. Attempting port 4041.\n"
     ]
    }
   ],
   "source": [
    "spark = (\n",
    "    SparkSession\n",
    "    .builder\n",
    "    .appName(\"home-load-tables-iceberg\")\n",
    "    .master(\"spark://f7f8bb82a877:7077\")\n",
    "    .config(\"spark.executor.cores\", 1)\n",
    "    .config(\"spark.cores.max\", 6)\n",
    "    .config(\"spark.executor.memory\", \"512M\")\n",
    "    .getOrCreate()\n",
    ")"
   ]
  },
  {
   "cell_type": "code",
   "execution_count": 72,
   "id": "7db62c7d-1b25-47ba-a91b-3297f9662e5a",
   "metadata": {},
   "outputs": [
    {
     "data": {
      "text/html": [
       "\n",
       "            <div>\n",
       "                <p><b>SparkSession - in-memory</b></p>\n",
       "                \n",
       "        <div>\n",
       "            <p><b>SparkContext</b></p>\n",
       "\n",
       "            <p><a href=\"http://f7f8bb82a877:4041\">Spark UI</a></p>\n",
       "\n",
       "            <dl>\n",
       "              <dt>Version</dt>\n",
       "                <dd><code>v3.5.1</code></dd>\n",
       "              <dt>Master</dt>\n",
       "                <dd><code>spark://f7f8bb82a877:7077</code></dd>\n",
       "              <dt>AppName</dt>\n",
       "                <dd><code>home-load-tables-iceberg</code></dd>\n",
       "            </dl>\n",
       "        </div>\n",
       "        \n",
       "            </div>\n",
       "        "
      ],
      "text/plain": [
       "<pyspark.sql.session.SparkSession at 0x7fc5575f0790>"
      ]
     },
     "execution_count": 72,
     "metadata": {},
     "output_type": "execute_result"
    }
   ],
   "source": [
    "spark"
   ]
  },
  {
   "cell_type": "code",
   "execution_count": 7,
   "id": "9741980e-6994-4af3-bf08-32b62833d920",
   "metadata": {},
   "outputs": [
    {
     "name": "stderr",
     "output_type": "stream",
     "text": [
      "24/12/31 14:30:24 WARN SparkSession: Using an existing Spark session; only runtime SQL configurations will take effect.\n"
     ]
    },
    {
     "data": {
      "text/html": [
       "<table>\n",
       "    <thead>\n",
       "        <tr>\n",
       "            <th>namespace</th>\n",
       "            <th>tableName</th>\n",
       "            <th>isTemporary</th>\n",
       "        </tr>\n",
       "    </thead>\n",
       "    <tbody>\n",
       "        <tr>\n",
       "            <td>SolarX_Raw_Transactions</td>\n",
       "            <td>home_power_readings</td>\n",
       "            <td>False</td>\n",
       "        </tr>\n",
       "        <tr>\n",
       "            <td>SolarX_Raw_Transactions</td>\n",
       "            <td>solar_panel</td>\n",
       "            <td>False</td>\n",
       "        </tr>\n",
       "        <tr>\n",
       "            <td>SolarX_Raw_Transactions</td>\n",
       "            <td>solar_panel_readings</td>\n",
       "            <td>False</td>\n",
       "        </tr>\n",
       "    </tbody>\n",
       "</table>"
      ],
      "text/plain": [
       "+-------------------------+----------------------+-------------+\n",
       "|               namespace |            tableName | isTemporary |\n",
       "+-------------------------+----------------------+-------------+\n",
       "| SolarX_Raw_Transactions |  home_power_readings |       False |\n",
       "| SolarX_Raw_Transactions |          solar_panel |       False |\n",
       "| SolarX_Raw_Transactions | solar_panel_readings |       False |\n",
       "+-------------------------+----------------------+-------------+"
      ]
     },
     "execution_count": 7,
     "metadata": {},
     "output_type": "execute_result"
    }
   ],
   "source": [
    "%%sql\n",
    "\n",
    "SHOW TABLES IN SolarX_Raw_Transactions"
   ]
  },
  {
   "cell_type": "markdown",
   "id": "98cf8e4b-8c29-4cca-8a48-421f0792619d",
   "metadata": {},
   "source": [
    "# Create a new name-space/database for the warehouse"
   ]
  },
  {
   "cell_type": "code",
   "execution_count": null,
   "id": "4ef1d369-38bc-43a4-a51e-5bd1bafc706b",
   "metadata": {},
   "outputs": [],
   "source": [
    "%%sql\n",
    "\n",
    "CREATE DATABASE IF NOT EXISTS SolarX_WH"
   ]
  },
  {
   "cell_type": "markdown",
   "id": "7225e457-85e9-480d-adf3-ec6250ac1809",
   "metadata": {},
   "source": [
    "# Home Power Usage WH"
   ]
  },
  {
   "cell_type": "markdown",
   "id": "a9c3f196-11c1-4ccc-a4a4-08d5472881ed",
   "metadata": {},
   "source": [
    "## Investigate home raw date"
   ]
  },
  {
   "cell_type": "code",
   "execution_count": 8,
   "id": "3c96a55c-3caf-4366-ba3c-4e38c5039176",
   "metadata": {},
   "outputs": [
    {
     "data": {
      "text/html": [
       "<table>\n",
       "    <thead>\n",
       "        <tr>\n",
       "            <th>col_name</th>\n",
       "            <th>data_type</th>\n",
       "            <th>comment</th>\n",
       "        </tr>\n",
       "    </thead>\n",
       "    <tbody>\n",
       "        <tr>\n",
       "            <td>timestamp</td>\n",
       "            <td>timestamp</td>\n",
       "            <td>None</td>\n",
       "        </tr>\n",
       "        <tr>\n",
       "            <td>15_minutes_interval</td>\n",
       "            <td>int</td>\n",
       "            <td>None</td>\n",
       "        </tr>\n",
       "        <tr>\n",
       "            <td>min_consumption_wh</td>\n",
       "            <td>float</td>\n",
       "            <td>None</td>\n",
       "        </tr>\n",
       "        <tr>\n",
       "            <td>max_consumption_wh</td>\n",
       "            <td>float</td>\n",
       "            <td>None</td>\n",
       "        </tr>\n",
       "        <tr>\n",
       "            <td></td>\n",
       "            <td></td>\n",
       "            <td></td>\n",
       "        </tr>\n",
       "        <tr>\n",
       "            <td># Partitioning</td>\n",
       "            <td></td>\n",
       "            <td></td>\n",
       "        </tr>\n",
       "        <tr>\n",
       "            <td>Part 0</td>\n",
       "            <td>days(timestamp)</td>\n",
       "            <td></td>\n",
       "        </tr>\n",
       "        <tr>\n",
       "            <td>Part 1</td>\n",
       "            <td>15_minutes_interval</td>\n",
       "            <td></td>\n",
       "        </tr>\n",
       "    </tbody>\n",
       "</table>"
      ],
      "text/plain": [
       "+---------------------+---------------------+---------+\n",
       "|            col_name |           data_type | comment |\n",
       "+---------------------+---------------------+---------+\n",
       "|           timestamp |           timestamp |    None |\n",
       "| 15_minutes_interval |                 int |    None |\n",
       "|  min_consumption_wh |               float |    None |\n",
       "|  max_consumption_wh |               float |    None |\n",
       "|                     |                     |         |\n",
       "|      # Partitioning |                     |         |\n",
       "|              Part 0 |     days(timestamp) |         |\n",
       "|              Part 1 | 15_minutes_interval |         |\n",
       "+---------------------+---------------------+---------+"
      ]
     },
     "execution_count": 8,
     "metadata": {},
     "output_type": "execute_result"
    }
   ],
   "source": [
    "%%sql\n",
    "\n",
    "DESCRIBE SolarX_Raw_Transactions.home_power_readings"
   ]
  },
  {
   "cell_type": "code",
   "execution_count": 9,
   "id": "a7ad1009-9bbc-4bc0-ad61-b3a9390f01d8",
   "metadata": {},
   "outputs": [
    {
     "name": "stderr",
     "output_type": "stream",
     "text": [
      "                                                                                \r"
     ]
    },
    {
     "data": {
      "text/html": [
       "<table>\n",
       "    <thead>\n",
       "        <tr>\n",
       "            <th>timestamp</th>\n",
       "            <th>15_minutes_interval</th>\n",
       "            <th>min_consumption_wh</th>\n",
       "            <th>max_consumption_wh</th>\n",
       "        </tr>\n",
       "    </thead>\n",
       "    <tbody>\n",
       "        <tr>\n",
       "            <td>2013-01-01 03:30:00</td>\n",
       "            <td>10</td>\n",
       "            <td>0.0010607765289023519</td>\n",
       "            <td>0.006515521090477705</td>\n",
       "        </tr>\n",
       "        <tr>\n",
       "            <td>2013-01-01 03:30:00.005000</td>\n",
       "            <td>10</td>\n",
       "            <td>0.0010607768781483173</td>\n",
       "            <td>0.00651552015915513</td>\n",
       "        </tr>\n",
       "        <tr>\n",
       "            <td>2013-01-01 03:30:00.010000</td>\n",
       "            <td>10</td>\n",
       "            <td>0.0010607772273942828</td>\n",
       "            <td>0.006515519227832556</td>\n",
       "        </tr>\n",
       "        <tr>\n",
       "            <td>2013-01-01 03:30:00.015000</td>\n",
       "            <td>10</td>\n",
       "            <td>0.0010607774602249265</td>\n",
       "            <td>0.006515517830848694</td>\n",
       "        </tr>\n",
       "        <tr>\n",
       "            <td>2013-01-01 03:30:00.020000</td>\n",
       "            <td>10</td>\n",
       "            <td>0.001060777809470892</td>\n",
       "            <td>0.006515516899526119</td>\n",
       "        </tr>\n",
       "    </tbody>\n",
       "</table>"
      ],
      "text/plain": [
       "+----------------------------+---------------------+-----------------------+----------------------+\n",
       "|                  timestamp | 15_minutes_interval |    min_consumption_wh |   max_consumption_wh |\n",
       "+----------------------------+---------------------+-----------------------+----------------------+\n",
       "|        2013-01-01 03:30:00 |                  10 | 0.0010607765289023519 | 0.006515521090477705 |\n",
       "| 2013-01-01 03:30:00.005000 |                  10 | 0.0010607768781483173 |  0.00651552015915513 |\n",
       "| 2013-01-01 03:30:00.010000 |                  10 | 0.0010607772273942828 | 0.006515519227832556 |\n",
       "| 2013-01-01 03:30:00.015000 |                  10 | 0.0010607774602249265 | 0.006515517830848694 |\n",
       "| 2013-01-01 03:30:00.020000 |                  10 |  0.001060777809470892 | 0.006515516899526119 |\n",
       "+----------------------------+---------------------+-----------------------+----------------------+"
      ]
     },
     "execution_count": 9,
     "metadata": {},
     "output_type": "execute_result"
    }
   ],
   "source": [
    "%%sql\n",
    "\n",
    "SELECT * FROM SolarX_Raw_Transactions.home_power_readings LIMIT 5"
   ]
  },
  {
   "cell_type": "code",
   "execution_count": 50,
   "id": "033eb8c8-3882-4169-a0be-6d9afd539d7e",
   "metadata": {},
   "outputs": [
    {
     "data": {
      "text/html": [
       "<table>\n",
       "    <thead>\n",
       "        <tr>\n",
       "            <th>timestamp</th>\n",
       "            <th>date</th>\n",
       "            <th>15_minutes_interval</th>\n",
       "            <th>min_consumption_wh</th>\n",
       "            <th>max_consumption_wh</th>\n",
       "        </tr>\n",
       "    </thead>\n",
       "    <tbody>\n",
       "        <tr>\n",
       "            <td>2013-01-03 22:15:00</td>\n",
       "            <td>2013-01-03</td>\n",
       "            <td>85</td>\n",
       "            <td>0.0009668199927546084</td>\n",
       "            <td>0.005331419408321381</td>\n",
       "        </tr>\n",
       "        <tr>\n",
       "            <td>2013-01-03 22:15:00.005000</td>\n",
       "            <td>2013-01-03</td>\n",
       "            <td>85</td>\n",
       "            <td>0.0009668199345469475</td>\n",
       "            <td>0.005331420339643955</td>\n",
       "        </tr>\n",
       "        <tr>\n",
       "            <td>2013-01-03 22:15:00.010000</td>\n",
       "            <td>2013-01-03</td>\n",
       "            <td>85</td>\n",
       "            <td>0.0009668199345469475</td>\n",
       "            <td>0.005331421736627817</td>\n",
       "        </tr>\n",
       "        <tr>\n",
       "            <td>2013-01-03 22:15:00.015000</td>\n",
       "            <td>2013-01-03</td>\n",
       "            <td>85</td>\n",
       "            <td>0.0009668198763392866</td>\n",
       "            <td>0.005331423133611679</td>\n",
       "        </tr>\n",
       "        <tr>\n",
       "            <td>2013-01-03 22:15:00.020000</td>\n",
       "            <td>2013-01-03</td>\n",
       "            <td>85</td>\n",
       "            <td>0.0009668198181316257</td>\n",
       "            <td>0.005331424530595541</td>\n",
       "        </tr>\n",
       "    </tbody>\n",
       "</table>"
      ],
      "text/plain": [
       "+----------------------------+------------+---------------------+-----------------------+----------------------+\n",
       "|                  timestamp |       date | 15_minutes_interval |    min_consumption_wh |   max_consumption_wh |\n",
       "+----------------------------+------------+---------------------+-----------------------+----------------------+\n",
       "|        2013-01-03 22:15:00 | 2013-01-03 |                  85 | 0.0009668199927546084 | 0.005331419408321381 |\n",
       "| 2013-01-03 22:15:00.005000 | 2013-01-03 |                  85 | 0.0009668199345469475 | 0.005331420339643955 |\n",
       "| 2013-01-03 22:15:00.010000 | 2013-01-03 |                  85 | 0.0009668199345469475 | 0.005331421736627817 |\n",
       "| 2013-01-03 22:15:00.015000 | 2013-01-03 |                  85 | 0.0009668198763392866 | 0.005331423133611679 |\n",
       "| 2013-01-03 22:15:00.020000 | 2013-01-03 |                  85 | 0.0009668198181316257 | 0.005331424530595541 |\n",
       "+----------------------------+------------+---------------------+-----------------------+----------------------+"
      ]
     },
     "execution_count": 50,
     "metadata": {},
     "output_type": "execute_result"
    }
   ],
   "source": [
    "%%sql\n",
    "\n",
    "SELECT \n",
    "    timestamp,\n",
    "    DATE(timestamp) as date,\n",
    "    15_minutes_interval,\n",
    "    min_consumption_wh,\n",
    "    max_consumption_wh\n",
    "FROM \n",
    "    SolarX_Raw_Transactions.home_power_readings \n",
    "LIMIT 5"
   ]
  },
  {
   "cell_type": "markdown",
   "id": "7cb08b45-38d1-4a4b-af92-673ebfb1d4e6",
   "metadata": {},
   "source": [
    "### Query low frequency data for wh"
   ]
  },
  {
   "cell_type": "code",
   "execution_count": 39,
   "id": "9e613b14-f82a-483b-aa7c-be380659df2e",
   "metadata": {},
   "outputs": [
    {
     "name": "stderr",
     "output_type": "stream",
     "text": [
      "                                                                                \r"
     ]
    },
    {
     "data": {
      "text/html": [
       "<table>\n",
       "    <thead>\n",
       "        <tr>\n",
       "            <th>home_power_readings_id</th>\n",
       "            <th>date</th>\n",
       "            <th>15_minutes_interval</th>\n",
       "            <th>min_consumption_power_wh</th>\n",
       "            <th>max_consumption_power_wh</th>\n",
       "        </tr>\n",
       "    </thead>\n",
       "    <tbody>\n",
       "        <tr>\n",
       "            <td>2013-01-01--0</td>\n",
       "            <td>2013-01-01</td>\n",
       "            <td>0</td>\n",
       "            <td>210.4949002956273</td>\n",
       "            <td>1234.37793413084</td>\n",
       "        </tr>\n",
       "        <tr>\n",
       "            <td>2013-01-01--1</td>\n",
       "            <td>2013-01-01</td>\n",
       "            <td>1</td>\n",
       "            <td>210.90460421564057</td>\n",
       "            <td>1195.791982460767</td>\n",
       "        </tr>\n",
       "        <tr>\n",
       "            <td>2013-01-01--2</td>\n",
       "            <td>2013-01-01</td>\n",
       "            <td>2</td>\n",
       "            <td>211.31430813518818</td>\n",
       "            <td>1157.2060307911597</td>\n",
       "        </tr>\n",
       "        <tr>\n",
       "            <td>2013-01-01--3</td>\n",
       "            <td>2013-01-01</td>\n",
       "            <td>3</td>\n",
       "            <td>211.72401205578353</td>\n",
       "            <td>1118.620079122018</td>\n",
       "        </tr>\n",
       "        <tr>\n",
       "            <td>2013-01-01--4</td>\n",
       "            <td>2013-01-01</td>\n",
       "            <td>4</td>\n",
       "            <td>206.7439376907423</td>\n",
       "            <td>1116.9222173416056</td>\n",
       "        </tr>\n",
       "        <tr>\n",
       "            <td>2013-01-01--5</td>\n",
       "            <td>2013-01-01</td>\n",
       "            <td>5</td>\n",
       "            <td>196.37402515218128</td>\n",
       "            <td>1152.1128553207964</td>\n",
       "        </tr>\n",
       "        <tr>\n",
       "            <td>2013-01-01--6</td>\n",
       "            <td>2013-01-01</td>\n",
       "            <td>6</td>\n",
       "            <td>186.00411261827685</td>\n",
       "            <td>1187.3034932990558</td>\n",
       "        </tr>\n",
       "        <tr>\n",
       "            <td>2013-01-01--7</td>\n",
       "            <td>2013-01-01</td>\n",
       "            <td>7</td>\n",
       "            <td>175.6342000772711</td>\n",
       "            <td>1222.494131277781</td>\n",
       "        </tr>\n",
       "        <tr>\n",
       "            <td>2013-01-01--8</td>\n",
       "            <td>2013-01-01</td>\n",
       "            <td>8</td>\n",
       "            <td>175.57182770763757</td>\n",
       "            <td>1223.2657041028142</td>\n",
       "        </tr>\n",
       "        <tr>\n",
       "            <td>2013-01-01--9</td>\n",
       "            <td>2013-01-01</td>\n",
       "            <td>9</td>\n",
       "            <td>185.8171100311447</td>\n",
       "            <td>1189.6178293367848</td>\n",
       "        </tr>\n",
       "    </tbody>\n",
       "</table>"
      ],
      "text/plain": [
       "+------------------------+------------+---------------------+--------------------------+--------------------------+\n",
       "| home_power_readings_id |       date | 15_minutes_interval | min_consumption_power_wh | max_consumption_power_wh |\n",
       "+------------------------+------------+---------------------+--------------------------+--------------------------+\n",
       "|          2013-01-01--0 | 2013-01-01 |                   0 |        210.4949002956273 |         1234.37793413084 |\n",
       "|          2013-01-01--1 | 2013-01-01 |                   1 |       210.90460421564057 |        1195.791982460767 |\n",
       "|          2013-01-01--2 | 2013-01-01 |                   2 |       211.31430813518818 |       1157.2060307911597 |\n",
       "|          2013-01-01--3 | 2013-01-01 |                   3 |       211.72401205578353 |        1118.620079122018 |\n",
       "|          2013-01-01--4 | 2013-01-01 |                   4 |        206.7439376907423 |       1116.9222173416056 |\n",
       "|          2013-01-01--5 | 2013-01-01 |                   5 |       196.37402515218128 |       1152.1128553207964 |\n",
       "|          2013-01-01--6 | 2013-01-01 |                   6 |       186.00411261827685 |       1187.3034932990558 |\n",
       "|          2013-01-01--7 | 2013-01-01 |                   7 |        175.6342000772711 |        1222.494131277781 |\n",
       "|          2013-01-01--8 | 2013-01-01 |                   8 |       175.57182770763757 |       1223.2657041028142 |\n",
       "|          2013-01-01--9 | 2013-01-01 |                   9 |        185.8171100311447 |       1189.6178293367848 |\n",
       "+------------------------+------------+---------------------+--------------------------+--------------------------+"
      ]
     },
     "execution_count": 39,
     "metadata": {},
     "output_type": "execute_result"
    }
   ],
   "source": [
    "%%sql\n",
    "\n",
    "SELECT\n",
    "    CONCAT(DATE(timestamp), '--', 15_minutes_interval) as home_power_readings_id,\n",
    "    DATE(timestamp) as date,\n",
    "    15_minutes_interval,\n",
    "    SUM(min_consumption_wh) as min_consumption_power_wh,\n",
    "    SUM(max_consumption_wh) as max_consumption_power_wh\n",
    "FROM \n",
    "    SolarX_Raw_Transactions.home_power_readings\n",
    "WHERE \n",
    "    DAY(timestamp) = 1\n",
    "GROUP BY \n",
    "    DATE(timestamp), 15_minutes_interval\n",
    "SORT BY\n",
    "    15_minutes_interval\n",
    "LIMIT 10"
   ]
  },
  {
   "cell_type": "markdown",
   "id": "40b22ed9-9238-49cf-87e0-11624d437f6c",
   "metadata": {},
   "source": [
    "## Home readings dimension and fact tables"
   ]
  },
  {
   "cell_type": "markdown",
   "id": "016fd31b-c2d5-4db0-bc55-4788d1a9d4d4",
   "metadata": {},
   "source": [
    "### Home dimension"
   ]
  },
  {
   "cell_type": "code",
   "execution_count": 55,
   "id": "112b496e-c74a-47c9-8e74-41e135fbaba7",
   "metadata": {},
   "outputs": [
    {
     "data": {
      "text/html": [
       "<table>\n",
       "    <thead>\n",
       "        <tr>\n",
       "        </tr>\n",
       "    </thead>\n",
       "    <tbody>\n",
       "    </tbody>\n",
       "</table>"
      ],
      "text/plain": [
       "++\n",
       "||\n",
       "++\n",
       "++"
      ]
     },
     "execution_count": 55,
     "metadata": {},
     "output_type": "execute_result"
    }
   ],
   "source": [
    "%%sql\n",
    "\n",
    "DROP TABLE IF EXISTS SolarX_WH.dim_home PURGE"
   ]
  },
  {
   "cell_type": "code",
   "execution_count": 56,
   "id": "b42835e4-dde7-4bf6-9e60-cd15ea3391a1",
   "metadata": {},
   "outputs": [
    {
     "data": {
      "text/html": [
       "<table>\n",
       "    <thead>\n",
       "        <tr>\n",
       "        </tr>\n",
       "    </thead>\n",
       "    <tbody>\n",
       "    </tbody>\n",
       "</table>"
      ],
      "text/plain": [
       "++\n",
       "||\n",
       "++\n",
       "++"
      ]
     },
     "execution_count": 56,
     "metadata": {},
     "output_type": "execute_result"
    }
   ],
   "source": [
    "%%sql\n",
    "\n",
    "CREATE TABLE SolarX_WH.dim_home(\n",
    "    home_key                            INT         NOT NULL,\n",
    "    home_id                             INT         NOT NULL,\n",
    "    appliance                           VARCHAR(25) NOT NULL,    \n",
    "    consumption_power                   FLOAT       NOT NULL,\n",
    "    usage_time                          VARCHAR(50) NOT NULL,\n",
    "\n",
    "    -- scd type2 for consumption_power\n",
    "    consumption_power_start_date        TIMESTAMP   NOT NULL,\n",
    "    consumption_power_end_date          TIMESTAMP,\n",
    "\n",
    "    -- scd type2 for usage_time\n",
    "    usage_time_start_date               TIMESTAMP  NOT NULL,\n",
    "    usage_time_end_date                 TIMESTAMP\n",
    ")\n",
    "USING iceberg;"
   ]
  },
  {
   "cell_type": "markdown",
   "id": "8fc3724d-c6bc-48f1-b744-76bdb705d589",
   "metadata": {},
   "source": [
    "### Home fact"
   ]
  },
  {
   "cell_type": "code",
   "execution_count": 73,
   "id": "fbb1559e-ec85-4446-9bb0-f8bcf099f0be",
   "metadata": {},
   "outputs": [
    {
     "name": "stderr",
     "output_type": "stream",
     "text": [
      "24/12/31 17:41:05 WARN SparkSession: Using an existing Spark session; only runtime SQL configurations will take effect.\n",
      "                                                                                \r"
     ]
    },
    {
     "data": {
      "text/html": [
       "<table>\n",
       "    <thead>\n",
       "        <tr>\n",
       "        </tr>\n",
       "    </thead>\n",
       "    <tbody>\n",
       "    </tbody>\n",
       "</table>"
      ],
      "text/plain": [
       "++\n",
       "||\n",
       "++\n",
       "++"
      ]
     },
     "execution_count": 73,
     "metadata": {},
     "output_type": "execute_result"
    }
   ],
   "source": [
    "%%sql\n",
    "\n",
    "DROP TABLE IF EXISTS SolarX_WH.fact_home_power_readings PURGE"
   ]
  },
  {
   "cell_type": "code",
   "execution_count": 74,
   "id": "b5e89a2c-0bd7-48fe-9a55-a0fc376a1044",
   "metadata": {},
   "outputs": [
    {
     "data": {
      "text/html": [
       "<table>\n",
       "    <thead>\n",
       "        <tr>\n",
       "        </tr>\n",
       "    </thead>\n",
       "    <tbody>\n",
       "    </tbody>\n",
       "</table>"
      ],
      "text/plain": [
       "++\n",
       "||\n",
       "++\n",
       "++"
      ]
     },
     "execution_count": 74,
     "metadata": {},
     "output_type": "execute_result"
    }
   ],
   "source": [
    "%%sql\n",
    "\n",
    "CREATE TABLE SolarX_WH.fact_home_power_readings(\n",
    "    home_power_reading_key          INT           NOT NULL,\n",
    "    home_key                        SMALLINT      NOT NULL,   -- REFERENCES dim_home(home_key)\n",
    "    date_key                        SMALLINT      NOT NULL,   -- REFERENCES dim_date(date_key)\n",
    "\n",
    "    home_power_reading_id          VARCHAR(25)   NOT NULL,\n",
    "    date                            DATE          NOT NULL,\n",
    "    15_minutes_interval             SMALLINT      NOT NULL,\n",
    "    min_consumption_power_wh        FLOAT         NOT NULL,\n",
    "    max_consumption_power_wh        FLOAT         NOT NULL \n",
    ")\n",
    "\n",
    "USING iceberg\n",
    "PARTITIONED BY (MONTH(date), 15_minutes_interval)"
   ]
  },
  {
   "cell_type": "code",
   "execution_count": null,
   "id": "4bd7c489-67d2-4bad-8e71-2f9bf49bb3fa",
   "metadata": {},
   "outputs": [],
   "source": []
  },
  {
   "cell_type": "markdown",
   "id": "7491dace-e07e-4f4f-a23b-9bb007162bd2",
   "metadata": {},
   "source": [
    "## Solar panel readings dimension and fact tables"
   ]
  },
  {
   "cell_type": "markdown",
   "id": "5f0c9bfe-3bf5-4620-bd4d-32219d162bd6",
   "metadata": {},
   "source": [
    "## Investigate solar panel raw date"
   ]
  },
  {
   "cell_type": "code",
   "execution_count": 52,
   "id": "6cd27a8d-4239-46e6-82ed-04f7cd5e19a4",
   "metadata": {},
   "outputs": [
    {
     "data": {
      "text/html": [
       "<table>\n",
       "    <thead>\n",
       "        <tr>\n",
       "            <th>col_name</th>\n",
       "            <th>data_type</th>\n",
       "            <th>comment</th>\n",
       "        </tr>\n",
       "    </thead>\n",
       "    <tbody>\n",
       "        <tr>\n",
       "            <td>id</td>\n",
       "            <td>int</td>\n",
       "            <td>None</td>\n",
       "        </tr>\n",
       "        <tr>\n",
       "            <td>name</td>\n",
       "            <td>string</td>\n",
       "            <td>None</td>\n",
       "        </tr>\n",
       "        <tr>\n",
       "            <td>capacity_kwh</td>\n",
       "            <td>float</td>\n",
       "            <td>None</td>\n",
       "        </tr>\n",
       "        <tr>\n",
       "            <td>intensity_power_rating</td>\n",
       "            <td>float</td>\n",
       "            <td>None</td>\n",
       "        </tr>\n",
       "        <tr>\n",
       "            <td>temperature_power_rating</td>\n",
       "            <td>float</td>\n",
       "            <td>None</td>\n",
       "        </tr>\n",
       "    </tbody>\n",
       "</table>"
      ],
      "text/plain": [
       "+--------------------------+-----------+---------+\n",
       "|                 col_name | data_type | comment |\n",
       "+--------------------------+-----------+---------+\n",
       "|                       id |       int |    None |\n",
       "|                     name |    string |    None |\n",
       "|             capacity_kwh |     float |    None |\n",
       "|   intensity_power_rating |     float |    None |\n",
       "| temperature_power_rating |     float |    None |\n",
       "+--------------------------+-----------+---------+"
      ]
     },
     "execution_count": 52,
     "metadata": {},
     "output_type": "execute_result"
    }
   ],
   "source": [
    "%%sql\n",
    "\n",
    "DESCRIBE SolarX_Raw_Transactions.solar_panel"
   ]
  },
  {
   "cell_type": "code",
   "execution_count": 53,
   "id": "68c594b4-9066-4dc3-807d-c460a14edb95",
   "metadata": {},
   "outputs": [
    {
     "data": {
      "text/html": [
       "<table>\n",
       "    <thead>\n",
       "        <tr>\n",
       "            <th>col_name</th>\n",
       "            <th>data_type</th>\n",
       "            <th>comment</th>\n",
       "        </tr>\n",
       "    </thead>\n",
       "    <tbody>\n",
       "        <tr>\n",
       "            <td>timestamp</td>\n",
       "            <td>timestamp</td>\n",
       "            <td>None</td>\n",
       "        </tr>\n",
       "        <tr>\n",
       "            <td>15_minutes_interval</td>\n",
       "            <td>int</td>\n",
       "            <td>None</td>\n",
       "        </tr>\n",
       "        <tr>\n",
       "            <td>panel_id</td>\n",
       "            <td>int</td>\n",
       "            <td>None</td>\n",
       "        </tr>\n",
       "        <tr>\n",
       "            <td>generation_power_wh</td>\n",
       "            <td>float</td>\n",
       "            <td>None</td>\n",
       "        </tr>\n",
       "        <tr>\n",
       "            <td></td>\n",
       "            <td></td>\n",
       "            <td></td>\n",
       "        </tr>\n",
       "        <tr>\n",
       "            <td># Partitioning</td>\n",
       "            <td></td>\n",
       "            <td></td>\n",
       "        </tr>\n",
       "        <tr>\n",
       "            <td>Part 0</td>\n",
       "            <td>days(timestamp)</td>\n",
       "            <td></td>\n",
       "        </tr>\n",
       "        <tr>\n",
       "            <td>Part 1</td>\n",
       "            <td>panel_id</td>\n",
       "            <td></td>\n",
       "        </tr>\n",
       "        <tr>\n",
       "            <td>Part 2</td>\n",
       "            <td>15_minutes_interval</td>\n",
       "            <td></td>\n",
       "        </tr>\n",
       "    </tbody>\n",
       "</table>"
      ],
      "text/plain": [
       "+---------------------+---------------------+---------+\n",
       "|            col_name |           data_type | comment |\n",
       "+---------------------+---------------------+---------+\n",
       "|           timestamp |           timestamp |    None |\n",
       "| 15_minutes_interval |                 int |    None |\n",
       "|            panel_id |                 int |    None |\n",
       "| generation_power_wh |               float |    None |\n",
       "|                     |                     |         |\n",
       "|      # Partitioning |                     |         |\n",
       "|              Part 0 |     days(timestamp) |         |\n",
       "|              Part 1 |            panel_id |         |\n",
       "|              Part 2 | 15_minutes_interval |         |\n",
       "+---------------------+---------------------+---------+"
      ]
     },
     "execution_count": 53,
     "metadata": {},
     "output_type": "execute_result"
    }
   ],
   "source": [
    "%%sql\n",
    "\n",
    "DESCRIBE SolarX_Raw_Transactions.solar_panel_readings"
   ]
  },
  {
   "cell_type": "markdown",
   "id": "9740b8ad-f600-47cb-a6c2-cc273f1cd946",
   "metadata": {},
   "source": [
    "### Query low frequency data for wh"
   ]
  },
  {
   "cell_type": "code",
   "execution_count": 61,
   "id": "147b05df-a21b-4584-b3e3-2bd1483a0d37",
   "metadata": {},
   "outputs": [
    {
     "name": "stderr",
     "output_type": "stream",
     "text": [
      "                                                                                \r"
     ]
    },
    {
     "data": {
      "text/html": [
       "<table>\n",
       "    <thead>\n",
       "        <tr>\n",
       "            <th>solar_panel_power_readings_id</th>\n",
       "            <th>date</th>\n",
       "            <th>15_minutes_interval</th>\n",
       "            <th>generation_power_wh</th>\n",
       "        </tr>\n",
       "    </thead>\n",
       "    <tbody>\n",
       "        <tr>\n",
       "            <td>2013-01-01--34</td>\n",
       "            <td>2013-01-01</td>\n",
       "            <td>34</td>\n",
       "            <td>1112.372815785464</td>\n",
       "        </tr>\n",
       "        <tr>\n",
       "            <td>2013-01-01--32</td>\n",
       "            <td>2013-01-01</td>\n",
       "            <td>32</td>\n",
       "            <td>1108.504030722659</td>\n",
       "        </tr>\n",
       "        <tr>\n",
       "            <td>2013-01-01--37</td>\n",
       "            <td>2013-01-01</td>\n",
       "            <td>37</td>\n",
       "            <td>1075.1697589475662</td>\n",
       "        </tr>\n",
       "        <tr>\n",
       "            <td>2013-01-01--33</td>\n",
       "            <td>2013-01-01</td>\n",
       "            <td>33</td>\n",
       "            <td>1070.1509305494837</td>\n",
       "        </tr>\n",
       "        <tr>\n",
       "            <td>2013-01-01--39</td>\n",
       "            <td>2013-01-01</td>\n",
       "            <td>39</td>\n",
       "            <td>1033.8308916147798</td>\n",
       "        </tr>\n",
       "        <tr>\n",
       "            <td>2013-01-01--35</td>\n",
       "            <td>2013-01-01</td>\n",
       "            <td>35</td>\n",
       "            <td>1033.8161300485954</td>\n",
       "        </tr>\n",
       "        <tr>\n",
       "            <td>2013-01-01--38</td>\n",
       "            <td>2013-01-01</td>\n",
       "            <td>38</td>\n",
       "            <td>1001.8857660298236</td>\n",
       "        </tr>\n",
       "        <tr>\n",
       "            <td>2013-01-01--36</td>\n",
       "            <td>2013-01-01</td>\n",
       "            <td>36</td>\n",
       "            <td>997.2686491240747</td>\n",
       "        </tr>\n",
       "        <tr>\n",
       "            <td>2013-01-01--42</td>\n",
       "            <td>2013-01-01</td>\n",
       "            <td>42</td>\n",
       "            <td>929.7826389158145</td>\n",
       "        </tr>\n",
       "        <tr>\n",
       "            <td>2013-01-01--41</td>\n",
       "            <td>2013-01-01</td>\n",
       "            <td>41</td>\n",
       "            <td>923.0105679007247</td>\n",
       "        </tr>\n",
       "    </tbody>\n",
       "</table>"
      ],
      "text/plain": [
       "+-------------------------------+------------+---------------------+---------------------+\n",
       "| solar_panel_power_readings_id |       date | 15_minutes_interval | generation_power_wh |\n",
       "+-------------------------------+------------+---------------------+---------------------+\n",
       "|                2013-01-01--34 | 2013-01-01 |                  34 |   1112.372815785464 |\n",
       "|                2013-01-01--32 | 2013-01-01 |                  32 |   1108.504030722659 |\n",
       "|                2013-01-01--37 | 2013-01-01 |                  37 |  1075.1697589475662 |\n",
       "|                2013-01-01--33 | 2013-01-01 |                  33 |  1070.1509305494837 |\n",
       "|                2013-01-01--39 | 2013-01-01 |                  39 |  1033.8308916147798 |\n",
       "|                2013-01-01--35 | 2013-01-01 |                  35 |  1033.8161300485954 |\n",
       "|                2013-01-01--38 | 2013-01-01 |                  38 |  1001.8857660298236 |\n",
       "|                2013-01-01--36 | 2013-01-01 |                  36 |   997.2686491240747 |\n",
       "|                2013-01-01--42 | 2013-01-01 |                  42 |   929.7826389158145 |\n",
       "|                2013-01-01--41 | 2013-01-01 |                  41 |   923.0105679007247 |\n",
       "+-------------------------------+------------+---------------------+---------------------+"
      ]
     },
     "execution_count": 61,
     "metadata": {},
     "output_type": "execute_result"
    }
   ],
   "source": [
    "%%sql\n",
    "\n",
    "SELECT\n",
    "    CONCAT(DATE(timestamp), '--', 15_minutes_interval) as solar_panel_power_readings_id,\n",
    "    DATE(timestamp) as date,\n",
    "    15_minutes_interval,\n",
    "    SUM(generation_power_wh) as generation_power_wh\n",
    "FROM \n",
    "    SolarX_Raw_Transactions.solar_panel_readings\n",
    "WHERE \n",
    "    DAY(timestamp) = 1 AND panel_id = 1\n",
    "GROUP BY \n",
    "    DATE(timestamp), 15_minutes_interval\n",
    "SORT BY\n",
    "    generation_power_wh desc\n",
    "LIMIT 10"
   ]
  },
  {
   "cell_type": "markdown",
   "id": "92612207-6ac8-4405-92a7-bf2d89c93237",
   "metadata": {},
   "source": [
    "### Solar panel dimension"
   ]
  },
  {
   "cell_type": "code",
   "execution_count": 54,
   "id": "eda23195-7007-4ab6-8481-b97b59337989",
   "metadata": {},
   "outputs": [
    {
     "data": {
      "text/html": [
       "<table>\n",
       "    <thead>\n",
       "        <tr>\n",
       "        </tr>\n",
       "    </thead>\n",
       "    <tbody>\n",
       "    </tbody>\n",
       "</table>"
      ],
      "text/plain": [
       "++\n",
       "||\n",
       "++\n",
       "++"
      ]
     },
     "execution_count": 54,
     "metadata": {},
     "output_type": "execute_result"
    }
   ],
   "source": [
    "%%sql\n",
    "\n",
    "DROP TABLE IF EXISTS SolarX_WH.dim_solar_panel PURGE"
   ]
  },
  {
   "cell_type": "code",
   "execution_count": 57,
   "id": "42a29790-07d7-4916-aacf-9d11cd0b1e68",
   "metadata": {},
   "outputs": [
    {
     "data": {
      "text/html": [
       "<table>\n",
       "    <thead>\n",
       "        <tr>\n",
       "        </tr>\n",
       "    </thead>\n",
       "    <tbody>\n",
       "    </tbody>\n",
       "</table>"
      ],
      "text/plain": [
       "++\n",
       "||\n",
       "++\n",
       "++"
      ]
     },
     "execution_count": 57,
     "metadata": {},
     "output_type": "execute_result"
    }
   ],
   "source": [
    "%%sql\n",
    "\n",
    "CREATE TABLE SolarX_WH.dim_solar_panel(\n",
    "    solar_panel_key                             SMALLINT    NOT NULL,\n",
    "    solar_panel_id                              SMALLINT    NOT NULL,\n",
    "    name                                        VARCHAR(20) NOT NULL,    \n",
    "    capacity_kwh                                FLOAT       NOT NULL,\n",
    "    intensity_power_rating_wh                   FLOAT       NOT NULL,\n",
    "    temperature_power_rating_c                  FLOAT       NOT NULL,\n",
    "\n",
    "    -- scd type2 for capacity_kwh\n",
    "    capacity_kwh_start_date                     TIMESTAMP   NOT NULL,\n",
    "    capacity_kwh_end_date                       TIMESTAMP,\n",
    "\n",
    "    -- scd type2 for intensity_power_rating_wh\n",
    "    intensity_power_rating_wh_start_date        TIMESTAMP  NOT NULL,\n",
    "    intensity_power_rating_wh_end_date          TIMESTAMP,\n",
    "\n",
    "    -- scd type2 for temperature_power_rating_c\n",
    "    temperature_power_rating_c_start_date       TIMESTAMP  NOT NULL,\n",
    "    temperature_power_rating_c_end_date         TIMESTAMP\n",
    ")\n",
    "USING iceberg;"
   ]
  },
  {
   "cell_type": "markdown",
   "id": "7a6cc5e9-4e80-4854-abaf-605ff4ba5f7c",
   "metadata": {},
   "source": [
    "### Solar panel fact"
   ]
  },
  {
   "cell_type": "code",
   "execution_count": 66,
   "id": "844a6657-6bc7-4064-b983-5e2ef999af35",
   "metadata": {},
   "outputs": [
    {
     "data": {
      "text/html": [
       "<table>\n",
       "    <thead>\n",
       "        <tr>\n",
       "        </tr>\n",
       "    </thead>\n",
       "    <tbody>\n",
       "    </tbody>\n",
       "</table>"
      ],
      "text/plain": [
       "++\n",
       "||\n",
       "++\n",
       "++"
      ]
     },
     "execution_count": 66,
     "metadata": {},
     "output_type": "execute_result"
    }
   ],
   "source": [
    "%%sql\n",
    "\n",
    "DROP TABLE IF EXISTS SolarX_WH.fact_solar_panel_power_readings PURGE"
   ]
  },
  {
   "cell_type": "code",
   "execution_count": 67,
   "id": "9f04599c-8862-4f3e-aa7d-b0408fd716f7",
   "metadata": {},
   "outputs": [
    {
     "data": {
      "text/html": [
       "<table>\n",
       "    <thead>\n",
       "        <tr>\n",
       "        </tr>\n",
       "    </thead>\n",
       "    <tbody>\n",
       "    </tbody>\n",
       "</table>"
      ],
      "text/plain": [
       "++\n",
       "||\n",
       "++\n",
       "++"
      ]
     },
     "execution_count": 67,
     "metadata": {},
     "output_type": "execute_result"
    }
   ],
   "source": [
    "%%sql\n",
    "\n",
    "CREATE TABLE SolarX_WH.fact_solar_panel_power_readings(\n",
    "    solar_panel_reading_key         INT           NOT NULL,\n",
    "    solar_panel_key                 SMALLINT      NOT NULL,   -- REFERENCES dim_solar_panel(solar_panel_key)\n",
    "    date_key                        SMALLINT      NOT NULL,   -- REFERENCES dim_date(date_key)\n",
    "\n",
    "    solar_panel_reading_id          VARCHAR(25)   NOT NULL,\n",
    "    date                            DATE          NOT NULL,\n",
    "    15_minutes_interval             SMALLINT      NOT NULL,\n",
    "    generation_power_wh             FLOAT         NOT NULL \n",
    ")\n",
    "\n",
    "USING iceberg\n",
    "PARTITIONED BY (MONTH(date), 15_minutes_interval)"
   ]
  },
  {
   "cell_type": "code",
   "execution_count": null,
   "id": "38fdc02c-af2e-46ee-9584-29af721ed001",
   "metadata": {},
   "outputs": [],
   "source": []
  },
  {
   "cell_type": "code",
   "execution_count": 70,
   "id": "371e156c-77fa-469c-ab72-c544b815f14e",
   "metadata": {},
   "outputs": [],
   "source": [
    "spark.stop()"
   ]
  },
  {
   "cell_type": "code",
   "execution_count": null,
   "id": "7b542510-8668-4add-b6e2-41c1b781f9ab",
   "metadata": {},
   "outputs": [],
   "source": []
  }
 ],
 "metadata": {
  "kernelspec": {
   "display_name": "Python 3 (ipykernel)",
   "language": "python",
   "name": "python3"
  },
  "language_info": {
   "codemirror_mode": {
    "name": "ipython",
    "version": 3
   },
   "file_extension": ".py",
   "mimetype": "text/x-python",
   "name": "python",
   "nbconvert_exporter": "python",
   "pygments_lexer": "ipython3",
   "version": "3.9.18"
  }
 },
 "nbformat": 4,
 "nbformat_minor": 5
}
