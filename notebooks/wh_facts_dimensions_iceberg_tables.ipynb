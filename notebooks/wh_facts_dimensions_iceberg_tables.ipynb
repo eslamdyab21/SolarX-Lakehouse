{
 "cells": [
  {
   "cell_type": "code",
   "execution_count": 2,
   "id": "5f0ed869-a8a4-426a-b597-2aac2ad0e736",
   "metadata": {},
   "outputs": [],
   "source": [
    "from pyspark.sql import SparkSession"
   ]
  },
  {
   "cell_type": "code",
   "execution_count": 6,
   "id": "8281e181-f948-4740-ad78-a57a7a87d6b8",
   "metadata": {},
   "outputs": [
    {
     "name": "stderr",
     "output_type": "stream",
     "text": [
      "25/02/14 20:09:34 WARN Utils: Service 'SparkUI' could not bind on port 4040. Attempting port 4041.\n"
     ]
    }
   ],
   "source": [
    "spark = (\n",
    "    SparkSession\n",
    "    .builder\n",
    "    .appName(\"wh-facts-dimensions-tables-iceberg\")\n",
    "    .master(\"spark://spark-master:7077\")\n",
    "    .config(\"spark.executor.cores\", 1)\n",
    "    .config(\"spark.cores.max\", 6)\n",
    "    .config(\"spark.executor.memory\", \"512M\")\n",
    "    .getOrCreate()\n",
    ")"
   ]
  },
  {
   "cell_type": "code",
   "execution_count": 7,
   "id": "7db62c7d-1b25-47ba-a91b-3297f9662e5a",
   "metadata": {},
   "outputs": [
    {
     "data": {
      "text/html": [
       "\n",
       "            <div>\n",
       "                <p><b>SparkSession - in-memory</b></p>\n",
       "                \n",
       "        <div>\n",
       "            <p><b>SparkContext</b></p>\n",
       "\n",
       "            <p><a href=\"http://199e3fa57557:4041\">Spark UI</a></p>\n",
       "\n",
       "            <dl>\n",
       "              <dt>Version</dt>\n",
       "                <dd><code>v3.5.1</code></dd>\n",
       "              <dt>Master</dt>\n",
       "                <dd><code>spark://spark-master:7077</code></dd>\n",
       "              <dt>AppName</dt>\n",
       "                <dd><code>wh-facts-dimensions-tables-iceberg</code></dd>\n",
       "            </dl>\n",
       "        </div>\n",
       "        \n",
       "            </div>\n",
       "        "
      ],
      "text/plain": [
       "<pyspark.sql.session.SparkSession at 0x7f7ebc9eb730>"
      ]
     },
     "execution_count": 7,
     "metadata": {},
     "output_type": "execute_result"
    }
   ],
   "source": [
    "spark"
   ]
  },
  {
   "cell_type": "code",
   "execution_count": 8,
   "id": "9741980e-6994-4af3-bf08-32b62833d920",
   "metadata": {},
   "outputs": [
    {
     "data": {
      "text/html": [
       "<table>\n",
       "    <thead>\n",
       "        <tr>\n",
       "            <th>namespace</th>\n",
       "            <th>tableName</th>\n",
       "            <th>isTemporary</th>\n",
       "        </tr>\n",
       "    </thead>\n",
       "    <tbody>\n",
       "        <tr>\n",
       "            <td>SolarX_Raw_Transactions</td>\n",
       "            <td>home_power_readings</td>\n",
       "            <td>False</td>\n",
       "        </tr>\n",
       "        <tr>\n",
       "            <td>SolarX_Raw_Transactions</td>\n",
       "            <td>solar_panel</td>\n",
       "            <td>False</td>\n",
       "        </tr>\n",
       "        <tr>\n",
       "            <td>SolarX_Raw_Transactions</td>\n",
       "            <td>solar_panel_readings</td>\n",
       "            <td>False</td>\n",
       "        </tr>\n",
       "    </tbody>\n",
       "</table>"
      ],
      "text/plain": [
       "+-------------------------+----------------------+-------------+\n",
       "|               namespace |            tableName | isTemporary |\n",
       "+-------------------------+----------------------+-------------+\n",
       "| SolarX_Raw_Transactions |  home_power_readings |       False |\n",
       "| SolarX_Raw_Transactions |          solar_panel |       False |\n",
       "| SolarX_Raw_Transactions | solar_panel_readings |       False |\n",
       "+-------------------------+----------------------+-------------+"
      ]
     },
     "execution_count": 8,
     "metadata": {},
     "output_type": "execute_result"
    }
   ],
   "source": [
    "%%sql\n",
    "\n",
    "SHOW TABLES IN demo.SolarX_Raw_Transactions"
   ]
  },
  {
   "cell_type": "markdown",
   "id": "98cf8e4b-8c29-4cca-8a48-421f0792619d",
   "metadata": {},
   "source": [
    "# Create a new name-space/database for the warehouse"
   ]
  },
  {
   "cell_type": "code",
   "execution_count": 9,
   "id": "4ef1d369-38bc-43a4-a51e-5bd1bafc706b",
   "metadata": {},
   "outputs": [
    {
     "data": {
      "text/html": [
       "<table>\n",
       "    <thead>\n",
       "        <tr>\n",
       "        </tr>\n",
       "    </thead>\n",
       "    <tbody>\n",
       "    </tbody>\n",
       "</table>"
      ],
      "text/plain": [
       "++\n",
       "||\n",
       "++\n",
       "++"
      ]
     },
     "execution_count": 9,
     "metadata": {},
     "output_type": "execute_result"
    }
   ],
   "source": [
    "%%sql\n",
    "\n",
    "CREATE DATABASE IF NOT EXISTS SolarX_WH"
   ]
  },
  {
   "cell_type": "markdown",
   "id": "7225e457-85e9-480d-adf3-ec6250ac1809",
   "metadata": {},
   "source": [
    "# Home Power Usage WH"
   ]
  },
  {
   "cell_type": "code",
   "execution_count": 10,
   "id": "3c96a55c-3caf-4366-ba3c-4e38c5039176",
   "metadata": {},
   "outputs": [
    {
     "data": {
      "text/html": [
       "<table>\n",
       "    <thead>\n",
       "        <tr>\n",
       "            <th>col_name</th>\n",
       "            <th>data_type</th>\n",
       "            <th>comment</th>\n",
       "        </tr>\n",
       "    </thead>\n",
       "    <tbody>\n",
       "        <tr>\n",
       "            <td>timestamp</td>\n",
       "            <td>timestamp</td>\n",
       "            <td>None</td>\n",
       "        </tr>\n",
       "        <tr>\n",
       "            <td>15_minutes_interval</td>\n",
       "            <td>int</td>\n",
       "            <td>None</td>\n",
       "        </tr>\n",
       "        <tr>\n",
       "            <td>min_consumption_wh</td>\n",
       "            <td>float</td>\n",
       "            <td>None</td>\n",
       "        </tr>\n",
       "        <tr>\n",
       "            <td>max_consumption_wh</td>\n",
       "            <td>float</td>\n",
       "            <td>None</td>\n",
       "        </tr>\n",
       "        <tr>\n",
       "            <td></td>\n",
       "            <td></td>\n",
       "            <td></td>\n",
       "        </tr>\n",
       "        <tr>\n",
       "            <td># Partitioning</td>\n",
       "            <td></td>\n",
       "            <td></td>\n",
       "        </tr>\n",
       "        <tr>\n",
       "            <td>Part 0</td>\n",
       "            <td>days(timestamp)</td>\n",
       "            <td></td>\n",
       "        </tr>\n",
       "        <tr>\n",
       "            <td>Part 1</td>\n",
       "            <td>15_minutes_interval</td>\n",
       "            <td></td>\n",
       "        </tr>\n",
       "    </tbody>\n",
       "</table>"
      ],
      "text/plain": [
       "+---------------------+---------------------+---------+\n",
       "|            col_name |           data_type | comment |\n",
       "+---------------------+---------------------+---------+\n",
       "|           timestamp |           timestamp |    None |\n",
       "| 15_minutes_interval |                 int |    None |\n",
       "|  min_consumption_wh |               float |    None |\n",
       "|  max_consumption_wh |               float |    None |\n",
       "|                     |                     |         |\n",
       "|      # Partitioning |                     |         |\n",
       "|              Part 0 |     days(timestamp) |         |\n",
       "|              Part 1 | 15_minutes_interval |         |\n",
       "+---------------------+---------------------+---------+"
      ]
     },
     "execution_count": 10,
     "metadata": {},
     "output_type": "execute_result"
    }
   ],
   "source": [
    "%%sql\n",
    "\n",
    "DESCRIBE SolarX_Raw_Transactions.home_power_readings"
   ]
  },
  {
   "cell_type": "markdown",
   "id": "40b22ed9-9238-49cf-87e0-11624d437f6c",
   "metadata": {},
   "source": [
    "## Home readings dimension and fact tables"
   ]
  },
  {
   "cell_type": "markdown",
   "id": "016fd31b-c2d5-4db0-bc55-4788d1a9d4d4",
   "metadata": {},
   "source": [
    "### Home dimension"
   ]
  },
  {
   "cell_type": "code",
   "execution_count": 6,
   "id": "112b496e-c74a-47c9-8e74-41e135fbaba7",
   "metadata": {},
   "outputs": [
    {
     "name": "stderr",
     "output_type": "stream",
     "text": [
      "25/01/03 01:47:31 WARN SparkSession: Using an existing Spark session; only runtime SQL configurations will take effect.\n",
      "                                                                                \r"
     ]
    },
    {
     "data": {
      "text/html": [
       "<table>\n",
       "    <thead>\n",
       "        <tr>\n",
       "        </tr>\n",
       "    </thead>\n",
       "    <tbody>\n",
       "    </tbody>\n",
       "</table>"
      ],
      "text/plain": [
       "++\n",
       "||\n",
       "++\n",
       "++"
      ]
     },
     "execution_count": 6,
     "metadata": {},
     "output_type": "execute_result"
    }
   ],
   "source": [
    "%%sql\n",
    "\n",
    "DROP TABLE IF EXISTS SolarX_WH.dim_home PURGE"
   ]
  },
  {
   "cell_type": "code",
   "execution_count": 7,
   "id": "51d101cb-8d1e-428e-afbf-ca883fc23e99",
   "metadata": {},
   "outputs": [
    {
     "data": {
      "text/html": [
       "<table>\n",
       "    <thead>\n",
       "        <tr>\n",
       "        </tr>\n",
       "    </thead>\n",
       "    <tbody>\n",
       "    </tbody>\n",
       "</table>"
      ],
      "text/plain": [
       "++\n",
       "||\n",
       "++\n",
       "++"
      ]
     },
     "execution_count": 7,
     "metadata": {},
     "output_type": "execute_result"
    }
   ],
   "source": [
    "%%sql\n",
    "\n",
    "CREATE TABLE SolarX_WH.dim_home(\n",
    "    home_key                             SMALLINT    NOT NULL,\n",
    "    home_id                              SMALLINT    NOT NULL,\n",
    "    min_consumption_power_wh             FLOAT       NOT NULL,\n",
    "    max_consumption_power_wh             FLOAT       NOT NULL,\n",
    "\n",
    "    -- scd type2 for min_consumption_power_wh\n",
    "    start_date                           TIMESTAMP   NOT NULL,\n",
    "    end_date                             TIMESTAMP,\n",
    "\n",
    "    current_flag                         BOOLEAN NOT NULL\n",
    ")\n",
    "USING iceberg;"
   ]
  },
  {
   "cell_type": "code",
   "execution_count": 44,
   "id": "733e304d-a40d-4706-982a-1572dd735cfc",
   "metadata": {},
   "outputs": [
    {
     "name": "stderr",
     "output_type": "stream",
     "text": [
      "25/01/03 00:29:59 WARN Utils: Service 'SparkUI' could not bind on port 4040. Attempting port 4041.\n"
     ]
    },
    {
     "data": {
      "text/html": [
       "<table>\n",
       "    <thead>\n",
       "        <tr>\n",
       "        </tr>\n",
       "    </thead>\n",
       "    <tbody>\n",
       "    </tbody>\n",
       "</table>"
      ],
      "text/plain": [
       "++\n",
       "||\n",
       "++\n",
       "++"
      ]
     },
     "execution_count": 44,
     "metadata": {},
     "output_type": "execute_result"
    }
   ],
   "source": [
    "%%sql\n",
    "\n",
    "DROP TABLE IF EXISTS SolarX_WH.dim_home_appliances PURGE"
   ]
  },
  {
   "cell_type": "code",
   "execution_count": 45,
   "id": "b42835e4-dde7-4bf6-9e60-cd15ea3391a1",
   "metadata": {},
   "outputs": [
    {
     "data": {
      "text/html": [
       "<table>\n",
       "    <thead>\n",
       "        <tr>\n",
       "        </tr>\n",
       "    </thead>\n",
       "    <tbody>\n",
       "    </tbody>\n",
       "</table>"
      ],
      "text/plain": [
       "++\n",
       "||\n",
       "++\n",
       "++"
      ]
     },
     "execution_count": 45,
     "metadata": {},
     "output_type": "execute_result"
    }
   ],
   "source": [
    "%%sql\n",
    "\n",
    "CREATE TABLE SolarX_WH.dim_home_appliances(\n",
    "    home_appliance_key                  SMALLINT    NOT NULL,\n",
    "    home_key                            SMALLINT    NOT NULL, -- REFERENCES dim_home(home_key)\n",
    "    appliance                           VARCHAR(25) NOT NULL,    \n",
    "    min_consumption_power_wh            FLOAT       NOT NULL,\n",
    "    max_consumption_power_wh            FLOAT       NOT NULL,\n",
    "    usage_time                          VARCHAR(50) NOT NULL\n",
    ")\n",
    "USING iceberg;"
   ]
  },
  {
   "cell_type": "markdown",
   "id": "8fc3724d-c6bc-48f1-b744-76bdb705d589",
   "metadata": {},
   "source": [
    "### Home fact"
   ]
  },
  {
   "cell_type": "code",
   "execution_count": 27,
   "id": "fbb1559e-ec85-4446-9bb0-f8bcf099f0be",
   "metadata": {},
   "outputs": [
    {
     "data": {
      "text/html": [
       "<table>\n",
       "    <thead>\n",
       "        <tr>\n",
       "        </tr>\n",
       "    </thead>\n",
       "    <tbody>\n",
       "    </tbody>\n",
       "</table>"
      ],
      "text/plain": [
       "++\n",
       "||\n",
       "++\n",
       "++"
      ]
     },
     "execution_count": 27,
     "metadata": {},
     "output_type": "execute_result"
    }
   ],
   "source": [
    "%%sql\n",
    "\n",
    "DROP TABLE IF EXISTS SolarX_WH.fact_home_power_readings PURGE"
   ]
  },
  {
   "cell_type": "code",
   "execution_count": 28,
   "id": "b5e89a2c-0bd7-48fe-9a55-a0fc376a1044",
   "metadata": {},
   "outputs": [
    {
     "data": {
      "text/html": [
       "<table>\n",
       "    <thead>\n",
       "        <tr>\n",
       "        </tr>\n",
       "    </thead>\n",
       "    <tbody>\n",
       "    </tbody>\n",
       "</table>"
      ],
      "text/plain": [
       "++\n",
       "||\n",
       "++\n",
       "++"
      ]
     },
     "execution_count": 28,
     "metadata": {},
     "output_type": "execute_result"
    }
   ],
   "source": [
    "%%sql\n",
    "\n",
    "CREATE TABLE SolarX_WH.fact_home_power_readings(\n",
    "    home_power_reading_key          TIMESTAMP     NOT NULL,\n",
    "    home_key                        SMALLINT      NOT NULL,   -- REFERENCES dim_home(home_key)\n",
    "    date_key                        TIMESTAMP     NOT NULL,   -- REFERENCES dim_date(date_key)\n",
    "\n",
    "    min_consumption_power_wh        FLOAT         NOT NULL,\n",
    "    max_consumption_power_wh        FLOAT         NOT NULL \n",
    ")\n",
    "\n",
    "USING iceberg\n",
    "PARTITIONED BY (MONTH(date_key))"
   ]
  },
  {
   "cell_type": "code",
   "execution_count": null,
   "id": "4bd7c489-67d2-4bad-8e71-2f9bf49bb3fa",
   "metadata": {},
   "outputs": [],
   "source": []
  },
  {
   "cell_type": "markdown",
   "id": "7491dace-e07e-4f4f-a23b-9bb007162bd2",
   "metadata": {},
   "source": [
    "## Solar panel readings dimension and fact tables"
   ]
  },
  {
   "cell_type": "code",
   "execution_count": 52,
   "id": "6cd27a8d-4239-46e6-82ed-04f7cd5e19a4",
   "metadata": {},
   "outputs": [
    {
     "data": {
      "text/html": [
       "<table>\n",
       "    <thead>\n",
       "        <tr>\n",
       "            <th>col_name</th>\n",
       "            <th>data_type</th>\n",
       "            <th>comment</th>\n",
       "        </tr>\n",
       "    </thead>\n",
       "    <tbody>\n",
       "        <tr>\n",
       "            <td>id</td>\n",
       "            <td>int</td>\n",
       "            <td>None</td>\n",
       "        </tr>\n",
       "        <tr>\n",
       "            <td>name</td>\n",
       "            <td>string</td>\n",
       "            <td>None</td>\n",
       "        </tr>\n",
       "        <tr>\n",
       "            <td>capacity_kwh</td>\n",
       "            <td>float</td>\n",
       "            <td>None</td>\n",
       "        </tr>\n",
       "        <tr>\n",
       "            <td>intensity_power_rating</td>\n",
       "            <td>float</td>\n",
       "            <td>None</td>\n",
       "        </tr>\n",
       "        <tr>\n",
       "            <td>temperature_power_rating</td>\n",
       "            <td>float</td>\n",
       "            <td>None</td>\n",
       "        </tr>\n",
       "    </tbody>\n",
       "</table>"
      ],
      "text/plain": [
       "+--------------------------+-----------+---------+\n",
       "|                 col_name | data_type | comment |\n",
       "+--------------------------+-----------+---------+\n",
       "|                       id |       int |    None |\n",
       "|                     name |    string |    None |\n",
       "|             capacity_kwh |     float |    None |\n",
       "|   intensity_power_rating |     float |    None |\n",
       "| temperature_power_rating |     float |    None |\n",
       "+--------------------------+-----------+---------+"
      ]
     },
     "execution_count": 52,
     "metadata": {},
     "output_type": "execute_result"
    }
   ],
   "source": [
    "%%sql\n",
    "\n",
    "DESCRIBE SolarX_Raw_Transactions.solar_panel"
   ]
  },
  {
   "cell_type": "code",
   "execution_count": 53,
   "id": "68c594b4-9066-4dc3-807d-c460a14edb95",
   "metadata": {},
   "outputs": [
    {
     "data": {
      "text/html": [
       "<table>\n",
       "    <thead>\n",
       "        <tr>\n",
       "            <th>col_name</th>\n",
       "            <th>data_type</th>\n",
       "            <th>comment</th>\n",
       "        </tr>\n",
       "    </thead>\n",
       "    <tbody>\n",
       "        <tr>\n",
       "            <td>timestamp</td>\n",
       "            <td>timestamp</td>\n",
       "            <td>None</td>\n",
       "        </tr>\n",
       "        <tr>\n",
       "            <td>15_minutes_interval</td>\n",
       "            <td>int</td>\n",
       "            <td>None</td>\n",
       "        </tr>\n",
       "        <tr>\n",
       "            <td>panel_id</td>\n",
       "            <td>int</td>\n",
       "            <td>None</td>\n",
       "        </tr>\n",
       "        <tr>\n",
       "            <td>generation_power_wh</td>\n",
       "            <td>float</td>\n",
       "            <td>None</td>\n",
       "        </tr>\n",
       "        <tr>\n",
       "            <td></td>\n",
       "            <td></td>\n",
       "            <td></td>\n",
       "        </tr>\n",
       "        <tr>\n",
       "            <td># Partitioning</td>\n",
       "            <td></td>\n",
       "            <td></td>\n",
       "        </tr>\n",
       "        <tr>\n",
       "            <td>Part 0</td>\n",
       "            <td>days(timestamp)</td>\n",
       "            <td></td>\n",
       "        </tr>\n",
       "        <tr>\n",
       "            <td>Part 1</td>\n",
       "            <td>panel_id</td>\n",
       "            <td></td>\n",
       "        </tr>\n",
       "        <tr>\n",
       "            <td>Part 2</td>\n",
       "            <td>15_minutes_interval</td>\n",
       "            <td></td>\n",
       "        </tr>\n",
       "    </tbody>\n",
       "</table>"
      ],
      "text/plain": [
       "+---------------------+---------------------+---------+\n",
       "|            col_name |           data_type | comment |\n",
       "+---------------------+---------------------+---------+\n",
       "|           timestamp |           timestamp |    None |\n",
       "| 15_minutes_interval |                 int |    None |\n",
       "|            panel_id |                 int |    None |\n",
       "| generation_power_wh |               float |    None |\n",
       "|                     |                     |         |\n",
       "|      # Partitioning |                     |         |\n",
       "|              Part 0 |     days(timestamp) |         |\n",
       "|              Part 1 |            panel_id |         |\n",
       "|              Part 2 | 15_minutes_interval |         |\n",
       "+---------------------+---------------------+---------+"
      ]
     },
     "execution_count": 53,
     "metadata": {},
     "output_type": "execute_result"
    }
   ],
   "source": [
    "%%sql\n",
    "\n",
    "DESCRIBE SolarX_Raw_Transactions.solar_panel_readings"
   ]
  },
  {
   "cell_type": "markdown",
   "id": "92612207-6ac8-4405-92a7-bf2d89c93237",
   "metadata": {},
   "source": [
    "### Solar panel dimension"
   ]
  },
  {
   "cell_type": "code",
   "execution_count": 16,
   "id": "eda23195-7007-4ab6-8481-b97b59337989",
   "metadata": {},
   "outputs": [
    {
     "data": {
      "text/html": [
       "<table>\n",
       "    <thead>\n",
       "        <tr>\n",
       "        </tr>\n",
       "    </thead>\n",
       "    <tbody>\n",
       "    </tbody>\n",
       "</table>"
      ],
      "text/plain": [
       "++\n",
       "||\n",
       "++\n",
       "++"
      ]
     },
     "execution_count": 16,
     "metadata": {},
     "output_type": "execute_result"
    }
   ],
   "source": [
    "%%sql\n",
    "\n",
    "DROP TABLE IF EXISTS SolarX_WH.dim_solar_panel PURGE"
   ]
  },
  {
   "cell_type": "code",
   "execution_count": 17,
   "id": "42a29790-07d7-4916-aacf-9d11cd0b1e68",
   "metadata": {},
   "outputs": [
    {
     "data": {
      "text/html": [
       "<table>\n",
       "    <thead>\n",
       "        <tr>\n",
       "        </tr>\n",
       "    </thead>\n",
       "    <tbody>\n",
       "    </tbody>\n",
       "</table>"
      ],
      "text/plain": [
       "++\n",
       "||\n",
       "++\n",
       "++"
      ]
     },
     "execution_count": 17,
     "metadata": {},
     "output_type": "execute_result"
    }
   ],
   "source": [
    "%%sql\n",
    "\n",
    "CREATE TABLE SolarX_WH.dim_solar_panel(\n",
    "    solar_panel_key                             INT         NOT NULL,\n",
    "    solar_panel_id                              SMALLINT    NOT NULL,\n",
    "    name                                        VARCHAR(20) NOT NULL,    \n",
    "    capacity_kwh                                FLOAT       NOT NULL,\n",
    "    intensity_power_rating_wh                   FLOAT       NOT NULL,\n",
    "    temperature_power_rating_c                  FLOAT       NOT NULL,\n",
    "\n",
    "    -- scd type2\n",
    "    start_date                                  TIMESTAMP   NOT NULL,\n",
    "    end_date                                    TIMESTAMP,\n",
    "\n",
    "    current_flag                                BOOLEAN\n",
    ")\n",
    "USING iceberg;"
   ]
  },
  {
   "cell_type": "markdown",
   "id": "7a6cc5e9-4e80-4854-abaf-605ff4ba5f7c",
   "metadata": {},
   "source": [
    "### Solar panel fact"
   ]
  },
  {
   "cell_type": "code",
   "execution_count": 29,
   "id": "844a6657-6bc7-4064-b983-5e2ef999af35",
   "metadata": {},
   "outputs": [
    {
     "data": {
      "text/html": [
       "<table>\n",
       "    <thead>\n",
       "        <tr>\n",
       "        </tr>\n",
       "    </thead>\n",
       "    <tbody>\n",
       "    </tbody>\n",
       "</table>"
      ],
      "text/plain": [
       "++\n",
       "||\n",
       "++\n",
       "++"
      ]
     },
     "execution_count": 29,
     "metadata": {},
     "output_type": "execute_result"
    }
   ],
   "source": [
    "%%sql\n",
    "\n",
    "DROP TABLE IF EXISTS SolarX_WH.fact_solar_panel_power_readings PURGE"
   ]
  },
  {
   "cell_type": "code",
   "execution_count": 30,
   "id": "9f04599c-8862-4f3e-aa7d-b0408fd716f7",
   "metadata": {},
   "outputs": [
    {
     "data": {
      "text/html": [
       "<table>\n",
       "    <thead>\n",
       "        <tr>\n",
       "        </tr>\n",
       "    </thead>\n",
       "    <tbody>\n",
       "    </tbody>\n",
       "</table>"
      ],
      "text/plain": [
       "++\n",
       "||\n",
       "++\n",
       "++"
      ]
     },
     "execution_count": 30,
     "metadata": {},
     "output_type": "execute_result"
    }
   ],
   "source": [
    "%%sql\n",
    "\n",
    "CREATE TABLE SolarX_WH.fact_solar_panel_power_readings(\n",
    "    solar_panel_key                 SMALLINT      NOT NULL,   -- REFERENCES dim_solar_panel(solar_panel_key)\n",
    "    date_key                        TIMESTAMP     NOT NULL,   -- REFERENCES dim_date(date_key)\n",
    "    \n",
    "    solar_panel_id                  INT           NOT NULL,\n",
    "    generation_power_wh             FLOAT         NOT NULL \n",
    ")\n",
    "\n",
    "USING iceberg\n",
    "PARTITIONED BY (MONTH(date_key), solar_panel_id)"
   ]
  },
  {
   "cell_type": "code",
   "execution_count": null,
   "id": "92eff34f-f038-465f-9799-95ce83f2bf97",
   "metadata": {},
   "outputs": [],
   "source": []
  },
  {
   "cell_type": "markdown",
   "id": "ada1fd52-95a7-465b-aad6-59675a73446a",
   "metadata": {},
   "source": [
    "## Battery readings dimension and fact tables"
   ]
  },
  {
   "cell_type": "code",
   "execution_count": 8,
   "id": "43d8c472-282e-4278-9d67-ba0450398aeb",
   "metadata": {},
   "outputs": [
    {
     "name": "stderr",
     "output_type": "stream",
     "text": [
      "25/02/14 20:09:39 WARN SparkSession: Using an existing Spark session; only runtime SQL configurations will take effect.\n"
     ]
    },
    {
     "data": {
      "text/html": [
       "<table>\n",
       "    <thead>\n",
       "        <tr>\n",
       "            <th>col_name</th>\n",
       "            <th>data_type</th>\n",
       "            <th>comment</th>\n",
       "        </tr>\n",
       "    </thead>\n",
       "    <tbody>\n",
       "        <tr>\n",
       "            <td>timestamp</td>\n",
       "            <td>timestamp</td>\n",
       "            <td>None</td>\n",
       "        </tr>\n",
       "        <tr>\n",
       "            <td>15_minutes_interval</td>\n",
       "            <td>int</td>\n",
       "            <td>None</td>\n",
       "        </tr>\n",
       "        <tr>\n",
       "            <td>battery_name</td>\n",
       "            <td>string</td>\n",
       "            <td>None</td>\n",
       "        </tr>\n",
       "        <tr>\n",
       "            <td>capacity_kwh</td>\n",
       "            <td>float</td>\n",
       "            <td>None</td>\n",
       "        </tr>\n",
       "        <tr>\n",
       "            <td>max_charge_speed_w</td>\n",
       "            <td>float</td>\n",
       "            <td>None</td>\n",
       "        </tr>\n",
       "        <tr>\n",
       "            <td>current_energy_wh</td>\n",
       "            <td>float</td>\n",
       "            <td>None</td>\n",
       "        </tr>\n",
       "        <tr>\n",
       "            <td>is_charging</td>\n",
       "            <td>float</td>\n",
       "            <td>None</td>\n",
       "        </tr>\n",
       "        <tr>\n",
       "            <td>status</td>\n",
       "            <td>string</td>\n",
       "            <td>None</td>\n",
       "        </tr>\n",
       "        <tr>\n",
       "            <td>max_output_w</td>\n",
       "            <td>float</td>\n",
       "            <td>None</td>\n",
       "        </tr>\n",
       "        <tr>\n",
       "            <td></td>\n",
       "            <td></td>\n",
       "            <td></td>\n",
       "        </tr>\n",
       "        <tr>\n",
       "            <td># Partitioning</td>\n",
       "            <td></td>\n",
       "            <td></td>\n",
       "        </tr>\n",
       "        <tr>\n",
       "            <td>Part 0</td>\n",
       "            <td>days(timestamp)</td>\n",
       "            <td></td>\n",
       "        </tr>\n",
       "        <tr>\n",
       "            <td>Part 1</td>\n",
       "            <td>battery_name</td>\n",
       "            <td></td>\n",
       "        </tr>\n",
       "        <tr>\n",
       "            <td>Part 2</td>\n",
       "            <td>15_minutes_interval</td>\n",
       "            <td></td>\n",
       "        </tr>\n",
       "    </tbody>\n",
       "</table>"
      ],
      "text/plain": [
       "+---------------------+---------------------+---------+\n",
       "|            col_name |           data_type | comment |\n",
       "+---------------------+---------------------+---------+\n",
       "|           timestamp |           timestamp |    None |\n",
       "| 15_minutes_interval |                 int |    None |\n",
       "|        battery_name |              string |    None |\n",
       "|        capacity_kwh |               float |    None |\n",
       "|  max_charge_speed_w |               float |    None |\n",
       "|   current_energy_wh |               float |    None |\n",
       "|         is_charging |               float |    None |\n",
       "|              status |              string |    None |\n",
       "|        max_output_w |               float |    None |\n",
       "|                     |                     |         |\n",
       "|      # Partitioning |                     |         |\n",
       "|              Part 0 |     days(timestamp) |         |\n",
       "|              Part 1 |        battery_name |         |\n",
       "|              Part 2 | 15_minutes_interval |         |\n",
       "+---------------------+---------------------+---------+"
      ]
     },
     "execution_count": 8,
     "metadata": {},
     "output_type": "execute_result"
    }
   ],
   "source": [
    "%%sql\n",
    "\n",
    "DESCRIBE SolarX_Raw_Transactions.battery_readings"
   ]
  },
  {
   "cell_type": "markdown",
   "id": "034e4209-b6a3-4c6c-a8d5-8f806ac65ce2",
   "metadata": {},
   "source": [
    "### Battery dimension"
   ]
  },
  {
   "cell_type": "code",
   "execution_count": 9,
   "id": "f80ff3f8-f4d3-4cee-b13e-e556108af0cf",
   "metadata": {},
   "outputs": [
    {
     "data": {
      "text/html": [
       "<table>\n",
       "    <thead>\n",
       "        <tr>\n",
       "        </tr>\n",
       "    </thead>\n",
       "    <tbody>\n",
       "    </tbody>\n",
       "</table>"
      ],
      "text/plain": [
       "++\n",
       "||\n",
       "++\n",
       "++"
      ]
     },
     "execution_count": 9,
     "metadata": {},
     "output_type": "execute_result"
    }
   ],
   "source": [
    "%%sql\n",
    "\n",
    "DROP TABLE IF EXISTS SolarX_WH.dim_battery PURGE"
   ]
  },
  {
   "cell_type": "code",
   "execution_count": 10,
   "id": "eebb0f46-b4c7-412e-9882-35722f325c68",
   "metadata": {},
   "outputs": [
    {
     "data": {
      "text/html": [
       "<table>\n",
       "    <thead>\n",
       "        <tr>\n",
       "        </tr>\n",
       "    </thead>\n",
       "    <tbody>\n",
       "    </tbody>\n",
       "</table>"
      ],
      "text/plain": [
       "++\n",
       "||\n",
       "++\n",
       "++"
      ]
     },
     "execution_count": 10,
     "metadata": {},
     "output_type": "execute_result"
    }
   ],
   "source": [
    "%%sql\n",
    "\n",
    "CREATE TABLE SolarX_WH.dim_battery(\n",
    "    battery_key                             INT         NOT NULL,\n",
    "    battery_id                              SMALLINT    NOT NULL,\n",
    "    name                                    VARCHAR(15) NOT NULL,    \n",
    "    capacity_kwh                            FLOAT       NOT NULL,\n",
    "    max_charge_speed_w                      FLOAT       NOT NULL,\n",
    "    max_output_w                            FLOAT       NOT NULL,\n",
    "\n",
    "    -- scd type2\n",
    "    start_date                              TIMESTAMP   NOT NULL,\n",
    "    end_date                                TIMESTAMP,\n",
    "\n",
    "    current_flag                            BOOLEAN\n",
    ")\n",
    "USING iceberg;"
   ]
  },
  {
   "cell_type": "markdown",
   "id": "bef6f5fc-eb49-47f2-9a34-36dd92b47c05",
   "metadata": {},
   "source": [
    "### Battery fact"
   ]
  },
  {
   "cell_type": "code",
   "execution_count": 11,
   "id": "438c92bb-71d3-49a0-befd-f58530b0cbb2",
   "metadata": {},
   "outputs": [
    {
     "data": {
      "text/html": [
       "<table>\n",
       "    <thead>\n",
       "        <tr>\n",
       "        </tr>\n",
       "    </thead>\n",
       "    <tbody>\n",
       "    </tbody>\n",
       "</table>"
      ],
      "text/plain": [
       "++\n",
       "||\n",
       "++\n",
       "++"
      ]
     },
     "execution_count": 11,
     "metadata": {},
     "output_type": "execute_result"
    }
   ],
   "source": [
    "%%sql\n",
    "\n",
    "DROP TABLE IF EXISTS SolarX_WH.fact_battery_power_readings PURGE"
   ]
  },
  {
   "cell_type": "code",
   "execution_count": 1,
   "id": "16c95983-bb5d-4b19-a323-e6d84543edcf",
   "metadata": {},
   "outputs": [
    {
     "name": "stderr",
     "output_type": "stream",
     "text": [
      "25/02/14 21:35:52 WARN SparkSession: Using an existing Spark session; only runtime SQL configurations will take effect.\n"
     ]
    },
    {
     "data": {
      "text/html": [
       "<table>\n",
       "    <thead>\n",
       "        <tr>\n",
       "        </tr>\n",
       "    </thead>\n",
       "    <tbody>\n",
       "    </tbody>\n",
       "</table>"
      ],
      "text/plain": [
       "++\n",
       "||\n",
       "++\n",
       "++"
      ]
     },
     "execution_count": 1,
     "metadata": {},
     "output_type": "execute_result"
    }
   ],
   "source": [
    "%%sql\n",
    "\n",
    "CREATE TABLE SolarX_WH.fact_battery_power_readings(\n",
    "    battery_key                     SMALLINT      NOT NULL,   -- REFERENCES dim_batteryl(solar_panel_key)\n",
    "    date_key                        TIMESTAMP     NOT NULL,   -- REFERENCES dim_date(date_key)\n",
    "    \n",
    "    battery_id                      SMALLINT      NOT NULL,\n",
    "    current_energy_wh               FLOAT         NOT NULL,\n",
    "    is_charging                     SMALLINT      NOT NULL,\n",
    "    status                          VARCHAR(15)   NOT NULL \n",
    ")\n",
    "\n",
    "USING iceberg\n",
    "PARTITIONED BY (MONTH(date_key), battery_id)"
   ]
  },
  {
   "cell_type": "code",
   "execution_count": null,
   "id": "38fdc02c-af2e-46ee-9584-29af721ed001",
   "metadata": {},
   "outputs": [],
   "source": []
  },
  {
   "cell_type": "markdown",
   "id": "e132a3b1-ed4c-4eff-8236-65137246786a",
   "metadata": {},
   "source": [
    "## Date dimension table"
   ]
  },
  {
   "cell_type": "code",
   "execution_count": 8,
   "id": "1ef40d29-7eea-4562-8526-25f247afd4b5",
   "metadata": {},
   "outputs": [
    {
     "data": {
      "text/html": [
       "<table>\n",
       "    <thead>\n",
       "        <tr>\n",
       "        </tr>\n",
       "    </thead>\n",
       "    <tbody>\n",
       "    </tbody>\n",
       "</table>"
      ],
      "text/plain": [
       "++\n",
       "||\n",
       "++\n",
       "++"
      ]
     },
     "execution_count": 8,
     "metadata": {},
     "output_type": "execute_result"
    }
   ],
   "source": [
    "%%sql\n",
    "\n",
    "DROP TABLE IF EXISTS SolarX_WH.dim_date PURGE"
   ]
  },
  {
   "cell_type": "code",
   "execution_count": 10,
   "id": "66f7277c-87b9-42a0-a49d-798e6bbe328d",
   "metadata": {},
   "outputs": [
    {
     "data": {
      "text/html": [
       "<table>\n",
       "    <thead>\n",
       "        <tr>\n",
       "        </tr>\n",
       "    </thead>\n",
       "    <tbody>\n",
       "    </tbody>\n",
       "</table>"
      ],
      "text/plain": [
       "++\n",
       "||\n",
       "++\n",
       "++"
      ]
     },
     "execution_count": 10,
     "metadata": {},
     "output_type": "execute_result"
    }
   ],
   "source": [
    "%%sql\n",
    "\n",
    "CREATE TABLE SolarX_WH.dim_date\n",
    "(\n",
    "    date_key            TIMESTAMP  NOT NULL,\n",
    "    year                SMALLINT   NOT NULL,\n",
    "    quarter             SMALLINT   NOT NULL,\n",
    "    month               SMALLINT   NOT NULL,\n",
    "    week                SMALLINT   NOT NULL,\n",
    "    day                 SMALLINT   NOT NULL,\n",
    "    hour                SMALLINT   NOT NULL,\n",
    "    minute              SMALLINT   NOT NULL,\n",
    "    is_weekend          BOOLEAN    NOT NULL\n",
    ")\n",
    "\n",
    "USING iceberg\n",
    "PARTITIONED BY (month, minute)"
   ]
  },
  {
   "cell_type": "code",
   "execution_count": 5,
   "id": "371e156c-77fa-469c-ab72-c544b815f14e",
   "metadata": {},
   "outputs": [],
   "source": [
    "spark.stop()"
   ]
  },
  {
   "cell_type": "code",
   "execution_count": null,
   "id": "98c7e803-976f-4347-951c-3e6b7f25b5fe",
   "metadata": {},
   "outputs": [],
   "source": []
  }
 ],
 "metadata": {
  "kernelspec": {
   "display_name": "Python 3 (ipykernel)",
   "language": "python",
   "name": "python3"
  },
  "language_info": {
   "codemirror_mode": {
    "name": "ipython",
    "version": 3
   },
   "file_extension": ".py",
   "mimetype": "text/x-python",
   "name": "python",
   "nbconvert_exporter": "python",
   "pygments_lexer": "ipython3",
   "version": "3.9.18"
  }
 },
 "nbformat": 4,
 "nbformat_minor": 5
}
