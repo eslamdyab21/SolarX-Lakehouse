{
 "cells": [
  {
   "cell_type": "code",
   "execution_count": 26,
   "id": "323b45ac-a272-4ddb-83d7-176a9b7a00b9",
   "metadata": {},
   "outputs": [],
   "source": [
    "from pyspark.sql import SparkSession"
   ]
  },
  {
   "cell_type": "code",
   "execution_count": 92,
   "id": "345e9ce5-765a-4f2f-839c-2016b345eaa0",
   "metadata": {},
   "outputs": [
    {
     "name": "stderr",
     "output_type": "stream",
     "text": [
      "25/01/03 01:51:35 WARN Utils: Service 'SparkUI' could not bind on port 4040. Attempting port 4041.\n"
     ]
    }
   ],
   "source": [
    "spark = (\n",
    "    SparkSession\n",
    "    .builder\n",
    "    .appName(\"wh-etl\")\n",
    "    .master(\"spark://b0f96e8e1cf0:7077\")\n",
    "    .config(\"spark.executor.cores\", 1)\n",
    "    .config(\"spark.cores.max\", 6)\n",
    "    .config(\"spark.executor.memory\", \"512M\")\n",
    "    .getOrCreate()\n",
    ")"
   ]
  },
  {
   "cell_type": "code",
   "execution_count": 93,
   "id": "3f68594d-1331-4a82-a91d-a17efd7243d0",
   "metadata": {},
   "outputs": [
    {
     "data": {
      "text/html": [
       "\n",
       "            <div>\n",
       "                <p><b>SparkSession - in-memory</b></p>\n",
       "                \n",
       "        <div>\n",
       "            <p><b>SparkContext</b></p>\n",
       "\n",
       "            <p><a href=\"http://b0f96e8e1cf0:4041\">Spark UI</a></p>\n",
       "\n",
       "            <dl>\n",
       "              <dt>Version</dt>\n",
       "                <dd><code>v3.5.1</code></dd>\n",
       "              <dt>Master</dt>\n",
       "                <dd><code>spark://b0f96e8e1cf0:7077</code></dd>\n",
       "              <dt>AppName</dt>\n",
       "                <dd><code>wh-etl</code></dd>\n",
       "            </dl>\n",
       "        </div>\n",
       "        \n",
       "            </div>\n",
       "        "
      ],
      "text/plain": [
       "<pyspark.sql.session.SparkSession at 0x7fd27890a970>"
      ]
     },
     "execution_count": 93,
     "metadata": {},
     "output_type": "execute_result"
    }
   ],
   "source": [
    "spark"
   ]
  },
  {
   "cell_type": "code",
   "execution_count": 5,
   "id": "37f00c57-b5d8-4424-b5dd-26c4e025120c",
   "metadata": {},
   "outputs": [
    {
     "name": "stderr",
     "output_type": "stream",
     "text": [
      "25/01/02 22:03:35 WARN SparkSession: Using an existing Spark session; only runtime SQL configurations will take effect.\n"
     ]
    },
    {
     "data": {
      "text/html": [
       "<table>\n",
       "    <thead>\n",
       "        <tr>\n",
       "            <th>namespace</th>\n",
       "            <th>tableName</th>\n",
       "            <th>isTemporary</th>\n",
       "        </tr>\n",
       "    </thead>\n",
       "    <tbody>\n",
       "        <tr>\n",
       "            <td>SolarX_Raw_Transactions</td>\n",
       "            <td>home_power_readings</td>\n",
       "            <td>False</td>\n",
       "        </tr>\n",
       "        <tr>\n",
       "            <td>SolarX_Raw_Transactions</td>\n",
       "            <td>solar_panel</td>\n",
       "            <td>False</td>\n",
       "        </tr>\n",
       "        <tr>\n",
       "            <td>SolarX_Raw_Transactions</td>\n",
       "            <td>solar_panel_readings</td>\n",
       "            <td>False</td>\n",
       "        </tr>\n",
       "    </tbody>\n",
       "</table>"
      ],
      "text/plain": [
       "+-------------------------+----------------------+-------------+\n",
       "|               namespace |            tableName | isTemporary |\n",
       "+-------------------------+----------------------+-------------+\n",
       "| SolarX_Raw_Transactions |  home_power_readings |       False |\n",
       "| SolarX_Raw_Transactions |          solar_panel |       False |\n",
       "| SolarX_Raw_Transactions | solar_panel_readings |       False |\n",
       "+-------------------------+----------------------+-------------+"
      ]
     },
     "execution_count": 5,
     "metadata": {},
     "output_type": "execute_result"
    }
   ],
   "source": [
    "%%sql\n",
    "\n",
    "SHOW TABLES IN demo.SolarX_Raw_Transactions"
   ]
  },
  {
   "cell_type": "code",
   "execution_count": 50,
   "id": "4cd4cd6e-fb8f-4119-8407-0d06390e69f7",
   "metadata": {},
   "outputs": [
    {
     "name": "stderr",
     "output_type": "stream",
     "text": [
      "25/01/03 00:25:17 WARN SparkSession: Using an existing Spark session; only runtime SQL configurations will take effect.\n"
     ]
    },
    {
     "data": {
      "text/html": [
       "<table>\n",
       "    <thead>\n",
       "        <tr>\n",
       "            <th>namespace</th>\n",
       "            <th>tableName</th>\n",
       "            <th>isTemporary</th>\n",
       "        </tr>\n",
       "    </thead>\n",
       "    <tbody>\n",
       "        <tr>\n",
       "            <td>SolarX_WH</td>\n",
       "            <td>dim_date</td>\n",
       "            <td>False</td>\n",
       "        </tr>\n",
       "        <tr>\n",
       "            <td>SolarX_WH</td>\n",
       "            <td>dim_home</td>\n",
       "            <td>False</td>\n",
       "        </tr>\n",
       "        <tr>\n",
       "            <td>SolarX_WH</td>\n",
       "            <td>dim_home_appliances</td>\n",
       "            <td>False</td>\n",
       "        </tr>\n",
       "        <tr>\n",
       "            <td>SolarX_WH</td>\n",
       "            <td>dim_solar_panel</td>\n",
       "            <td>False</td>\n",
       "        </tr>\n",
       "        <tr>\n",
       "            <td>SolarX_WH</td>\n",
       "            <td>fact_home_power_readings</td>\n",
       "            <td>False</td>\n",
       "        </tr>\n",
       "        <tr>\n",
       "            <td>SolarX_WH</td>\n",
       "            <td>fact_solar_panel_power_readings</td>\n",
       "            <td>False</td>\n",
       "        </tr>\n",
       "    </tbody>\n",
       "</table>"
      ],
      "text/plain": [
       "+-----------+---------------------------------+-------------+\n",
       "| namespace |                       tableName | isTemporary |\n",
       "+-----------+---------------------------------+-------------+\n",
       "| SolarX_WH |                        dim_date |       False |\n",
       "| SolarX_WH |                        dim_home |       False |\n",
       "| SolarX_WH |             dim_home_appliances |       False |\n",
       "| SolarX_WH |                 dim_solar_panel |       False |\n",
       "| SolarX_WH |        fact_home_power_readings |       False |\n",
       "| SolarX_WH | fact_solar_panel_power_readings |       False |\n",
       "+-----------+---------------------------------+-------------+"
      ]
     },
     "execution_count": 50,
     "metadata": {},
     "output_type": "execute_result"
    }
   ],
   "source": [
    "%%sql\n",
    "\n",
    "SHOW TABLES IN demo.SolarX_WH"
   ]
  },
  {
   "cell_type": "markdown",
   "id": "c792dce5-22e0-4d33-a246-033789a769ec",
   "metadata": {},
   "source": [
    "# Date dimension"
   ]
  },
  {
   "cell_type": "code",
   "execution_count": 7,
   "id": "cfd3a087-81dd-4765-8094-002684a7eb09",
   "metadata": {},
   "outputs": [
    {
     "data": {
      "text/html": [
       "<table>\n",
       "    <thead>\n",
       "        <tr>\n",
       "            <th>col_name</th>\n",
       "            <th>data_type</th>\n",
       "            <th>comment</th>\n",
       "        </tr>\n",
       "    </thead>\n",
       "    <tbody>\n",
       "        <tr>\n",
       "            <td>date_key</td>\n",
       "            <td>timestamp</td>\n",
       "            <td>None</td>\n",
       "        </tr>\n",
       "        <tr>\n",
       "            <td>year</td>\n",
       "            <td>int</td>\n",
       "            <td>None</td>\n",
       "        </tr>\n",
       "        <tr>\n",
       "            <td>quarter</td>\n",
       "            <td>int</td>\n",
       "            <td>None</td>\n",
       "        </tr>\n",
       "        <tr>\n",
       "            <td>month</td>\n",
       "            <td>int</td>\n",
       "            <td>None</td>\n",
       "        </tr>\n",
       "        <tr>\n",
       "            <td>week</td>\n",
       "            <td>int</td>\n",
       "            <td>None</td>\n",
       "        </tr>\n",
       "        <tr>\n",
       "            <td>day</td>\n",
       "            <td>int</td>\n",
       "            <td>None</td>\n",
       "        </tr>\n",
       "        <tr>\n",
       "            <td>hour</td>\n",
       "            <td>int</td>\n",
       "            <td>None</td>\n",
       "        </tr>\n",
       "        <tr>\n",
       "            <td>minute</td>\n",
       "            <td>int</td>\n",
       "            <td>None</td>\n",
       "        </tr>\n",
       "        <tr>\n",
       "            <td>is_weekend</td>\n",
       "            <td>boolean</td>\n",
       "            <td>None</td>\n",
       "        </tr>\n",
       "        <tr>\n",
       "            <td># Partition Information</td>\n",
       "            <td></td>\n",
       "            <td></td>\n",
       "        </tr>\n",
       "        <tr>\n",
       "            <td># col_name</td>\n",
       "            <td>data_type</td>\n",
       "            <td>comment</td>\n",
       "        </tr>\n",
       "        <tr>\n",
       "            <td>month</td>\n",
       "            <td>int</td>\n",
       "            <td>None</td>\n",
       "        </tr>\n",
       "        <tr>\n",
       "            <td>minute</td>\n",
       "            <td>int</td>\n",
       "            <td>None</td>\n",
       "        </tr>\n",
       "    </tbody>\n",
       "</table>"
      ],
      "text/plain": [
       "+-------------------------+-----------+---------+\n",
       "|                col_name | data_type | comment |\n",
       "+-------------------------+-----------+---------+\n",
       "|                date_key | timestamp |    None |\n",
       "|                    year |       int |    None |\n",
       "|                 quarter |       int |    None |\n",
       "|                   month |       int |    None |\n",
       "|                    week |       int |    None |\n",
       "|                     day |       int |    None |\n",
       "|                    hour |       int |    None |\n",
       "|                  minute |       int |    None |\n",
       "|              is_weekend |   boolean |    None |\n",
       "| # Partition Information |           |         |\n",
       "|              # col_name | data_type | comment |\n",
       "|                   month |       int |    None |\n",
       "|                  minute |       int |    None |\n",
       "+-------------------------+-----------+---------+"
      ]
     },
     "execution_count": 7,
     "metadata": {},
     "output_type": "execute_result"
    }
   ],
   "source": [
    "%%sql\n",
    "\n",
    "DESCRIBE SolarX_WH.dim_date"
   ]
  },
  {
   "cell_type": "code",
   "execution_count": 8,
   "id": "bd0b47df-98db-46e1-8c87-18f62d3ff23a",
   "metadata": {},
   "outputs": [],
   "source": [
    "import datetime\n",
    "\n",
    "def generate_15min_intervals(start_time, end_time):\n",
    "    current_time = start_time\n",
    "    timestamps = []\n",
    "    while current_time <= end_time:\n",
    "        timestamps.append((current_time,))\n",
    "        current_time += datetime.timedelta(minutes=15)\n",
    "    return timestamps\n",
    "\n",
    "# start date\n",
    "start_time = datetime.datetime(2013, 1, 1, 0, 0, 0)\n",
    "\n",
    "# future end date\n",
    "end_time = datetime.datetime.now() + datetime.timedelta(days=365 * 1)\n",
    "\n",
    "# generate a list of 15-minute intervals\n",
    "timestamp_list = generate_15min_intervals(start_time, end_time)"
   ]
  },
  {
   "cell_type": "code",
   "execution_count": 9,
   "id": "9757872b-558a-4ee5-84ff-147e5a5d3651",
   "metadata": {},
   "outputs": [
    {
     "data": {
      "text/plain": [
       "[(datetime.datetime(2013, 1, 1, 0, 0),),\n",
       " (datetime.datetime(2013, 1, 1, 0, 15),),\n",
       " (datetime.datetime(2013, 1, 1, 0, 30),),\n",
       " (datetime.datetime(2013, 1, 1, 0, 45),),\n",
       " (datetime.datetime(2013, 1, 1, 1, 0),)]"
      ]
     },
     "execution_count": 9,
     "metadata": {},
     "output_type": "execute_result"
    }
   ],
   "source": [
    "timestamp_list[0:5]"
   ]
  },
  {
   "cell_type": "code",
   "execution_count": 10,
   "id": "f992b0bb-418b-491f-8684-081c0d7b86ea",
   "metadata": {},
   "outputs": [],
   "source": [
    "# load this list into a df\n",
    "from pyspark.sql import functions as F\n",
    "timestamp_df = spark.createDataFrame(timestamp_list, schema=\"timestamp timestamp\")\\\n",
    "                    .withColumn(\"15_minutes_interval\", F.floor((F.hour(F.col(\"timestamp\"))*60 + F.minute(F.col(\"timestamp\")) - 60) / 15))"
   ]
  },
  {
   "cell_type": "code",
   "execution_count": 11,
   "id": "3930d592-fe2b-4c42-a4d2-e24c7112899c",
   "metadata": {},
   "outputs": [
    {
     "name": "stderr",
     "output_type": "stream",
     "text": [
      "[Stage 0:>                                                          (0 + 1) / 1]\r"
     ]
    },
    {
     "name": "stdout",
     "output_type": "stream",
     "text": [
      "+-------------------+-------------------+\n",
      "|          timestamp|15_minutes_interval|\n",
      "+-------------------+-------------------+\n",
      "|2013-01-01 00:00:00|                 -4|\n",
      "|2013-01-01 00:15:00|                 -3|\n",
      "|2013-01-01 00:30:00|                 -2|\n",
      "|2013-01-01 00:45:00|                 -1|\n",
      "|2013-01-01 01:00:00|                  0|\n",
      "|2013-01-01 01:15:00|                  1|\n",
      "|2013-01-01 01:30:00|                  2|\n",
      "|2013-01-01 01:45:00|                  3|\n",
      "|2013-01-01 02:00:00|                  4|\n",
      "|2013-01-01 02:15:00|                  5|\n",
      "|2013-01-01 02:30:00|                  6|\n",
      "|2013-01-01 02:45:00|                  7|\n",
      "|2013-01-01 03:00:00|                  8|\n",
      "|2013-01-01 03:15:00|                  9|\n",
      "|2013-01-01 03:30:00|                 10|\n",
      "|2013-01-01 03:45:00|                 11|\n",
      "|2013-01-01 04:00:00|                 12|\n",
      "|2013-01-01 04:15:00|                 13|\n",
      "|2013-01-01 04:30:00|                 14|\n",
      "|2013-01-01 04:45:00|                 15|\n",
      "+-------------------+-------------------+\n",
      "only showing top 20 rows\n",
      "\n"
     ]
    },
    {
     "name": "stderr",
     "output_type": "stream",
     "text": [
      "                                                                                \r"
     ]
    }
   ],
   "source": [
    "timestamp_df.show()"
   ]
  },
  {
   "cell_type": "code",
   "execution_count": 13,
   "id": "163642fb-87b7-4977-be61-6b90eb7e8110",
   "metadata": {},
   "outputs": [],
   "source": [
    "timestamp_df.createOrReplaceTempView(\"temp_view\")"
   ]
  },
  {
   "cell_type": "code",
   "execution_count": 15,
   "id": "ea372983-de4c-45b8-85f4-e222f365df3b",
   "metadata": {},
   "outputs": [
    {
     "name": "stderr",
     "output_type": "stream",
     "text": [
      "                                                                                \r"
     ]
    },
    {
     "data": {
      "text/html": [
       "<table>\n",
       "    <thead>\n",
       "        <tr>\n",
       "        </tr>\n",
       "    </thead>\n",
       "    <tbody>\n",
       "    </tbody>\n",
       "</table>"
      ],
      "text/plain": [
       "++\n",
       "||\n",
       "++\n",
       "++"
      ]
     },
     "execution_count": 15,
     "metadata": {},
     "output_type": "execute_result"
    }
   ],
   "source": [
    "%%sql\n",
    "    \n",
    "INSERT INTO SolarX_WH.dim_date (date_key, year, quarter, month, week, day, hour, minute, is_weekend)\n",
    "SELECT timestamp                      as date_key,\n",
    "       YEAR(timestamp)                as year,\n",
    "       QUARTER(timestamp)             as quarter,\n",
    "       MONTH(timestamp)               as month,\n",
    "       EXTRACT(WEEK FROM timestamp)   as week,\n",
    "       DAY(timestamp)                 as day,\n",
    "       HOUR(timestamp)                as hour,\n",
    "       15_minutes_interval            as minute,\n",
    "       CASE \n",
    "               WHEN WEEKDAY(timestamp) in (6,7) then true \n",
    "               ELSE FALSE\n",
    "       END\n",
    "       \n",
    "FROM temp_view"
   ]
  },
  {
   "cell_type": "code",
   "execution_count": 19,
   "id": "542435f3-6506-4bb7-aa6b-7ecc3cee3fd0",
   "metadata": {},
   "outputs": [
    {
     "data": {
      "text/html": [
       "<table>\n",
       "    <thead>\n",
       "        <tr>\n",
       "            <th>date_key</th>\n",
       "            <th>year</th>\n",
       "            <th>quarter</th>\n",
       "            <th>month</th>\n",
       "            <th>week</th>\n",
       "            <th>day</th>\n",
       "            <th>hour</th>\n",
       "            <th>minute</th>\n",
       "            <th>is_weekend</th>\n",
       "        </tr>\n",
       "    </thead>\n",
       "    <tbody>\n",
       "        <tr>\n",
       "            <td>2013-04-01 02:45:00</td>\n",
       "            <td>2013</td>\n",
       "            <td>2</td>\n",
       "            <td>4</td>\n",
       "            <td>14</td>\n",
       "            <td>1</td>\n",
       "            <td>2</td>\n",
       "            <td>7</td>\n",
       "            <td>False</td>\n",
       "        </tr>\n",
       "        <tr>\n",
       "            <td>2013-10-01 05:30:00</td>\n",
       "            <td>2013</td>\n",
       "            <td>4</td>\n",
       "            <td>10</td>\n",
       "            <td>40</td>\n",
       "            <td>1</td>\n",
       "            <td>5</td>\n",
       "            <td>18</td>\n",
       "            <td>False</td>\n",
       "        </tr>\n",
       "        <tr>\n",
       "            <td>2013-10-01 04:45:00</td>\n",
       "            <td>2013</td>\n",
       "            <td>4</td>\n",
       "            <td>10</td>\n",
       "            <td>40</td>\n",
       "            <td>1</td>\n",
       "            <td>4</td>\n",
       "            <td>15</td>\n",
       "            <td>False</td>\n",
       "        </tr>\n",
       "        <tr>\n",
       "            <td>2013-10-01 04:15:00</td>\n",
       "            <td>2013</td>\n",
       "            <td>4</td>\n",
       "            <td>10</td>\n",
       "            <td>40</td>\n",
       "            <td>1</td>\n",
       "            <td>4</td>\n",
       "            <td>13</td>\n",
       "            <td>False</td>\n",
       "        </tr>\n",
       "        <tr>\n",
       "            <td>2013-03-01 11:45:00</td>\n",
       "            <td>2013</td>\n",
       "            <td>1</td>\n",
       "            <td>3</td>\n",
       "            <td>9</td>\n",
       "            <td>1</td>\n",
       "            <td>11</td>\n",
       "            <td>43</td>\n",
       "            <td>False</td>\n",
       "        </tr>\n",
       "        <tr>\n",
       "            <td>2013-03-01 15:15:00</td>\n",
       "            <td>2013</td>\n",
       "            <td>1</td>\n",
       "            <td>3</td>\n",
       "            <td>9</td>\n",
       "            <td>1</td>\n",
       "            <td>15</td>\n",
       "            <td>57</td>\n",
       "            <td>False</td>\n",
       "        </tr>\n",
       "        <tr>\n",
       "            <td>2013-09-01 17:45:00</td>\n",
       "            <td>2013</td>\n",
       "            <td>3</td>\n",
       "            <td>9</td>\n",
       "            <td>35</td>\n",
       "            <td>1</td>\n",
       "            <td>17</td>\n",
       "            <td>67</td>\n",
       "            <td>True</td>\n",
       "        </tr>\n",
       "        <tr>\n",
       "            <td>2013-03-01 14:30:00</td>\n",
       "            <td>2013</td>\n",
       "            <td>1</td>\n",
       "            <td>3</td>\n",
       "            <td>9</td>\n",
       "            <td>1</td>\n",
       "            <td>14</td>\n",
       "            <td>54</td>\n",
       "            <td>False</td>\n",
       "        </tr>\n",
       "        <tr>\n",
       "            <td>2013-10-01 07:00:00</td>\n",
       "            <td>2013</td>\n",
       "            <td>4</td>\n",
       "            <td>10</td>\n",
       "            <td>40</td>\n",
       "            <td>1</td>\n",
       "            <td>7</td>\n",
       "            <td>24</td>\n",
       "            <td>False</td>\n",
       "        </tr>\n",
       "        <tr>\n",
       "            <td>2013-03-01 14:15:00</td>\n",
       "            <td>2013</td>\n",
       "            <td>1</td>\n",
       "            <td>3</td>\n",
       "            <td>9</td>\n",
       "            <td>1</td>\n",
       "            <td>14</td>\n",
       "            <td>53</td>\n",
       "            <td>False</td>\n",
       "        </tr>\n",
       "    </tbody>\n",
       "</table>"
      ],
      "text/plain": [
       "+---------------------+------+---------+-------+------+-----+------+--------+------------+\n",
       "|            date_key | year | quarter | month | week | day | hour | minute | is_weekend |\n",
       "+---------------------+------+---------+-------+------+-----+------+--------+------------+\n",
       "| 2013-04-01 02:45:00 | 2013 |       2 |     4 |   14 |   1 |    2 |      7 |      False |\n",
       "| 2013-10-01 05:30:00 | 2013 |       4 |    10 |   40 |   1 |    5 |     18 |      False |\n",
       "| 2013-10-01 04:45:00 | 2013 |       4 |    10 |   40 |   1 |    4 |     15 |      False |\n",
       "| 2013-10-01 04:15:00 | 2013 |       4 |    10 |   40 |   1 |    4 |     13 |      False |\n",
       "| 2013-03-01 11:45:00 | 2013 |       1 |     3 |    9 |   1 |   11 |     43 |      False |\n",
       "| 2013-03-01 15:15:00 | 2013 |       1 |     3 |    9 |   1 |   15 |     57 |      False |\n",
       "| 2013-09-01 17:45:00 | 2013 |       3 |     9 |   35 |   1 |   17 |     67 |       True |\n",
       "| 2013-03-01 14:30:00 | 2013 |       1 |     3 |    9 |   1 |   14 |     54 |      False |\n",
       "| 2013-10-01 07:00:00 | 2013 |       4 |    10 |   40 |   1 |    7 |     24 |      False |\n",
       "| 2013-03-01 14:15:00 | 2013 |       1 |     3 |    9 |   1 |   14 |     53 |      False |\n",
       "+---------------------+------+---------+-------+------+-----+------+--------+------------+"
      ]
     },
     "execution_count": 19,
     "metadata": {},
     "output_type": "execute_result"
    }
   ],
   "source": [
    "%%sql\n",
    "\n",
    "SELECT * FROM SolarX_WH.dim_date \n",
    "WHERE day = 1 AND year = 2013\n",
    "LIMIT 10"
   ]
  },
  {
   "cell_type": "code",
   "execution_count": 23,
   "id": "e4b2a82d-b9d1-487c-ab7d-a60583f73d6a",
   "metadata": {},
   "outputs": [
    {
     "name": "stderr",
     "output_type": "stream",
     "text": [
      "                                                                                \r"
     ]
    },
    {
     "data": {
      "text/html": [
       "<table>\n",
       "    <thead>\n",
       "        <tr>\n",
       "            <th>year</th>\n",
       "        </tr>\n",
       "    </thead>\n",
       "    <tbody>\n",
       "        <tr>\n",
       "            <td>2025</td>\n",
       "        </tr>\n",
       "        <tr>\n",
       "            <td>2018</td>\n",
       "        </tr>\n",
       "        <tr>\n",
       "            <td>2015</td>\n",
       "        </tr>\n",
       "        <tr>\n",
       "            <td>2023</td>\n",
       "        </tr>\n",
       "        <tr>\n",
       "            <td>2022</td>\n",
       "        </tr>\n",
       "        <tr>\n",
       "            <td>2013</td>\n",
       "        </tr>\n",
       "        <tr>\n",
       "            <td>2014</td>\n",
       "        </tr>\n",
       "        <tr>\n",
       "            <td>2019</td>\n",
       "        </tr>\n",
       "        <tr>\n",
       "            <td>2020</td>\n",
       "        </tr>\n",
       "        <tr>\n",
       "            <td>2016</td>\n",
       "        </tr>\n",
       "        <tr>\n",
       "            <td>2024</td>\n",
       "        </tr>\n",
       "        <tr>\n",
       "            <td>2017</td>\n",
       "        </tr>\n",
       "        <tr>\n",
       "            <td>2021</td>\n",
       "        </tr>\n",
       "        <tr>\n",
       "            <td>2026</td>\n",
       "        </tr>\n",
       "    </tbody>\n",
       "</table>"
      ],
      "text/plain": [
       "+------+\n",
       "| year |\n",
       "+------+\n",
       "| 2025 |\n",
       "| 2018 |\n",
       "| 2015 |\n",
       "| 2023 |\n",
       "| 2022 |\n",
       "| 2013 |\n",
       "| 2014 |\n",
       "| 2019 |\n",
       "| 2020 |\n",
       "| 2016 |\n",
       "| 2024 |\n",
       "| 2017 |\n",
       "| 2021 |\n",
       "| 2026 |\n",
       "+------+"
      ]
     },
     "execution_count": 23,
     "metadata": {},
     "output_type": "execute_result"
    }
   ],
   "source": [
    "%%sql\n",
    "\n",
    "SELECT DISTINCT(year) FROM SolarX_WH.dim_date "
   ]
  },
  {
   "cell_type": "code",
   "execution_count": 24,
   "id": "e8a1dfe1-c624-43c1-a12b-31c34368ac2b",
   "metadata": {},
   "outputs": [
    {
     "data": {
      "text/html": [
       "<table>\n",
       "    <thead>\n",
       "        <tr>\n",
       "            <th>count(year)</th>\n",
       "        </tr>\n",
       "    </thead>\n",
       "    <tbody>\n",
       "        <tr>\n",
       "            <td>455993</td>\n",
       "        </tr>\n",
       "    </tbody>\n",
       "</table>"
      ],
      "text/plain": [
       "+-------------+\n",
       "| count(year) |\n",
       "+-------------+\n",
       "|      455993 |\n",
       "+-------------+"
      ]
     },
     "execution_count": 24,
     "metadata": {},
     "output_type": "execute_result"
    }
   ],
   "source": [
    "%%sql\n",
    "\n",
    "SELECT COUNT(year) FROM SolarX_WH.dim_date "
   ]
  },
  {
   "cell_type": "code",
   "execution_count": null,
   "id": "b7b411fa-517d-4eb6-bf28-de1f06cc12d0",
   "metadata": {},
   "outputs": [],
   "source": []
  },
  {
   "cell_type": "markdown",
   "id": "28fe7726-34c5-4386-81f2-e5f727928e77",
   "metadata": {},
   "source": [
    "# Home appliances dimension"
   ]
  },
  {
   "cell_type": "code",
   "execution_count": null,
   "id": "8a61282f-fe52-41d1-be9e-3c006c0de147",
   "metadata": {},
   "outputs": [],
   "source": [
    "%%sql\n",
    "\n",
    "DROP TABLE IF EXISTS SolarX_WH.dim_home_appliances PURGE"
   ]
  },
  {
   "cell_type": "code",
   "execution_count": null,
   "id": "ee7b866b-eddb-4e82-b7dd-1742de35194b",
   "metadata": {},
   "outputs": [],
   "source": []
  },
  {
   "cell_type": "code",
   "execution_count": 55,
   "id": "ce1c3887-6ad5-407a-940e-4edbe2b531da",
   "metadata": {},
   "outputs": [
    {
     "data": {
      "text/html": [
       "<table>\n",
       "    <thead>\n",
       "        <tr>\n",
       "            <th>col_name</th>\n",
       "            <th>data_type</th>\n",
       "            <th>comment</th>\n",
       "        </tr>\n",
       "    </thead>\n",
       "    <tbody>\n",
       "        <tr>\n",
       "            <td>home_appliance_key</td>\n",
       "            <td>int</td>\n",
       "            <td>None</td>\n",
       "        </tr>\n",
       "        <tr>\n",
       "            <td>home_key</td>\n",
       "            <td>int</td>\n",
       "            <td>None</td>\n",
       "        </tr>\n",
       "        <tr>\n",
       "            <td>appliance</td>\n",
       "            <td>string</td>\n",
       "            <td>None</td>\n",
       "        </tr>\n",
       "        <tr>\n",
       "            <td>min_consumption_power_wh</td>\n",
       "            <td>float</td>\n",
       "            <td>None</td>\n",
       "        </tr>\n",
       "        <tr>\n",
       "            <td>max_consumption_power_wh</td>\n",
       "            <td>float</td>\n",
       "            <td>None</td>\n",
       "        </tr>\n",
       "        <tr>\n",
       "            <td>usage_time</td>\n",
       "            <td>string</td>\n",
       "            <td>None</td>\n",
       "        </tr>\n",
       "    </tbody>\n",
       "</table>"
      ],
      "text/plain": [
       "+--------------------------+-----------+---------+\n",
       "|                 col_name | data_type | comment |\n",
       "+--------------------------+-----------+---------+\n",
       "|       home_appliance_key |       int |    None |\n",
       "|                 home_key |       int |    None |\n",
       "|                appliance |    string |    None |\n",
       "| min_consumption_power_wh |     float |    None |\n",
       "| max_consumption_power_wh |     float |    None |\n",
       "|               usage_time |    string |    None |\n",
       "+--------------------------+-----------+---------+"
      ]
     },
     "execution_count": 55,
     "metadata": {},
     "output_type": "execute_result"
    }
   ],
   "source": [
    "%%sql\n",
    "\n",
    "DESCRIBE SolarX_WH.dim_home_appliances"
   ]
  },
  {
   "cell_type": "code",
   "execution_count": 144,
   "id": "20611375-bda5-4272-a249-ef3a0d7b14af",
   "metadata": {},
   "outputs": [],
   "source": [
    "import json\n",
    "import pandas as pd\n",
    "\n",
    "def get_home_appliances_df():\n",
    "    with open('/home/iceberg/warehouse/home_appliances_consumption.json') as f:\n",
    "        HOME_USAGE_POWER = json.load(f)\n",
    "        HOME_USAGE_POWER.items()\n",
    "        \n",
    "        df = pd.DataFrame([\n",
    "                {\n",
    "                    \"home_key\" : 1,\n",
    "                    \"name\": name,\n",
    "                    \"min_consumption_rating\": info[\"consumption\"][0],\n",
    "                    \"max_consumption_rating\": info[\"consumption\"][1],\n",
    "                    \"usage_time\": info[\"time\"]\n",
    "                }\n",
    "                for name, info in HOME_USAGE_POWER.items()\n",
    "            ])\n",
    "        df.loc[len(df)] = [1, \"app\", 452, 895, \"545454\"]\n",
    "        df.index += 1 \n",
    "        df.index.name = 'home_appliance_key'\n",
    "    return df.reset_index()"
   ]
  },
  {
   "cell_type": "code",
   "execution_count": 145,
   "id": "08e232ed-cdb5-44a3-94b7-5ddbdc7cb3bc",
   "metadata": {},
   "outputs": [],
   "source": [
    "home_appliances_df = spark.createDataFrame(get_home_appliances_df())"
   ]
  },
  {
   "cell_type": "code",
   "execution_count": 146,
   "id": "a64c341c-ce80-4ba1-9ec8-b5232d69607f",
   "metadata": {
    "scrolled": true
   },
   "outputs": [
    {
     "name": "stdout",
     "output_type": "stream",
     "text": [
      "+------------------+--------+--------------------+----------------------+----------------------+--------------------+\n",
      "|home_appliance_key|home_key|                name|min_consumption_rating|max_consumption_rating|          usage_time|\n",
      "+------------------+--------+--------------------+----------------------+----------------------+--------------------+\n",
      "|                 1|       1|        Refrigerator|                   300|                  1500|         00:00-24:00|\n",
      "|                 2|       1|       Electric Oven|                  2000|                  5000|16:00-16:30,21:00...|\n",
      "|                 3|       1|     Electric Kettle|                  1500|                  1500|07:00-07:15,12:00...|\n",
      "|                 4|       1|     Air Conditioner|                   500|                  3000|         00:00-24:00|\n",
      "|                 5|       1|Incandescent Ligh...|                    60|                    60|         00:00-24:00|\n",
      "|                 6|       1|     LED Light Bulbs|                    10|                    10|         00:00-24:00|\n",
      "|                 7|       1|              Laptop|                    50|                   100|         00:00-24:00|\n",
      "|                 8|       1|            Computer|                   100|                   600|         00:00-24:00|\n",
      "|                 9|       1|         LCD Monitor|                    50|                   300|10:00-12:00,16:00...|\n",
      "|                10|       1|              Router|                     5|                    20|         00:00-24:00|\n",
      "|                11|       1|  Smartphone Charger|                     5|                     5|         00:00-24:00|\n",
      "|                12|       1|          Blow Dryer|                   800|                  1800|07:00-07:30,15:00...|\n",
      "|                13|       1|                Iron|                  1000|                  1000|07:00-07:30,15:00...|\n",
      "|                14|       1|     Washing Machine|                   500|                  1000|         17:00-19:00|\n",
      "|                15|       1|        Water Heater|                  1000|                  4000|         12:00-16:00|\n",
      "|                16|       1|                 app|                   452|                   895|              545454|\n",
      "+------------------+--------+--------------------+----------------------+----------------------+--------------------+\n",
      "\n"
     ]
    }
   ],
   "source": [
    "home_appliances_df.show()"
   ]
  },
  {
   "cell_type": "code",
   "execution_count": 148,
   "id": "5da6d34d-f764-487c-a7f2-aaaf07db4fc1",
   "metadata": {},
   "outputs": [],
   "source": [
    "home_appliances_df.createOrReplaceTempView(\"temp_view_2\")"
   ]
  },
  {
   "cell_type": "code",
   "execution_count": 149,
   "id": "41c3f127-a151-4c7b-8e3c-6e233ef2a197",
   "metadata": {},
   "outputs": [
    {
     "data": {
      "text/html": [
       "<table>\n",
       "    <thead>\n",
       "        <tr>\n",
       "        </tr>\n",
       "    </thead>\n",
       "    <tbody>\n",
       "    </tbody>\n",
       "</table>"
      ],
      "text/plain": [
       "++\n",
       "||\n",
       "++\n",
       "++"
      ]
     },
     "execution_count": 149,
     "metadata": {},
     "output_type": "execute_result"
    }
   ],
   "source": [
    "%%sql\n",
    "\n",
    "MERGE INTO SolarX_WH.dim_home_appliances dim_app\n",
    "USING \n",
    "    (SELECT    home_appliance_key        as home_appliance_key, \n",
    "               home_key                  as home_key,\n",
    "               name                      as appliance,\n",
    "               min_consumption_rating    as min_consumption_power_wh,\n",
    "               max_consumption_rating    as max_consumption_power_wh,\n",
    "               usage_time                as usage_time\n",
    "    FROM temp_view_2) tmp\n",
    "    \n",
    "ON dim_app.home_appliance_key = tmp.home_appliance_key\n",
    "\n",
    "WHEN MATCHED AND (\n",
    "    dim_app.min_consumption_power_wh != tmp.min_consumption_power_wh OR\n",
    "    dim_app.max_consumption_power_wh != tmp.max_consumption_power_wh\n",
    ") THEN UPDATE SET \n",
    "    dim_app.min_consumption_power_wh = tmp.min_consumption_power_wh,\n",
    "    dim_app.max_consumption_power_wh = tmp.max_consumption_power_wh\n",
    "\n",
    "WHEN NOT MATCHED THEN INSERT *"
   ]
  },
  {
   "cell_type": "code",
   "execution_count": 150,
   "id": "8d5b32ee-984d-4395-8bea-d05227a4d5ca",
   "metadata": {},
   "outputs": [
    {
     "data": {
      "text/html": [
       "<table>\n",
       "    <thead>\n",
       "        <tr>\n",
       "            <th>home_appliance_key</th>\n",
       "            <th>home_key</th>\n",
       "            <th>appliance</th>\n",
       "            <th>min_consumption_power_wh</th>\n",
       "            <th>max_consumption_power_wh</th>\n",
       "            <th>usage_time</th>\n",
       "        </tr>\n",
       "    </thead>\n",
       "    <tbody>\n",
       "        <tr>\n",
       "            <td>1</td>\n",
       "            <td>1</td>\n",
       "            <td>Refrigerator</td>\n",
       "            <td>300.0</td>\n",
       "            <td>1500.0</td>\n",
       "            <td>00:00-24:00</td>\n",
       "        </tr>\n",
       "        <tr>\n",
       "            <td>2</td>\n",
       "            <td>1</td>\n",
       "            <td>Electric Oven</td>\n",
       "            <td>2000.0</td>\n",
       "            <td>5000.0</td>\n",
       "            <td>16:00-16:30,21:00-21:30</td>\n",
       "        </tr>\n",
       "        <tr>\n",
       "            <td>3</td>\n",
       "            <td>1</td>\n",
       "            <td>Electric Kettle</td>\n",
       "            <td>1500.0</td>\n",
       "            <td>1500.0</td>\n",
       "            <td>07:00-07:15,12:00-12:15,16:30-17:00,21:30-22:00</td>\n",
       "        </tr>\n",
       "        <tr>\n",
       "            <td>4</td>\n",
       "            <td>1</td>\n",
       "            <td>Air Conditioner</td>\n",
       "            <td>500.0</td>\n",
       "            <td>3000.0</td>\n",
       "            <td>00:00-24:00</td>\n",
       "        </tr>\n",
       "        <tr>\n",
       "            <td>5</td>\n",
       "            <td>1</td>\n",
       "            <td>Incandescent Light Bulbs</td>\n",
       "            <td>60.0</td>\n",
       "            <td>60.0</td>\n",
       "            <td>00:00-24:00</td>\n",
       "        </tr>\n",
       "        <tr>\n",
       "            <td>6</td>\n",
       "            <td>1</td>\n",
       "            <td>LED Light Bulbs</td>\n",
       "            <td>10.0</td>\n",
       "            <td>10.0</td>\n",
       "            <td>00:00-24:00</td>\n",
       "        </tr>\n",
       "        <tr>\n",
       "            <td>7</td>\n",
       "            <td>1</td>\n",
       "            <td>Laptop</td>\n",
       "            <td>50.0</td>\n",
       "            <td>100.0</td>\n",
       "            <td>00:00-24:00</td>\n",
       "        </tr>\n",
       "        <tr>\n",
       "            <td>8</td>\n",
       "            <td>1</td>\n",
       "            <td>Computer</td>\n",
       "            <td>100.0</td>\n",
       "            <td>600.0</td>\n",
       "            <td>00:00-24:00</td>\n",
       "        </tr>\n",
       "        <tr>\n",
       "            <td>9</td>\n",
       "            <td>1</td>\n",
       "            <td>LCD Monitor</td>\n",
       "            <td>50.0</td>\n",
       "            <td>300.0</td>\n",
       "            <td>10:00-12:00,16:00-20:00,22:00-24:00</td>\n",
       "        </tr>\n",
       "        <tr>\n",
       "            <td>10</td>\n",
       "            <td>1</td>\n",
       "            <td>Router</td>\n",
       "            <td>5.0</td>\n",
       "            <td>20.0</td>\n",
       "            <td>00:00-24:00</td>\n",
       "        </tr>\n",
       "        <tr>\n",
       "            <td>11</td>\n",
       "            <td>1</td>\n",
       "            <td>Smartphone Charger</td>\n",
       "            <td>5.0</td>\n",
       "            <td>5.0</td>\n",
       "            <td>00:00-24:00</td>\n",
       "        </tr>\n",
       "        <tr>\n",
       "            <td>12</td>\n",
       "            <td>1</td>\n",
       "            <td>Blow Dryer</td>\n",
       "            <td>800.0</td>\n",
       "            <td>1800.0</td>\n",
       "            <td>07:00-07:30,15:00-15:30</td>\n",
       "        </tr>\n",
       "        <tr>\n",
       "            <td>13</td>\n",
       "            <td>1</td>\n",
       "            <td>Iron</td>\n",
       "            <td>1000.0</td>\n",
       "            <td>1000.0</td>\n",
       "            <td>07:00-07:30,15:00-15:30</td>\n",
       "        </tr>\n",
       "        <tr>\n",
       "            <td>14</td>\n",
       "            <td>1</td>\n",
       "            <td>Washing Machine</td>\n",
       "            <td>500.0</td>\n",
       "            <td>1000.0</td>\n",
       "            <td>17:00-19:00</td>\n",
       "        </tr>\n",
       "        <tr>\n",
       "            <td>15</td>\n",
       "            <td>1</td>\n",
       "            <td>Water Heater</td>\n",
       "            <td>1000.0</td>\n",
       "            <td>4000.0</td>\n",
       "            <td>12:00-16:00</td>\n",
       "        </tr>\n",
       "        <tr>\n",
       "            <td>16</td>\n",
       "            <td>1</td>\n",
       "            <td>app</td>\n",
       "            <td>452.0</td>\n",
       "            <td>895.0</td>\n",
       "            <td>545454</td>\n",
       "        </tr>\n",
       "    </tbody>\n",
       "</table>"
      ],
      "text/plain": [
       "+--------------------+----------+--------------------------+--------------------------+--------------------------+-------------------------------------------------+\n",
       "| home_appliance_key | home_key |                appliance | min_consumption_power_wh | max_consumption_power_wh |                                      usage_time |\n",
       "+--------------------+----------+--------------------------+--------------------------+--------------------------+-------------------------------------------------+\n",
       "|                  1 |        1 |             Refrigerator |                    300.0 |                   1500.0 |                                     00:00-24:00 |\n",
       "|                  2 |        1 |            Electric Oven |                   2000.0 |                   5000.0 |                         16:00-16:30,21:00-21:30 |\n",
       "|                  3 |        1 |          Electric Kettle |                   1500.0 |                   1500.0 | 07:00-07:15,12:00-12:15,16:30-17:00,21:30-22:00 |\n",
       "|                  4 |        1 |          Air Conditioner |                    500.0 |                   3000.0 |                                     00:00-24:00 |\n",
       "|                  5 |        1 | Incandescent Light Bulbs |                     60.0 |                     60.0 |                                     00:00-24:00 |\n",
       "|                  6 |        1 |          LED Light Bulbs |                     10.0 |                     10.0 |                                     00:00-24:00 |\n",
       "|                  7 |        1 |                   Laptop |                     50.0 |                    100.0 |                                     00:00-24:00 |\n",
       "|                  8 |        1 |                 Computer |                    100.0 |                    600.0 |                                     00:00-24:00 |\n",
       "|                  9 |        1 |              LCD Monitor |                     50.0 |                    300.0 |             10:00-12:00,16:00-20:00,22:00-24:00 |\n",
       "|                 10 |        1 |                   Router |                      5.0 |                     20.0 |                                     00:00-24:00 |\n",
       "|                 11 |        1 |       Smartphone Charger |                      5.0 |                      5.0 |                                     00:00-24:00 |\n",
       "|                 12 |        1 |               Blow Dryer |                    800.0 |                   1800.0 |                         07:00-07:30,15:00-15:30 |\n",
       "|                 13 |        1 |                     Iron |                   1000.0 |                   1000.0 |                         07:00-07:30,15:00-15:30 |\n",
       "|                 14 |        1 |          Washing Machine |                    500.0 |                   1000.0 |                                     17:00-19:00 |\n",
       "|                 15 |        1 |             Water Heater |                   1000.0 |                   4000.0 |                                     12:00-16:00 |\n",
       "|                 16 |        1 |                      app |                    452.0 |                    895.0 |                                          545454 |\n",
       "+--------------------+----------+--------------------------+--------------------------+--------------------------+-------------------------------------------------+"
      ]
     },
     "execution_count": 150,
     "metadata": {},
     "output_type": "execute_result"
    }
   ],
   "source": [
    "%%sql\n",
    "\n",
    "SELECT * FROM SolarX_WH.dim_home_appliances"
   ]
  },
  {
   "cell_type": "code",
   "execution_count": null,
   "id": "65ab8b60-88b2-4a12-ad1a-16b2e64e63c2",
   "metadata": {},
   "outputs": [],
   "source": []
  },
  {
   "cell_type": "markdown",
   "id": "1c6ceeaf-5e6e-4342-ad5b-f8ea462dc83b",
   "metadata": {},
   "source": [
    "# Home dimension"
   ]
  },
  {
   "cell_type": "code",
   "execution_count": 113,
   "id": "45de7f90-6b7f-440b-b601-205c679ce331",
   "metadata": {},
   "outputs": [
    {
     "name": "stderr",
     "output_type": "stream",
     "text": [
      "                                                                                \r"
     ]
    },
    {
     "data": {
      "text/html": [
       "<table>\n",
       "    <thead>\n",
       "        <tr>\n",
       "        </tr>\n",
       "    </thead>\n",
       "    <tbody>\n",
       "    </tbody>\n",
       "</table>"
      ],
      "text/plain": [
       "++\n",
       "||\n",
       "++\n",
       "++"
      ]
     },
     "execution_count": 113,
     "metadata": {},
     "output_type": "execute_result"
    }
   ],
   "source": [
    "%%sql\n",
    "\n",
    "DROP TABLE IF EXISTS SolarX_WH.dim_home PURGE"
   ]
  },
  {
   "cell_type": "code",
   "execution_count": 114,
   "id": "6f99874f-7dc7-4909-9ee6-617576b9788c",
   "metadata": {},
   "outputs": [
    {
     "data": {
      "text/html": [
       "<table>\n",
       "    <thead>\n",
       "        <tr>\n",
       "        </tr>\n",
       "    </thead>\n",
       "    <tbody>\n",
       "    </tbody>\n",
       "</table>"
      ],
      "text/plain": [
       "++\n",
       "||\n",
       "++\n",
       "++"
      ]
     },
     "execution_count": 114,
     "metadata": {},
     "output_type": "execute_result"
    }
   ],
   "source": [
    "%%sql\n",
    "\n",
    "CREATE TABLE SolarX_WH.dim_home(\n",
    "    home_key                                   SMALLINT    NOT NULL,\n",
    "    min_consumption_power_wh                   FLOAT       NOT NULL,\n",
    "    max_consumption_power_wh                   FLOAT       NOT NULL,\n",
    "\n",
    "    -- scd type2 for min_consumption_power_wh\n",
    "    min_consumption_power_wh_start_date        TIMESTAMP   NOT NULL,\n",
    "    min_consumption_power_wh_end_date          TIMESTAMP,\n",
    "\n",
    "    -- scd type2 for max_consumption_power_wh\n",
    "    max_consumption_power_wh_start_date        TIMESTAMP  NOT NULL,\n",
    "    max_consumption_power_wh_end_date          TIMESTAMP,\n",
    "\n",
    "    current_flag                               BOOLEAN NOT NULL\n",
    ")\n",
    "USING iceberg;"
   ]
  },
  {
   "cell_type": "code",
   "execution_count": 115,
   "id": "a01f33f9-1f17-4eca-a165-3cfc05266923",
   "metadata": {},
   "outputs": [
    {
     "data": {
      "text/html": [
       "<table>\n",
       "    <thead>\n",
       "        <tr>\n",
       "            <th>col_name</th>\n",
       "            <th>data_type</th>\n",
       "            <th>comment</th>\n",
       "        </tr>\n",
       "    </thead>\n",
       "    <tbody>\n",
       "        <tr>\n",
       "            <td>home_key</td>\n",
       "            <td>int</td>\n",
       "            <td>None</td>\n",
       "        </tr>\n",
       "        <tr>\n",
       "            <td>min_consumption_power_wh</td>\n",
       "            <td>float</td>\n",
       "            <td>None</td>\n",
       "        </tr>\n",
       "        <tr>\n",
       "            <td>max_consumption_power_wh</td>\n",
       "            <td>float</td>\n",
       "            <td>None</td>\n",
       "        </tr>\n",
       "        <tr>\n",
       "            <td>min_consumption_power_wh_start_date</td>\n",
       "            <td>timestamp</td>\n",
       "            <td>None</td>\n",
       "        </tr>\n",
       "        <tr>\n",
       "            <td>min_consumption_power_wh_end_date</td>\n",
       "            <td>timestamp</td>\n",
       "            <td>None</td>\n",
       "        </tr>\n",
       "        <tr>\n",
       "            <td>max_consumption_power_wh_start_date</td>\n",
       "            <td>timestamp</td>\n",
       "            <td>None</td>\n",
       "        </tr>\n",
       "        <tr>\n",
       "            <td>max_consumption_power_wh_end_date</td>\n",
       "            <td>timestamp</td>\n",
       "            <td>None</td>\n",
       "        </tr>\n",
       "        <tr>\n",
       "            <td>current_flag</td>\n",
       "            <td>boolean</td>\n",
       "            <td>None</td>\n",
       "        </tr>\n",
       "    </tbody>\n",
       "</table>"
      ],
      "text/plain": [
       "+-------------------------------------+-----------+---------+\n",
       "|                            col_name | data_type | comment |\n",
       "+-------------------------------------+-----------+---------+\n",
       "|                            home_key |       int |    None |\n",
       "|            min_consumption_power_wh |     float |    None |\n",
       "|            max_consumption_power_wh |     float |    None |\n",
       "| min_consumption_power_wh_start_date | timestamp |    None |\n",
       "|   min_consumption_power_wh_end_date | timestamp |    None |\n",
       "| max_consumption_power_wh_start_date | timestamp |    None |\n",
       "|   max_consumption_power_wh_end_date | timestamp |    None |\n",
       "|                        current_flag |   boolean |    None |\n",
       "+-------------------------------------+-----------+---------+"
      ]
     },
     "execution_count": 115,
     "metadata": {},
     "output_type": "execute_result"
    }
   ],
   "source": [
    "%%sql\n",
    "\n",
    "DESCRIBE SolarX_WH.dim_home"
   ]
  },
  {
   "cell_type": "code",
   "execution_count": 116,
   "id": "64b20af5-14bc-4f0b-a295-5b1dd0f0facd",
   "metadata": {},
   "outputs": [
    {
     "data": {
      "text/html": [
       "<table>\n",
       "    <thead>\n",
       "        <tr>\n",
       "            <th>home_key</th>\n",
       "            <th>min_consumption_power_wh</th>\n",
       "            <th>max_consumption_power_wh</th>\n",
       "        </tr>\n",
       "    </thead>\n",
       "    <tbody>\n",
       "        <tr>\n",
       "            <td>1</td>\n",
       "            <td>7880.0</td>\n",
       "            <td>19895.0</td>\n",
       "        </tr>\n",
       "    </tbody>\n",
       "</table>"
      ],
      "text/plain": [
       "+----------+--------------------------+--------------------------+\n",
       "| home_key | min_consumption_power_wh | max_consumption_power_wh |\n",
       "+----------+--------------------------+--------------------------+\n",
       "|        1 |                   7880.0 |                  19895.0 |\n",
       "+----------+--------------------------+--------------------------+"
      ]
     },
     "execution_count": 116,
     "metadata": {},
     "output_type": "execute_result"
    }
   ],
   "source": [
    "%%sql \n",
    "SELECT home_key, SUM(min_consumption_power_wh) as min_consumption_power_wh,\n",
    "              SUM(max_consumption_power_wh) as max_consumption_power_wh \n",
    "       FROM SolarX_WH.dim_home_appliances\n",
    "GROUP BY home_key"
   ]
  },
  {
   "cell_type": "code",
   "execution_count": 151,
   "id": "1e9325bb-57a8-4981-9e07-b94b36acf84f",
   "metadata": {},
   "outputs": [
    {
     "name": "stderr",
     "output_type": "stream",
     "text": [
      "                                                                                \r"
     ]
    },
    {
     "data": {
      "text/html": [
       "<table>\n",
       "    <thead>\n",
       "        <tr>\n",
       "        </tr>\n",
       "    </thead>\n",
       "    <tbody>\n",
       "    </tbody>\n",
       "</table>"
      ],
      "text/plain": [
       "++\n",
       "||\n",
       "++\n",
       "++"
      ]
     },
     "execution_count": 151,
     "metadata": {},
     "output_type": "execute_result"
    }
   ],
   "source": [
    "%%sql\n",
    "\n",
    "MERGE INTO SolarX_WH.dim_home dim_home\n",
    "USING (\n",
    "    SELECT \n",
    "        home_key, \n",
    "        SUM(min_consumption_power_wh) AS min_consumption_power_wh,\n",
    "        SUM(max_consumption_power_wh) AS max_consumption_power_wh \n",
    "    FROM SolarX_WH.dim_home_appliances\n",
    "    GROUP BY home_key\n",
    ") dim_app\n",
    "ON dim_home.home_key = dim_app.home_key AND dim_home.current_flag = TRUE\n",
    "\n",
    "WHEN MATCHED AND (\n",
    "    dim_home.max_consumption_power_wh != dim_app.max_consumption_power_wh OR\n",
    "    dim_home.min_consumption_power_wh != dim_app.min_consumption_power_wh\n",
    ") THEN UPDATE SET \n",
    "    dim_home.min_consumption_power_wh_end_date = NOW(),\n",
    "    dim_home.max_consumption_power_wh_end_date = NOW(),\n",
    "    dim_home.current_flag = FALSE;"
   ]
  },
  {
   "cell_type": "code",
   "execution_count": 152,
   "id": "8f74f957-9003-4625-94f0-e109469611e0",
   "metadata": {},
   "outputs": [
    {
     "data": {
      "text/html": [
       "<table>\n",
       "    <thead>\n",
       "        <tr>\n",
       "        </tr>\n",
       "    </thead>\n",
       "    <tbody>\n",
       "    </tbody>\n",
       "</table>"
      ],
      "text/plain": [
       "++\n",
       "||\n",
       "++\n",
       "++"
      ]
     },
     "execution_count": 152,
     "metadata": {},
     "output_type": "execute_result"
    }
   ],
   "source": [
    "%%sql\n",
    "\n",
    "MERGE INTO SolarX_WH.dim_home dim_home\n",
    "USING (\n",
    "    SELECT \n",
    "        home_key, \n",
    "        SUM(min_consumption_power_wh) AS min_consumption_power_wh,\n",
    "        SUM(max_consumption_power_wh) AS max_consumption_power_wh \n",
    "    FROM SolarX_WH.dim_home_appliances\n",
    "    GROUP BY home_key\n",
    ") dim_app\n",
    "ON dim_home.home_key = dim_app.home_key AND dim_home.current_flag = TRUE\n",
    "\n",
    "WHEN NOT MATCHED THEN \n",
    "INSERT (\n",
    "    home_key,\n",
    "    min_consumption_power_wh, \n",
    "    max_consumption_power_wh,\n",
    "    min_consumption_power_wh_start_date,\n",
    "    min_consumption_power_wh_end_date,\n",
    "    max_consumption_power_wh_start_date,\n",
    "    max_consumption_power_wh_end_date,\n",
    "    current_flag\n",
    ") VALUES (\n",
    "    dim_app.home_key,\n",
    "    dim_app.min_consumption_power_wh,\n",
    "    dim_app.max_consumption_power_wh,\n",
    "    NOW(),\n",
    "    NULL,\n",
    "    NOW(),\n",
    "    NULL,\n",
    "    TRUE\n",
    ");"
   ]
  },
  {
   "cell_type": "code",
   "execution_count": 153,
   "id": "48de2b21-e143-454b-80b7-2c04a1f0681f",
   "metadata": {},
   "outputs": [
    {
     "data": {
      "text/html": [
       "<table>\n",
       "    <thead>\n",
       "        <tr>\n",
       "            <th>home_key</th>\n",
       "            <th>min_consumption_power_wh</th>\n",
       "            <th>max_consumption_power_wh</th>\n",
       "            <th>min_consumption_power_wh_start_date</th>\n",
       "            <th>min_consumption_power_wh_end_date</th>\n",
       "            <th>max_consumption_power_wh_start_date</th>\n",
       "            <th>max_consumption_power_wh_end_date</th>\n",
       "            <th>current_flag</th>\n",
       "        </tr>\n",
       "    </thead>\n",
       "    <tbody>\n",
       "        <tr>\n",
       "            <td>1</td>\n",
       "            <td>22880.0</td>\n",
       "            <td>34895.0</td>\n",
       "            <td>2025-01-03 02:53:51.311170</td>\n",
       "            <td>2025-01-03 02:59:04.925843</td>\n",
       "            <td>2025-01-03 02:53:51.311170</td>\n",
       "            <td>2025-01-03 02:59:04.925843</td>\n",
       "            <td>False</td>\n",
       "        </tr>\n",
       "        <tr>\n",
       "            <td>1</td>\n",
       "            <td>8332.0</td>\n",
       "            <td>20790.0</td>\n",
       "            <td>2025-01-03 02:59:06.361727</td>\n",
       "            <td>None</td>\n",
       "            <td>2025-01-03 02:59:06.361727</td>\n",
       "            <td>None</td>\n",
       "            <td>True</td>\n",
       "        </tr>\n",
       "        <tr>\n",
       "            <td>1</td>\n",
       "            <td>7880.0</td>\n",
       "            <td>19895.0</td>\n",
       "            <td>2025-01-03 02:36:45.591559</td>\n",
       "            <td>2025-01-03 02:53:42.315472</td>\n",
       "            <td>2025-01-03 02:36:45.591559</td>\n",
       "            <td>2025-01-03 02:53:42.315472</td>\n",
       "            <td>False</td>\n",
       "        </tr>\n",
       "    </tbody>\n",
       "</table>"
      ],
      "text/plain": [
       "+----------+--------------------------+--------------------------+-------------------------------------+-----------------------------------+-------------------------------------+-----------------------------------+--------------+\n",
       "| home_key | min_consumption_power_wh | max_consumption_power_wh | min_consumption_power_wh_start_date | min_consumption_power_wh_end_date | max_consumption_power_wh_start_date | max_consumption_power_wh_end_date | current_flag |\n",
       "+----------+--------------------------+--------------------------+-------------------------------------+-----------------------------------+-------------------------------------+-----------------------------------+--------------+\n",
       "|        1 |                  22880.0 |                  34895.0 |          2025-01-03 02:53:51.311170 |        2025-01-03 02:59:04.925843 |          2025-01-03 02:53:51.311170 |        2025-01-03 02:59:04.925843 |        False |\n",
       "|        1 |                   8332.0 |                  20790.0 |          2025-01-03 02:59:06.361727 |                              None |          2025-01-03 02:59:06.361727 |                              None |         True |\n",
       "|        1 |                   7880.0 |                  19895.0 |          2025-01-03 02:36:45.591559 |        2025-01-03 02:53:42.315472 |          2025-01-03 02:36:45.591559 |        2025-01-03 02:53:42.315472 |        False |\n",
       "+----------+--------------------------+--------------------------+-------------------------------------+-----------------------------------+-------------------------------------+-----------------------------------+--------------+"
      ]
     },
     "execution_count": 153,
     "metadata": {},
     "output_type": "execute_result"
    }
   ],
   "source": [
    "%%sql\n",
    "\n",
    "SELECT * FROM SolarX_WH.dim_home LIMIT 10"
   ]
  },
  {
   "cell_type": "code",
   "execution_count": null,
   "id": "84f08199-5a7e-409d-8a1b-ce3b1ae89a1e",
   "metadata": {},
   "outputs": [],
   "source": []
  },
  {
   "cell_type": "code",
   "execution_count": null,
   "id": "7c59e200-d3f3-43a9-a8b6-f492032048cb",
   "metadata": {},
   "outputs": [],
   "source": []
  },
  {
   "cell_type": "code",
   "execution_count": null,
   "id": "8f29da48-5790-41d7-ab22-8e0d80a3fa69",
   "metadata": {},
   "outputs": [],
   "source": []
  },
  {
   "cell_type": "code",
   "execution_count": null,
   "id": "928d6646-3da6-4d4c-a792-6bc75974af0c",
   "metadata": {},
   "outputs": [],
   "source": []
  },
  {
   "cell_type": "code",
   "execution_count": 154,
   "id": "9b3e958e-f9ae-4b47-a011-a1a054635067",
   "metadata": {},
   "outputs": [],
   "source": [
    "spark.stop()"
   ]
  },
  {
   "cell_type": "code",
   "execution_count": null,
   "id": "0c9f6621-0d5b-4c01-879b-3554720292ef",
   "metadata": {},
   "outputs": [],
   "source": []
  },
  {
   "cell_type": "code",
   "execution_count": null,
   "id": "e09d3e42-2502-4172-ac17-10d554bdeaf1",
   "metadata": {},
   "outputs": [],
   "source": []
  },
  {
   "cell_type": "code",
   "execution_count": null,
   "id": "0d7fd7d4-5bbc-4535-92bf-a8879e8f242c",
   "metadata": {},
   "outputs": [],
   "source": []
  },
  {
   "cell_type": "code",
   "execution_count": null,
   "id": "6e53e41a-b90c-4de4-bed3-6b15a83e93c2",
   "metadata": {},
   "outputs": [],
   "source": []
  },
  {
   "cell_type": "code",
   "execution_count": null,
   "id": "3f923bb9-0f57-4949-8f34-718bfaea549f",
   "metadata": {},
   "outputs": [],
   "source": []
  },
  {
   "cell_type": "code",
   "execution_count": null,
   "id": "c6c1b3e5-e3bd-48fb-a2af-35a62b29a335",
   "metadata": {},
   "outputs": [],
   "source": []
  }
 ],
 "metadata": {
  "kernelspec": {
   "display_name": "Python 3 (ipykernel)",
   "language": "python",
   "name": "python3"
  },
  "language_info": {
   "codemirror_mode": {
    "name": "ipython",
    "version": 3
   },
   "file_extension": ".py",
   "mimetype": "text/x-python",
   "name": "python",
   "nbconvert_exporter": "python",
   "pygments_lexer": "ipython3",
   "version": "3.9.18"
  }
 },
 "nbformat": 4,
 "nbformat_minor": 5
}
